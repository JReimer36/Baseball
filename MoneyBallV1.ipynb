{
 "cells": [
  {
   "cell_type": "code",
   "execution_count": 1,
   "metadata": {},
   "outputs": [],
   "source": [
    "import pandas as pd\n",
    "import matplotlib.pyplot as plt\n",
    "import seaborn as sns\n",
    "import numpy as np"
   ]
  },
  {
   "cell_type": "markdown",
   "metadata": {},
   "source": [
    "# Get data"
   ]
  },
  {
   "cell_type": "code",
   "execution_count": 2,
   "metadata": {},
   "outputs": [],
   "source": [
    "team_stats = pd.read_csv('Baseball_TeamStats.csv')\n",
    "player_stats = pd.read_csv('BattersAggregate.csv')"
   ]
  },
  {
   "cell_type": "code",
   "execution_count": 3,
   "metadata": {},
   "outputs": [],
   "source": [
    "player_stats = player_stats.dropna()\n",
    "team_stats = team_stats.dropna()"
   ]
  },
  {
   "cell_type": "code",
   "execution_count": 4,
   "metadata": {},
   "outputs": [],
   "source": [
    "# Limit analysis to players with over 100 plate appearances\n",
    "player_stats = player_stats[player_stats['PA'] > 100]"
   ]
  },
  {
   "cell_type": "code",
   "execution_count": 5,
   "metadata": {},
   "outputs": [
    {
     "data": {
      "text/html": [
       "<div>\n",
       "<style scoped>\n",
       "    .dataframe tbody tr th:only-of-type {\n",
       "        vertical-align: middle;\n",
       "    }\n",
       "\n",
       "    .dataframe tbody tr th {\n",
       "        vertical-align: top;\n",
       "    }\n",
       "\n",
       "    .dataframe thead th {\n",
       "        text-align: right;\n",
       "    }\n",
       "</style>\n",
       "<table border=\"1\" class=\"dataframe\">\n",
       "  <thead>\n",
       "    <tr style=\"text-align: right;\">\n",
       "      <th></th>\n",
       "      <th>Tm</th>\n",
       "      <th>BatAge</th>\n",
       "      <th>G</th>\n",
       "      <th>Wins</th>\n",
       "      <th>PA</th>\n",
       "      <th>AB</th>\n",
       "      <th>R</th>\n",
       "      <th>H</th>\n",
       "      <th>2B</th>\n",
       "      <th>3B</th>\n",
       "      <th>...</th>\n",
       "      <th>CS</th>\n",
       "      <th>BB</th>\n",
       "      <th>SO</th>\n",
       "      <th>BA</th>\n",
       "      <th>OBP</th>\n",
       "      <th>SLG</th>\n",
       "      <th>OPS</th>\n",
       "      <th>HBP</th>\n",
       "      <th>WAR</th>\n",
       "      <th>Salary</th>\n",
       "    </tr>\n",
       "  </thead>\n",
       "  <tbody>\n",
       "    <tr>\n",
       "      <th>0</th>\n",
       "      <td>ARI</td>\n",
       "      <td>28.7</td>\n",
       "      <td>162.0</td>\n",
       "      <td>85.0</td>\n",
       "      <td>6315.0</td>\n",
       "      <td>5633.0</td>\n",
       "      <td>813.0</td>\n",
       "      <td>1419.0</td>\n",
       "      <td>288.0</td>\n",
       "      <td>40.0</td>\n",
       "      <td>...</td>\n",
       "      <td>14.0</td>\n",
       "      <td>540.0</td>\n",
       "      <td>1360.0</td>\n",
       "      <td>0.252</td>\n",
       "      <td>0.323</td>\n",
       "      <td>0.434</td>\n",
       "      <td>0.757</td>\n",
       "      <td>70.0</td>\n",
       "      <td>25.2</td>\n",
       "      <td>119116666.0</td>\n",
       "    </tr>\n",
       "    <tr>\n",
       "      <th>1</th>\n",
       "      <td>ATL</td>\n",
       "      <td>28.0</td>\n",
       "      <td>162.0</td>\n",
       "      <td>97.0</td>\n",
       "      <td>6302.0</td>\n",
       "      <td>5560.0</td>\n",
       "      <td>855.0</td>\n",
       "      <td>1432.0</td>\n",
       "      <td>277.0</td>\n",
       "      <td>29.0</td>\n",
       "      <td>...</td>\n",
       "      <td>28.0</td>\n",
       "      <td>619.0</td>\n",
       "      <td>1467.0</td>\n",
       "      <td>0.258</td>\n",
       "      <td>0.336</td>\n",
       "      <td>0.452</td>\n",
       "      <td>0.789</td>\n",
       "      <td>60.0</td>\n",
       "      <td>23.4</td>\n",
       "      <td>130561667.0</td>\n",
       "    </tr>\n",
       "    <tr>\n",
       "      <th>2</th>\n",
       "      <td>BAL</td>\n",
       "      <td>26.5</td>\n",
       "      <td>162.0</td>\n",
       "      <td>54.0</td>\n",
       "      <td>6189.0</td>\n",
       "      <td>5596.0</td>\n",
       "      <td>729.0</td>\n",
       "      <td>1379.0</td>\n",
       "      <td>252.0</td>\n",
       "      <td>25.0</td>\n",
       "      <td>...</td>\n",
       "      <td>30.0</td>\n",
       "      <td>462.0</td>\n",
       "      <td>1435.0</td>\n",
       "      <td>0.246</td>\n",
       "      <td>0.310</td>\n",
       "      <td>0.415</td>\n",
       "      <td>0.725</td>\n",
       "      <td>71.0</td>\n",
       "      <td>10.8</td>\n",
       "      <td>82696100.0</td>\n",
       "    </tr>\n",
       "    <tr>\n",
       "      <th>3</th>\n",
       "      <td>BOS</td>\n",
       "      <td>27.3</td>\n",
       "      <td>162.0</td>\n",
       "      <td>84.0</td>\n",
       "      <td>6475.0</td>\n",
       "      <td>5770.0</td>\n",
       "      <td>901.0</td>\n",
       "      <td>1554.0</td>\n",
       "      <td>345.0</td>\n",
       "      <td>27.0</td>\n",
       "      <td>...</td>\n",
       "      <td>30.0</td>\n",
       "      <td>590.0</td>\n",
       "      <td>1382.0</td>\n",
       "      <td>0.269</td>\n",
       "      <td>0.340</td>\n",
       "      <td>0.466</td>\n",
       "      <td>0.806</td>\n",
       "      <td>49.0</td>\n",
       "      <td>24.6</td>\n",
       "      <td>207205000.0</td>\n",
       "    </tr>\n",
       "    <tr>\n",
       "      <th>4</th>\n",
       "      <td>CHC</td>\n",
       "      <td>27.7</td>\n",
       "      <td>162.0</td>\n",
       "      <td>84.0</td>\n",
       "      <td>6195.0</td>\n",
       "      <td>5461.0</td>\n",
       "      <td>814.0</td>\n",
       "      <td>1378.0</td>\n",
       "      <td>270.0</td>\n",
       "      <td>26.0</td>\n",
       "      <td>...</td>\n",
       "      <td>24.0</td>\n",
       "      <td>581.0</td>\n",
       "      <td>1460.0</td>\n",
       "      <td>0.252</td>\n",
       "      <td>0.331</td>\n",
       "      <td>0.452</td>\n",
       "      <td>0.783</td>\n",
       "      <td>83.0</td>\n",
       "      <td>21.0</td>\n",
       "      <td>204630215.0</td>\n",
       "    </tr>\n",
       "  </tbody>\n",
       "</table>\n",
       "<p>5 rows × 23 columns</p>\n",
       "</div>"
      ],
      "text/plain": [
       "    Tm  BatAge      G  Wins      PA      AB      R       H     2B    3B  ...  \\\n",
       "0  ARI    28.7  162.0  85.0  6315.0  5633.0  813.0  1419.0  288.0  40.0  ...   \n",
       "1  ATL    28.0  162.0  97.0  6302.0  5560.0  855.0  1432.0  277.0  29.0  ...   \n",
       "2  BAL    26.5  162.0  54.0  6189.0  5596.0  729.0  1379.0  252.0  25.0  ...   \n",
       "3  BOS    27.3  162.0  84.0  6475.0  5770.0  901.0  1554.0  345.0  27.0  ...   \n",
       "4  CHC    27.7  162.0  84.0  6195.0  5461.0  814.0  1378.0  270.0  26.0  ...   \n",
       "\n",
       "     CS     BB      SO     BA    OBP    SLG    OPS   HBP   WAR       Salary  \n",
       "0  14.0  540.0  1360.0  0.252  0.323  0.434  0.757  70.0  25.2  119116666.0  \n",
       "1  28.0  619.0  1467.0  0.258  0.336  0.452  0.789  60.0  23.4  130561667.0  \n",
       "2  30.0  462.0  1435.0  0.246  0.310  0.415  0.725  71.0  10.8   82696100.0  \n",
       "3  30.0  590.0  1382.0  0.269  0.340  0.466  0.806  49.0  24.6  207205000.0  \n",
       "4  24.0  581.0  1460.0  0.252  0.331  0.452  0.783  83.0  21.0  204630215.0  \n",
       "\n",
       "[5 rows x 23 columns]"
      ]
     },
     "execution_count": 5,
     "metadata": {},
     "output_type": "execute_result"
    }
   ],
   "source": [
    "team_stats.head()"
   ]
  },
  {
   "cell_type": "code",
   "execution_count": 6,
   "metadata": {},
   "outputs": [
    {
     "data": {
      "text/html": [
       "<div>\n",
       "<style scoped>\n",
       "    .dataframe tbody tr th:only-of-type {\n",
       "        vertical-align: middle;\n",
       "    }\n",
       "\n",
       "    .dataframe tbody tr th {\n",
       "        vertical-align: top;\n",
       "    }\n",
       "\n",
       "    .dataframe thead th {\n",
       "        text-align: right;\n",
       "    }\n",
       "</style>\n",
       "<table border=\"1\" class=\"dataframe\">\n",
       "  <thead>\n",
       "    <tr style=\"text-align: right;\">\n",
       "      <th></th>\n",
       "      <th>Name</th>\n",
       "      <th>Pos</th>\n",
       "      <th>TM</th>\n",
       "      <th>Age</th>\n",
       "      <th>G</th>\n",
       "      <th>PA</th>\n",
       "      <th>AB</th>\n",
       "      <th>R</th>\n",
       "      <th>H</th>\n",
       "      <th>2B</th>\n",
       "      <th>...</th>\n",
       "      <th>BB</th>\n",
       "      <th>SO</th>\n",
       "      <th>BA</th>\n",
       "      <th>OBP</th>\n",
       "      <th>SLG</th>\n",
       "      <th>OPS</th>\n",
       "      <th>Height</th>\n",
       "      <th>Weight</th>\n",
       "      <th>BMI</th>\n",
       "      <th>Salary</th>\n",
       "    </tr>\n",
       "  </thead>\n",
       "  <tbody>\n",
       "    <tr>\n",
       "      <th>0</th>\n",
       "      <td>A.J. Pollock</td>\n",
       "      <td>CF</td>\n",
       "      <td>LAD</td>\n",
       "      <td>31</td>\n",
       "      <td>86</td>\n",
       "      <td>342</td>\n",
       "      <td>308</td>\n",
       "      <td>49</td>\n",
       "      <td>82</td>\n",
       "      <td>15</td>\n",
       "      <td>...</td>\n",
       "      <td>23</td>\n",
       "      <td>74</td>\n",
       "      <td>0.266</td>\n",
       "      <td>0.327</td>\n",
       "      <td>0.468</td>\n",
       "      <td>0.795</td>\n",
       "      <td>73</td>\n",
       "      <td>212</td>\n",
       "      <td>28.0</td>\n",
       "      <td>4000000.0</td>\n",
       "    </tr>\n",
       "    <tr>\n",
       "      <th>3</th>\n",
       "      <td>Aaron Judge</td>\n",
       "      <td>RF</td>\n",
       "      <td>NYY</td>\n",
       "      <td>27</td>\n",
       "      <td>102</td>\n",
       "      <td>447</td>\n",
       "      <td>378</td>\n",
       "      <td>75</td>\n",
       "      <td>103</td>\n",
       "      <td>18</td>\n",
       "      <td>...</td>\n",
       "      <td>64</td>\n",
       "      <td>141</td>\n",
       "      <td>0.272</td>\n",
       "      <td>0.381</td>\n",
       "      <td>0.540</td>\n",
       "      <td>0.921</td>\n",
       "      <td>79</td>\n",
       "      <td>282</td>\n",
       "      <td>31.8</td>\n",
       "      <td>684300.0</td>\n",
       "    </tr>\n",
       "    <tr>\n",
       "      <th>7</th>\n",
       "      <td>Adalberto Mondesi</td>\n",
       "      <td>SS</td>\n",
       "      <td>KCR</td>\n",
       "      <td>23</td>\n",
       "      <td>102</td>\n",
       "      <td>443</td>\n",
       "      <td>415</td>\n",
       "      <td>58</td>\n",
       "      <td>109</td>\n",
       "      <td>20</td>\n",
       "      <td>...</td>\n",
       "      <td>19</td>\n",
       "      <td>132</td>\n",
       "      <td>0.263</td>\n",
       "      <td>0.291</td>\n",
       "      <td>0.424</td>\n",
       "      <td>0.715</td>\n",
       "      <td>73</td>\n",
       "      <td>190</td>\n",
       "      <td>25.1</td>\n",
       "      <td>576000.0</td>\n",
       "    </tr>\n",
       "    <tr>\n",
       "      <th>9</th>\n",
       "      <td>Adam Eaton</td>\n",
       "      <td>RF</td>\n",
       "      <td>WAS</td>\n",
       "      <td>30</td>\n",
       "      <td>151</td>\n",
       "      <td>656</td>\n",
       "      <td>566</td>\n",
       "      <td>103</td>\n",
       "      <td>158</td>\n",
       "      <td>25</td>\n",
       "      <td>...</td>\n",
       "      <td>65</td>\n",
       "      <td>106</td>\n",
       "      <td>0.279</td>\n",
       "      <td>0.365</td>\n",
       "      <td>0.428</td>\n",
       "      <td>0.792</td>\n",
       "      <td>69</td>\n",
       "      <td>176</td>\n",
       "      <td>26.0</td>\n",
       "      <td>8400000.0</td>\n",
       "    </tr>\n",
       "    <tr>\n",
       "      <th>10</th>\n",
       "      <td>Adam Engel</td>\n",
       "      <td>CF</td>\n",
       "      <td>CHW</td>\n",
       "      <td>27</td>\n",
       "      <td>89</td>\n",
       "      <td>248</td>\n",
       "      <td>227</td>\n",
       "      <td>26</td>\n",
       "      <td>55</td>\n",
       "      <td>10</td>\n",
       "      <td>...</td>\n",
       "      <td>14</td>\n",
       "      <td>78</td>\n",
       "      <td>0.242</td>\n",
       "      <td>0.304</td>\n",
       "      <td>0.383</td>\n",
       "      <td>0.687</td>\n",
       "      <td>74</td>\n",
       "      <td>210</td>\n",
       "      <td>27.0</td>\n",
       "      <td>571000.0</td>\n",
       "    </tr>\n",
       "  </tbody>\n",
       "</table>\n",
       "<p>5 rows × 25 columns</p>\n",
       "</div>"
      ],
      "text/plain": [
       "                 Name Pos   TM  Age    G   PA   AB    R    H  2B  ...  BB  \\\n",
       "0        A.J. Pollock  CF  LAD   31   86  342  308   49   82  15  ...  23   \n",
       "3         Aaron Judge  RF  NYY   27  102  447  378   75  103  18  ...  64   \n",
       "7   Adalberto Mondesi  SS  KCR   23  102  443  415   58  109  20  ...  19   \n",
       "9          Adam Eaton  RF  WAS   30  151  656  566  103  158  25  ...  65   \n",
       "10         Adam Engel  CF  CHW   27   89  248  227   26   55  10  ...  14   \n",
       "\n",
       "     SO     BA    OBP    SLG    OPS  Height  Weight   BMI     Salary  \n",
       "0    74  0.266  0.327  0.468  0.795      73     212  28.0  4000000.0  \n",
       "3   141  0.272  0.381  0.540  0.921      79     282  31.8   684300.0  \n",
       "7   132  0.263  0.291  0.424  0.715      73     190  25.1   576000.0  \n",
       "9   106  0.279  0.365  0.428  0.792      69     176  26.0  8400000.0  \n",
       "10   78  0.242  0.304  0.383  0.687      74     210  27.0   571000.0  \n",
       "\n",
       "[5 rows x 25 columns]"
      ]
     },
     "execution_count": 6,
     "metadata": {},
     "output_type": "execute_result"
    }
   ],
   "source": [
    "player_stats.head()"
   ]
  },
  {
   "cell_type": "code",
   "execution_count": 7,
   "metadata": {},
   "outputs": [
    {
     "data": {
      "text/plain": [
       "<AxesSubplot:xlabel='Salary', ylabel='Count'>"
      ]
     },
     "execution_count": 7,
     "metadata": {},
     "output_type": "execute_result"
    },
    {
     "data": {
      "image/png": "[encoded data removed]",
      "text/plain": [
       "<Figure size 432x288 with 1 Axes>"
      ]
     },
     "metadata": {},
     "output_type": "display_data"
    }
   ],
   "source": [
    "sns.set_style('darkgrid')\n",
    "sns.histplot(data=player_stats, x='Salary')"
   ]
  },
  {
   "cell_type": "markdown",
   "metadata": {},
   "source": [
    "## Big difference in salaries, most are under a million <br> Let's take a closer look"
   ]
  },
  {
   "cell_type": "code",
   "execution_count": 8,
   "metadata": {},
   "outputs": [],
   "source": [
    "import collections"
   ]
  },
  {
   "cell_type": "code",
   "execution_count": 9,
   "metadata": {},
   "outputs": [],
   "source": [
    "salary_counts = collections.Counter(player_stats['Salary'])"
   ]
  },
  {
   "cell_type": "code",
   "execution_count": 10,
   "metadata": {},
   "outputs": [
    {
     "data": {
      "text/plain": [
       "[(10000.0, 1),\n",
       " (59320.0, 1),\n",
       " (100000.0, 3),\n",
       " (550000.0, 1),\n",
       " (555000.0, 43),\n",
       " (556300.0, 2),\n",
       " (556400.0, 1),\n",
       " (557000.0, 2),\n",
       " (557125.0, 1),\n",
       " (557400.0, 1),\n",
       " (557500.0, 4),\n",
       " (557650.0, 1),\n",
       " (557800.0, 1),\n",
       " (558000.0, 1),\n",
       " (558125.0, 1),\n",
       " (558400.0, 1),\n",
       " (558500.0, 2),\n",
       " (558600.0, 1),\n",
       " (558700.0, 1),\n",
       " (559000.0, 2),\n",
       " (559400.0, 1),\n",
       " (559800.0, 1),\n",
       " (560000.0, 13),\n",
       " (560100.0, 1),\n",
       " (560400.0, 2),\n",
       " (561000.0, 1),\n",
       " (561420.0, 1),\n",
       " (561500.0, 2),\n",
       " (562000.0, 2),\n",
       " (562400.0, 1),\n",
       " (563300.0, 1),\n",
       " (563500.0, 1),\n",
       " (564000.0, 2),\n",
       " (565000.0, 5),\n",
       " (565500.0, 1),\n",
       " (565700.0, 1),\n",
       " (567000.0, 1),\n",
       " (567100.0, 1),\n",
       " (567225.0, 1),\n",
       " (567500.0, 1),\n",
       " (567700.0, 1),\n",
       " (567714.0, 1),\n",
       " (568000.0, 1),\n",
       " (568600.0, 1),\n",
       " (569500.0, 2),\n",
       " (570000.0, 3),\n",
       " (570300.0, 1),\n",
       " (570400.0, 1),\n",
       " (570500.0, 1),\n",
       " (571000.0, 1),\n",
       " (571765.0, 1),\n",
       " (572000.0, 1),\n",
       " (572500.0, 2),\n",
       " (573200.0, 1),\n",
       " (574800.0, 1),\n",
       " (575000.0, 6),\n",
       " (575500.0, 2),\n",
       " (576000.0, 1),\n",
       " (577000.0, 1),\n",
       " (577100.0, 1),\n",
       " (578000.0, 1),\n",
       " (578300.0, 2),\n",
       " (578400.0, 1),\n",
       " (578500.0, 1),\n",
       " (578600.0, 1),\n",
       " (579000.0, 1),\n",
       " (579500.0, 1),\n",
       " (579800.0, 1),\n",
       " (580000.0, 2),\n",
       " (581000.0, 1),\n",
       " (581200.0, 1),\n",
       " (582000.0, 1),\n",
       " (582100.0, 1),\n",
       " (583000.0, 2),\n",
       " (584000.0, 1),\n",
       " (585000.0, 1),\n",
       " (587000.0, 1),\n",
       " (590000.0, 1),\n",
       " (590100.0, 1),\n",
       " (598285.0, 1),\n",
       " (605000.0, 3),\n",
       " (614000.0, 1),\n",
       " (615500.0, 1),\n",
       " (637000.0, 1),\n",
       " (640000.0, 1),\n",
       " (669800.0, 1),\n",
       " (670000.0, 1),\n",
       " (684000.0, 1),\n",
       " (684300.0, 1),\n",
       " (717500.0, 1),\n",
       " (782000.0, 1),\n",
       " (850000.0, 1),\n",
       " (910000.0, 1),\n",
       " (950000.0, 1),\n",
       " (960000.0, 1),\n",
       " (1000000.0, 4),\n",
       " (1075000.0, 1),\n",
       " (1125000.0, 1),\n",
       " (1137000.0, 1),\n",
       " (1250000.0, 1),\n",
       " (1300000.0, 2),\n",
       " (1350000.0, 1),\n",
       " (1400000.0, 2),\n",
       " (1500000.0, 4),\n",
       " (1550000.0, 1),\n",
       " (1600000.0, 1),\n",
       " (1666667.0, 1),\n",
       " (1750000.0, 3),\n",
       " (1800000.0, 1),\n",
       " (1833333.0, 1),\n",
       " (1928571.0, 1),\n",
       " (1950000.0, 1),\n",
       " (2000000.0, 6),\n",
       " (2050000.0, 1),\n",
       " (2060000.0, 1),\n",
       " (2100000.0, 1),\n",
       " (2212000.0, 1),\n",
       " (2400000.0, 1),\n",
       " (2475000.0, 1),\n",
       " (2500000.0, 5),\n",
       " (2625000.0, 1),\n",
       " (2775000.0, 1),\n",
       " (2850000.0, 1),\n",
       " (2937500.0, 1),\n",
       " (3000000.0, 5),\n",
       " (3155000.0, 1),\n",
       " (3250000.0, 1),\n",
       " (3300000.0, 1),\n",
       " (3350000.0, 1),\n",
       " (3390000.0, 1),\n",
       " (3400000.0, 1),\n",
       " (3500000.0, 3),\n",
       " (3515000.0, 1),\n",
       " (3575000.0, 1),\n",
       " (3583333.0, 1),\n",
       " (3600000.0, 1),\n",
       " (3663333.0, 1),\n",
       " (3725000.0, 2),\n",
       " (3750000.0, 3),\n",
       " (3800000.0, 1),\n",
       " (4000000.0, 5),\n",
       " (4025000.0, 1),\n",
       " (4100000.0, 1),\n",
       " (4150000.0, 2),\n",
       " (4190000.0, 1),\n",
       " (4250000.0, 2),\n",
       " (4412000.0, 1),\n",
       " (4500000.0, 1),\n",
       " (4625000.0, 1),\n",
       " (4800000.0, 1),\n",
       " (4825000.0, 2),\n",
       " (5000000.0, 5),\n",
       " (5200000.0, 2),\n",
       " (5250000.0, 1),\n",
       " (5350000.0, 1),\n",
       " (5500000.0, 1),\n",
       " (5750000.0, 1),\n",
       " (5800000.0, 1),\n",
       " (5900000.0, 2),\n",
       " (6000000.0, 2),\n",
       " (6100000.0, 1),\n",
       " (6166666.0, 1),\n",
       " (6500000.0, 2),\n",
       " (7000000.0, 2),\n",
       " (7083334.0, 1),\n",
       " (7250000.0, 2),\n",
       " (7285714.0, 1),\n",
       " (7333333.0, 1),\n",
       " (7500000.0, 2),\n",
       " (7750000.0, 1),\n",
       " (7833333.0, 1),\n",
       " (8000000.0, 2),\n",
       " (8166667.0, 1),\n",
       " (8400000.0, 1),\n",
       " (8500000.0, 1),\n",
       " (8550000.0, 1),\n",
       " (9000000.0, 2),\n",
       " (9500000.0, 1),\n",
       " (9700000.0, 1),\n",
       " (9750000.0, 1),\n",
       " (9950000.0, 1),\n",
       " (10000000.0, 1),\n",
       " (10333334.0, 1),\n",
       " (10400000.0, 1),\n",
       " (10500000.0, 1),\n",
       " (10850000.0, 1),\n",
       " (11500000.0, 1),\n",
       " (11538462.0, 1),\n",
       " (11750000.0, 1),\n",
       " (11857143.0, 1),\n",
       " (12000000.0, 6),\n",
       " (12250000.0, 1),\n",
       " (12285715.0, 1),\n",
       " (12500000.0, 1),\n",
       " (12666667.0, 1),\n",
       " (12900000.0, 1),\n",
       " (13000000.0, 2),\n",
       " (13300000.0, 1),\n",
       " (14000000.0, 2),\n",
       " (14500000.0, 1),\n",
       " (14666667.0, 2),\n",
       " (14750000.0, 1),\n",
       " (14850000.0, 1),\n",
       " (15000000.0, 3),\n",
       " (15200000.0, 1),\n",
       " (15250000.0, 1),\n",
       " (16000000.0, 3),\n",
       " (16500000.0, 2),\n",
       " (17200000.0, 1),\n",
       " (18000000.0, 1),\n",
       " (18800000.0, 1),\n",
       " (19000000.0, 2),\n",
       " (20000000.0, 5),\n",
       " (20333333.0, 1),\n",
       " (21000000.0, 2),\n",
       " (21500000.0, 1),\n",
       " (21667000.0, 1),\n",
       " (22177778.0, 1),\n",
       " (23000000.0, 1),\n",
       " (23750000.0, 1),\n",
       " (24000000.0, 1),\n",
       " (25000000.0, 1),\n",
       " (26000000.0, 1),\n",
       " (28000000.0, 1),\n",
       " (30000000.0, 1),\n",
       " (36833333.0, 1)]"
      ]
     },
     "execution_count": 10,
     "metadata": {},
     "output_type": "execute_result"
    }
   ],
   "source": [
    "sorted(salary_counts.items())"
   ]
  },
  {
   "cell_type": "markdown",
   "metadata": {},
   "source": [
    "## Vast amount of contracts are around the league minimum, aka, rookie contracts"
   ]
  },
  {
   "cell_type": "markdown",
   "metadata": {},
   "source": [
    "### Let's split the dataset accordingly"
   ]
  },
  {
   "cell_type": "code",
   "execution_count": 11,
   "metadata": {},
   "outputs": [],
   "source": [
    "rookie_contracts = player_stats[player_stats['Salary'] < 700000].copy()"
   ]
  },
  {
   "cell_type": "code",
   "execution_count": 12,
   "metadata": {},
   "outputs": [
    {
     "data": {
      "text/plain": [
       "(175, 25)"
      ]
     },
     "execution_count": 12,
     "metadata": {},
     "output_type": "execute_result"
    }
   ],
   "source": [
    "rookie_contracts.shape"
   ]
  },
  {
   "cell_type": "code",
   "execution_count": 13,
   "metadata": {},
   "outputs": [],
   "source": [
    "veteran_contracts = player_stats[player_stats['Salary'] >= 700000].copy()"
   ]
  },
  {
   "cell_type": "code",
   "execution_count": 14,
   "metadata": {},
   "outputs": [
    {
     "data": {
      "text/plain": [
       "(204, 25)"
      ]
     },
     "execution_count": 14,
     "metadata": {},
     "output_type": "execute_result"
    }
   ],
   "source": [
    "veteran_contracts.shape"
   ]
  },
  {
   "cell_type": "code",
   "execution_count": 15,
   "metadata": {},
   "outputs": [
    {
     "data": {
      "image/png": "[encoded data removed]",
      "text/plain": [
       "<Figure size 720x432 with 2 Axes>"
      ]
     },
     "metadata": {},
     "output_type": "display_data"
    }
   ],
   "source": [
    "fig, (ax1, ax2) = plt.subplots(ncols=2)\n",
    "fig.set_size_inches(10, 6)\n",
    "sns.histplot(data=rookie_contracts, x='Salary', ax=ax1)\n",
    "sns.histplot(data=veteran_contracts, x='Salary', ax=ax2)\n",
    "plt.show()"
   ]
  },
  {
   "cell_type": "markdown",
   "metadata": {},
   "source": [
    "# Create metric for run generation"
   ]
  },
  {
   "cell_type": "code",
   "execution_count": 16,
   "metadata": {},
   "outputs": [
    {
     "data": {
      "text/plain": [
       "Index(['Tm', 'BatAge', 'G', 'Wins', 'PA', 'AB', 'R', 'H', '2B', '3B', 'HR',\n",
       "       'RBI', 'SB', 'CS', 'BB', 'SO', 'BA', 'OBP', 'SLG', 'OPS', 'HBP', 'WAR',\n",
       "       'Salary'],\n",
       "      dtype='object')"
      ]
     },
     "execution_count": 16,
     "metadata": {},
     "output_type": "execute_result"
    }
   ],
   "source": [
    "team_stats.columns"
   ]
  },
  {
   "cell_type": "code",
   "execution_count": 17,
   "metadata": {},
   "outputs": [],
   "source": [
    "team_stats_limited = team_stats[['PA', 'R', 'H', '2B', '3B', 'HR',\n",
    "       'SB', 'CS', 'BB', 'SO', 'BA', 'OBP', 'SLG', 'OPS', 'HBP']]"
   ]
  },
  {
   "cell_type": "markdown",
   "metadata": {},
   "source": [
    "## Create model to determine how runs are generated\n",
    "## Use team stats to see how stats factor in overall team runs rather than individual stats up to chance such as R or RBI"
   ]
  },
  {
   "cell_type": "code",
   "execution_count": 18,
   "metadata": {},
   "outputs": [],
   "source": [
    "from sklearn.model_selection import train_test_split\n",
    "from sklearn import neighbors\n",
    "from sklearn.ensemble import RandomForestRegressor\n",
    "from sklearn import preprocessing"
   ]
  },
  {
   "cell_type": "code",
   "execution_count": 19,
   "metadata": {},
   "outputs": [],
   "source": [
    "x_train = team_stats_limited[['PA', 'H', '2B', '3B', 'HR',\n",
    "       'SB', 'CS', 'BB', 'SO', 'BA', 'OBP', 'SLG', 'OPS']]\n",
    "y_train = team_stats_limited[['R']]"
   ]
  },
  {
   "cell_type": "code",
   "execution_count": 20,
   "metadata": {},
   "outputs": [],
   "source": [
    "x_test = player_stats[['PA', 'H', '2B', '3B', 'HR',\n",
    "       'SB', 'CS', 'BB', 'SO', 'BA', 'OBP', 'SLG', 'OPS']]\n",
    "y_test = player_stats[['R']]"
   ]
  },
  {
   "cell_type": "code",
   "execution_count": 21,
   "metadata": {},
   "outputs": [],
   "source": [
    "xScaler = preprocessing.StandardScaler().fit(x_train)\n",
    "x_scaled = xScaler.transform(x_train)\n",
    "yScaler = preprocessing.StandardScaler().fit(y_train)\n",
    "y_scaled = yScaler.transform(y_train)"
   ]
  },
  {
   "cell_type": "code",
   "execution_count": 22,
   "metadata": {},
   "outputs": [
    {
     "name": "stderr",
     "output_type": "stream",
     "text": [
      "<ipython-input-22-9b5b084d4fc1>:2: DataConversionWarning: A column-vector y was passed when a 1d array was expected. Please change the shape of y to (n_samples,), for example using ravel().\n",
      "  rf.fit(x_scaled, y_scaled)\n"
     ]
    },
    {
     "data": {
      "text/plain": [
       "RandomForestRegressor()"
      ]
     },
     "execution_count": 22,
     "metadata": {},
     "output_type": "execute_result"
    }
   ],
   "source": [
    "rf = RandomForestRegressor()\n",
    "rf.fit(x_scaled, y_scaled)"
   ]
  },
  {
   "cell_type": "markdown",
   "metadata": {},
   "source": [
    "## Apply model to individual stats to create a metric for performance\n",
    "### Raw metric is meaningless, but used comparitively"
   ]
  },
  {
   "cell_type": "code",
   "execution_count": 23,
   "metadata": {},
   "outputs": [
    {
     "data": {
      "text/plain": [
       "[0.778,\n",
       " 0.839,\n",
       " 0.756,\n",
       " 0.782,\n",
       " 0.725,\n",
       " 0.727,\n",
       " 0.715,\n",
       " 0.721,\n",
       " 0.721,\n",
       " 0.645,\n",
       " 0.751,\n",
       " 0.78,\n",
       " 0.726,\n",
       " 0.878,\n",
       " 0.765,\n",
       " 0.721,\n",
       " 0.78,\n",
       " 0.766,\n",
       " 0.646,\n",
       " 0.782,\n",
       " 0.502,\n",
       " 0.778,\n",
       " 0.895,\n",
       " 0.842,\n",
       " 0.759,\n",
       " 0.792,\n",
       " 0.53,\n",
       " 0.487,\n",
       " 0.842,\n",
       " 0.764,\n",
       " 0.732,\n",
       " 0.714,\n",
       " 0.78,\n",
       " 0.715,\n",
       " 0.464,\n",
       " 0.383,\n",
       " 0.713,\n",
       " 0.833,\n",
       " 0.827,\n",
       " 0.727,\n",
       " 0.533,\n",
       " 0.639,\n",
       " 0.819,\n",
       " 0.745,\n",
       " 0.79,\n",
       " 0.778,\n",
       " 0.772,\n",
       " 0.782,\n",
       " 0.736,\n",
       " 0.836,\n",
       " 0.817,\n",
       " 0.513,\n",
       " 0.709,\n",
       " 0.79,\n",
       " 0.76,\n",
       " 0.64,\n",
       " 0.823,\n",
       " 0.413,\n",
       " 0.826,\n",
       " 0.76,\n",
       " 0.782,\n",
       " 0.727,\n",
       " 0.709,\n",
       " 0.707,\n",
       " 0.871,\n",
       " 0.501,\n",
       " 0.709,\n",
       " 0.382,\n",
       " 0.784,\n",
       " 0.778,\n",
       " 0.778,\n",
       " 0.99,\n",
       " 0.755,\n",
       " 0.9,\n",
       " 0.651,\n",
       " 0.74,\n",
       " 0.811,\n",
       " 0.764,\n",
       " 0.709,\n",
       " 0.639,\n",
       " 0.452,\n",
       " 0.761,\n",
       " 0.529,\n",
       " 0.76,\n",
       " 0.639,\n",
       " 0.738,\n",
       " 0.821,\n",
       " 0.727,\n",
       " 0.867,\n",
       " 0.77,\n",
       " 0.658,\n",
       " 0.545,\n",
       " 0.763,\n",
       " 0.645,\n",
       " 0.728,\n",
       " 0.754,\n",
       " 0.842,\n",
       " 0.702,\n",
       " 0.778,\n",
       " 0.794,\n",
       " 0.725,\n",
       " 0.725,\n",
       " 0.786,\n",
       " 0.79,\n",
       " 0.513,\n",
       " 0.798,\n",
       " 0.729,\n",
       " 0.501,\n",
       " 0.775,\n",
       " 0.727,\n",
       " 0.721,\n",
       " 0.742,\n",
       " 0.782,\n",
       " 0.819,\n",
       " 0.488,\n",
       " 0.839,\n",
       " 0.764,\n",
       " 0.89,\n",
       " 0.505,\n",
       " 0.819,\n",
       " 0.747,\n",
       " 0.768,\n",
       " 0.752,\n",
       " 0.766,\n",
       " 0.727,\n",
       " 0.798,\n",
       " 0.875,\n",
       " 0.718,\n",
       " 0.812,\n",
       " 0.649,\n",
       " 0.498,\n",
       " 0.539,\n",
       " 0.596,\n",
       " 0.754,\n",
       " 0.641,\n",
       " 0.725,\n",
       " 0.727,\n",
       " 0.663,\n",
       " 0.639,\n",
       " 0.887,\n",
       " 0.821,\n",
       " 0.778,\n",
       " 0.782,\n",
       " 0.639,\n",
       " 0.501,\n",
       " 0.827,\n",
       " 0.854,\n",
       " 0.79,\n",
       " 0.727,\n",
       " 0.709,\n",
       " 0.721,\n",
       " 0.768,\n",
       " 0.513,\n",
       " 0.725,\n",
       " 0.39,\n",
       " 0.778,\n",
       " 0.533,\n",
       " 0.76,\n",
       " 0.782,\n",
       " 0.721,\n",
       " 0.816,\n",
       " 0.753,\n",
       " 0.727,\n",
       " 0.338,\n",
       " 0.842,\n",
       " 0.766,\n",
       " 0.709,\n",
       " 0.78,\n",
       " 0.804,\n",
       " 0.533,\n",
       " 0.872,\n",
       " 0.651,\n",
       " 0.745,\n",
       " 0.532,\n",
       " 0.616,\n",
       " 0.642,\n",
       " 0.761,\n",
       " 0.782,\n",
       " 0.839,\n",
       " 0.736,\n",
       " 0.754,\n",
       " 0.809,\n",
       " 0.786,\n",
       " 0.829,\n",
       " 0.727,\n",
       " 0.725,\n",
       " 0.532,\n",
       " 0.782,\n",
       " 0.415,\n",
       " 0.841,\n",
       " 0.395,\n",
       " 0.702,\n",
       " 0.707,\n",
       " 0.727,\n",
       " 0.522,\n",
       " 0.721,\n",
       " 0.624,\n",
       " 0.53,\n",
       " 0.856,\n",
       " 0.63,\n",
       " 0.725,\n",
       " 0.624,\n",
       " 0.709,\n",
       " 0.812,\n",
       " 0.423,\n",
       " 0.433,\n",
       " 0.853,\n",
       " 0.89,\n",
       " 0.715,\n",
       " 0.661,\n",
       " 0.782,\n",
       " 0.756,\n",
       " 0.501,\n",
       " 0.638,\n",
       " 0.778,\n",
       " 0.782,\n",
       " 0.826,\n",
       " 0.758,\n",
       " 0.712,\n",
       " 0.821,\n",
       " 0.521,\n",
       " 0.727,\n",
       " 0.327,\n",
       " 0.535,\n",
       " 0.715,\n",
       " 0.819,\n",
       " 0.491,\n",
       " 0.82,\n",
       " 0.727,\n",
       " 0.509,\n",
       " 0.345,\n",
       " 0.791,\n",
       " 0.435,\n",
       " 0.707,\n",
       " 0.541,\n",
       " 0.78,\n",
       " 0.709,\n",
       " 0.727,\n",
       " 0.778,\n",
       " 0.829,\n",
       " 0.829,\n",
       " 0.522,\n",
       " 0.638,\n",
       " 0.501,\n",
       " 0.702,\n",
       " 0.734,\n",
       " 0.78,\n",
       " 0.725,\n",
       " 0.8,\n",
       " 0.807,\n",
       " 0.707,\n",
       " 0.729,\n",
       " 0.748,\n",
       " 0.794,\n",
       " 0.826,\n",
       " 0.275,\n",
       " 0.819,\n",
       " 0.778,\n",
       " 0.817,\n",
       " 0.709,\n",
       " 0.721,\n",
       " 0.758,\n",
       " 0.807,\n",
       " 0.813,\n",
       " 0.818,\n",
       " 0.96,\n",
       " 0.821,\n",
       " 0.498,\n",
       " 0.78,\n",
       " 0.771,\n",
       " 0.829,\n",
       " 0.76,\n",
       " 0.721,\n",
       " 0.876,\n",
       " 0.821,\n",
       " 0.758,\n",
       " 0.466,\n",
       " 0.758,\n",
       " 0.81,\n",
       " 0.342,\n",
       " 0.508,\n",
       " 0.727,\n",
       " 0.887,\n",
       " 0.778,\n",
       " 0.485,\n",
       " 0.76,\n",
       " 0.528,\n",
       " 0.508,\n",
       " 0.762,\n",
       " 0.778,\n",
       " 0.715,\n",
       " 0.837,\n",
       " 0.829,\n",
       " 0.727,\n",
       " 0.811,\n",
       " 0.756,\n",
       " 0.755,\n",
       " 0.782,\n",
       " 0.531,\n",
       " 0.65,\n",
       " 0.545,\n",
       " 0.766,\n",
       " 0.736,\n",
       " 0.761,\n",
       " 0.645,\n",
       " 0.702,\n",
       " 0.746,\n",
       " 0.522,\n",
       " 0.752,\n",
       " 0.729,\n",
       " 0.498,\n",
       " 0.819,\n",
       " 0.639,\n",
       " 0.778,\n",
       " 0.639,\n",
       " 0.709,\n",
       " 0.734,\n",
       " 0.645,\n",
       " 0.491,\n",
       " 0.782,\n",
       " 0.702,\n",
       " 0.778,\n",
       " 0.78,\n",
       " 0.758,\n",
       " 0.816,\n",
       " 0.721,\n",
       " 0.506,\n",
       " 0.649,\n",
       " 0.78,\n",
       " 0.826,\n",
       " 0.735,\n",
       " 0.655,\n",
       " 0.819,\n",
       " 0.491,\n",
       " 0.821,\n",
       " 0.76,\n",
       " 0.78,\n",
       " 0.661,\n",
       " 0.47,\n",
       " 0.734,\n",
       " 0.533,\n",
       " 0.821,\n",
       " 0.712,\n",
       " 0.829,\n",
       " 0.811,\n",
       " 0.702,\n",
       " 0.713,\n",
       " 0.718,\n",
       " 0.772,\n",
       " 0.721,\n",
       " 0.502,\n",
       " 0.758,\n",
       " 0.727,\n",
       " 0.766,\n",
       " 0.707,\n",
       " 0.782,\n",
       " 0.721,\n",
       " 0.821,\n",
       " 0.465,\n",
       " 0.64,\n",
       " 0.81,\n",
       " 0.721,\n",
       " 0.502,\n",
       " 0.8,\n",
       " 0.726,\n",
       " 0.847,\n",
       " 0.715,\n",
       " 0.645,\n",
       " 0.715,\n",
       " 0.778,\n",
       " 0.78,\n",
       " 0.807,\n",
       " 0.844,\n",
       " 0.541,\n",
       " 0.34,\n",
       " 0.958,\n",
       " 0.819,\n",
       " 0.509,\n",
       " 0.094]"
      ]
     },
     "execution_count": 23,
     "metadata": {},
     "output_type": "execute_result"
    }
   ],
   "source": [
    "y_pred = rf.predict(x_test).round(3)\n",
    "list(y_pred)"
   ]
  },
  {
   "cell_type": "code",
   "execution_count": 24,
   "metadata": {},
   "outputs": [],
   "source": [
    "player_stats['RG'] = list(y_pred)"
   ]
  },
  {
   "cell_type": "code",
   "execution_count": 25,
   "metadata": {},
   "outputs": [
    {
     "data": {
      "text/html": [
       "<div>\n",
       "<style scoped>\n",
       "    .dataframe tbody tr th:only-of-type {\n",
       "        vertical-align: middle;\n",
       "    }\n",
       "\n",
       "    .dataframe tbody tr th {\n",
       "        vertical-align: top;\n",
       "    }\n",
       "\n",
       "    .dataframe thead th {\n",
       "        text-align: right;\n",
       "    }\n",
       "</style>\n",
       "<table border=\"1\" class=\"dataframe\">\n",
       "  <thead>\n",
       "    <tr style=\"text-align: right;\">\n",
       "      <th></th>\n",
       "      <th>Name</th>\n",
       "      <th>Pos</th>\n",
       "      <th>TM</th>\n",
       "      <th>Age</th>\n",
       "      <th>G</th>\n",
       "      <th>PA</th>\n",
       "      <th>AB</th>\n",
       "      <th>R</th>\n",
       "      <th>H</th>\n",
       "      <th>2B</th>\n",
       "      <th>...</th>\n",
       "      <th>SO</th>\n",
       "      <th>BA</th>\n",
       "      <th>OBP</th>\n",
       "      <th>SLG</th>\n",
       "      <th>OPS</th>\n",
       "      <th>Height</th>\n",
       "      <th>Weight</th>\n",
       "      <th>BMI</th>\n",
       "      <th>Salary</th>\n",
       "      <th>RG</th>\n",
       "    </tr>\n",
       "  </thead>\n",
       "  <tbody>\n",
       "    <tr>\n",
       "      <th>122</th>\n",
       "      <td>Christian Yelich</td>\n",
       "      <td>RF</td>\n",
       "      <td>MIL</td>\n",
       "      <td>27</td>\n",
       "      <td>130</td>\n",
       "      <td>580</td>\n",
       "      <td>489</td>\n",
       "      <td>100</td>\n",
       "      <td>161</td>\n",
       "      <td>29</td>\n",
       "      <td>...</td>\n",
       "      <td>118</td>\n",
       "      <td>0.329</td>\n",
       "      <td>0.429</td>\n",
       "      <td>0.671</td>\n",
       "      <td>1.100</td>\n",
       "      <td>75</td>\n",
       "      <td>195</td>\n",
       "      <td>24.4</td>\n",
       "      <td>9750000.0</td>\n",
       "      <td>0.990</td>\n",
       "    </tr>\n",
       "    <tr>\n",
       "      <th>437</th>\n",
       "      <td>Mike Trout</td>\n",
       "      <td>CF</td>\n",
       "      <td>LAA</td>\n",
       "      <td>27</td>\n",
       "      <td>134</td>\n",
       "      <td>600</td>\n",
       "      <td>470</td>\n",
       "      <td>110</td>\n",
       "      <td>137</td>\n",
       "      <td>27</td>\n",
       "      <td>...</td>\n",
       "      <td>120</td>\n",
       "      <td>0.291</td>\n",
       "      <td>0.438</td>\n",
       "      <td>0.645</td>\n",
       "      <td>1.083</td>\n",
       "      <td>74</td>\n",
       "      <td>235</td>\n",
       "      <td>30.2</td>\n",
       "      <td>36833333.0</td>\n",
       "      <td>0.960</td>\n",
       "    </tr>\n",
       "    <tr>\n",
       "      <th>628</th>\n",
       "      <td>Yordan Alvarez</td>\n",
       "      <td>DH</td>\n",
       "      <td>HOU</td>\n",
       "      <td>22</td>\n",
       "      <td>87</td>\n",
       "      <td>369</td>\n",
       "      <td>313</td>\n",
       "      <td>58</td>\n",
       "      <td>98</td>\n",
       "      <td>26</td>\n",
       "      <td>...</td>\n",
       "      <td>94</td>\n",
       "      <td>0.313</td>\n",
       "      <td>0.412</td>\n",
       "      <td>0.655</td>\n",
       "      <td>1.067</td>\n",
       "      <td>77</td>\n",
       "      <td>225</td>\n",
       "      <td>26.7</td>\n",
       "      <td>555000.0</td>\n",
       "      <td>0.958</td>\n",
       "    </tr>\n",
       "    <tr>\n",
       "      <th>125</th>\n",
       "      <td>Cody Bellinger</td>\n",
       "      <td>RF</td>\n",
       "      <td>LAD</td>\n",
       "      <td>23</td>\n",
       "      <td>156</td>\n",
       "      <td>661</td>\n",
       "      <td>558</td>\n",
       "      <td>121</td>\n",
       "      <td>170</td>\n",
       "      <td>34</td>\n",
       "      <td>...</td>\n",
       "      <td>108</td>\n",
       "      <td>0.305</td>\n",
       "      <td>0.406</td>\n",
       "      <td>0.629</td>\n",
       "      <td>1.035</td>\n",
       "      <td>76</td>\n",
       "      <td>203</td>\n",
       "      <td>24.7</td>\n",
       "      <td>605000.0</td>\n",
       "      <td>0.900</td>\n",
       "    </tr>\n",
       "    <tr>\n",
       "      <th>39</th>\n",
       "      <td>Anthony Rendon</td>\n",
       "      <td>3B</td>\n",
       "      <td>WAS</td>\n",
       "      <td>29</td>\n",
       "      <td>146</td>\n",
       "      <td>646</td>\n",
       "      <td>545</td>\n",
       "      <td>117</td>\n",
       "      <td>174</td>\n",
       "      <td>44</td>\n",
       "      <td>...</td>\n",
       "      <td>86</td>\n",
       "      <td>0.319</td>\n",
       "      <td>0.412</td>\n",
       "      <td>0.598</td>\n",
       "      <td>1.010</td>\n",
       "      <td>73</td>\n",
       "      <td>200</td>\n",
       "      <td>26.4</td>\n",
       "      <td>18800000.0</td>\n",
       "      <td>0.895</td>\n",
       "    </tr>\n",
       "    <tr>\n",
       "      <th>...</th>\n",
       "      <td>...</td>\n",
       "      <td>...</td>\n",
       "      <td>...</td>\n",
       "      <td>...</td>\n",
       "      <td>...</td>\n",
       "      <td>...</td>\n",
       "      <td>...</td>\n",
       "      <td>...</td>\n",
       "      <td>...</td>\n",
       "      <td>...</td>\n",
       "      <td>...</td>\n",
       "      <td>...</td>\n",
       "      <td>...</td>\n",
       "      <td>...</td>\n",
       "      <td>...</td>\n",
       "      <td>...</td>\n",
       "      <td>...</td>\n",
       "      <td>...</td>\n",
       "      <td>...</td>\n",
       "      <td>...</td>\n",
       "      <td>...</td>\n",
       "    </tr>\n",
       "    <tr>\n",
       "      <th>626</th>\n",
       "      <td>Yonathan Daza</td>\n",
       "      <td>CF</td>\n",
       "      <td>COL</td>\n",
       "      <td>25</td>\n",
       "      <td>44</td>\n",
       "      <td>105</td>\n",
       "      <td>97</td>\n",
       "      <td>7</td>\n",
       "      <td>20</td>\n",
       "      <td>1</td>\n",
       "      <td>...</td>\n",
       "      <td>21</td>\n",
       "      <td>0.206</td>\n",
       "      <td>0.257</td>\n",
       "      <td>0.237</td>\n",
       "      <td>0.494</td>\n",
       "      <td>74</td>\n",
       "      <td>210</td>\n",
       "      <td>27.0</td>\n",
       "      <td>550000.0</td>\n",
       "      <td>0.340</td>\n",
       "    </tr>\n",
       "    <tr>\n",
       "      <th>280</th>\n",
       "      <td>Jeff Mathis</td>\n",
       "      <td>C</td>\n",
       "      <td>TEX</td>\n",
       "      <td>36</td>\n",
       "      <td>86</td>\n",
       "      <td>244</td>\n",
       "      <td>228</td>\n",
       "      <td>17</td>\n",
       "      <td>36</td>\n",
       "      <td>9</td>\n",
       "      <td>...</td>\n",
       "      <td>87</td>\n",
       "      <td>0.158</td>\n",
       "      <td>0.209</td>\n",
       "      <td>0.224</td>\n",
       "      <td>0.433</td>\n",
       "      <td>72</td>\n",
       "      <td>205</td>\n",
       "      <td>27.8</td>\n",
       "      <td>3250000.0</td>\n",
       "      <td>0.338</td>\n",
       "    </tr>\n",
       "    <tr>\n",
       "      <th>370</th>\n",
       "      <td>Lewis Brinson</td>\n",
       "      <td>CF</td>\n",
       "      <td>MIA</td>\n",
       "      <td>25</td>\n",
       "      <td>75</td>\n",
       "      <td>248</td>\n",
       "      <td>226</td>\n",
       "      <td>15</td>\n",
       "      <td>39</td>\n",
       "      <td>9</td>\n",
       "      <td>...</td>\n",
       "      <td>74</td>\n",
       "      <td>0.173</td>\n",
       "      <td>0.236</td>\n",
       "      <td>0.221</td>\n",
       "      <td>0.457</td>\n",
       "      <td>75</td>\n",
       "      <td>195</td>\n",
       "      <td>24.4</td>\n",
       "      <td>570000.0</td>\n",
       "      <td>0.327</td>\n",
       "    </tr>\n",
       "    <tr>\n",
       "      <th>416</th>\n",
       "      <td>Max Stassi</td>\n",
       "      <td>C</td>\n",
       "      <td>LAA</td>\n",
       "      <td>28</td>\n",
       "      <td>51</td>\n",
       "      <td>148</td>\n",
       "      <td>132</td>\n",
       "      <td>7</td>\n",
       "      <td>18</td>\n",
       "      <td>1</td>\n",
       "      <td>...</td>\n",
       "      <td>49</td>\n",
       "      <td>0.136</td>\n",
       "      <td>0.211</td>\n",
       "      <td>0.167</td>\n",
       "      <td>0.378</td>\n",
       "      <td>70</td>\n",
       "      <td>200</td>\n",
       "      <td>28.7</td>\n",
       "      <td>590000.0</td>\n",
       "      <td>0.275</td>\n",
       "    </tr>\n",
       "    <tr>\n",
       "      <th>633</th>\n",
       "      <td>Zack Cozart</td>\n",
       "      <td>3B</td>\n",
       "      <td>LAA</td>\n",
       "      <td>33</td>\n",
       "      <td>38</td>\n",
       "      <td>107</td>\n",
       "      <td>97</td>\n",
       "      <td>4</td>\n",
       "      <td>12</td>\n",
       "      <td>2</td>\n",
       "      <td>...</td>\n",
       "      <td>16</td>\n",
       "      <td>0.124</td>\n",
       "      <td>0.178</td>\n",
       "      <td>0.144</td>\n",
       "      <td>0.322</td>\n",
       "      <td>72</td>\n",
       "      <td>205</td>\n",
       "      <td>27.8</td>\n",
       "      <td>12666667.0</td>\n",
       "      <td>0.094</td>\n",
       "    </tr>\n",
       "  </tbody>\n",
       "</table>\n",
       "<p>379 rows × 26 columns</p>\n",
       "</div>"
      ],
      "text/plain": [
       "                 Name Pos   TM  Age    G   PA   AB    R    H  2B  ...   SO  \\\n",
       "122  Christian Yelich  RF  MIL   27  130  580  489  100  161  29  ...  118   \n",
       "437        Mike Trout  CF  LAA   27  134  600  470  110  137  27  ...  120   \n",
       "628    Yordan Alvarez  DH  HOU   22   87  369  313   58   98  26  ...   94   \n",
       "125    Cody Bellinger  RF  LAD   23  156  661  558  121  170  34  ...  108   \n",
       "39     Anthony Rendon  3B  WAS   29  146  646  545  117  174  44  ...   86   \n",
       "..                ...  ..  ...  ...  ...  ...  ...  ...  ...  ..  ...  ...   \n",
       "626     Yonathan Daza  CF  COL   25   44  105   97    7   20   1  ...   21   \n",
       "280       Jeff Mathis   C  TEX   36   86  244  228   17   36   9  ...   87   \n",
       "370     Lewis Brinson  CF  MIA   25   75  248  226   15   39   9  ...   74   \n",
       "416        Max Stassi   C  LAA   28   51  148  132    7   18   1  ...   49   \n",
       "633       Zack Cozart  3B  LAA   33   38  107   97    4   12   2  ...   16   \n",
       "\n",
       "        BA    OBP    SLG    OPS  Height  Weight   BMI      Salary     RG  \n",
       "122  0.329  0.429  0.671  1.100      75     195  24.4   9750000.0  0.990  \n",
       "437  0.291  0.438  0.645  1.083      74     235  30.2  36833333.0  0.960  \n",
       "628  0.313  0.412  0.655  1.067      77     225  26.7    555000.0  0.958  \n",
       "125  0.305  0.406  0.629  1.035      76     203  24.7    605000.0  0.900  \n",
       "39   0.319  0.412  0.598  1.010      73     200  26.4  18800000.0  0.895  \n",
       "..     ...    ...    ...    ...     ...     ...   ...         ...    ...  \n",
       "626  0.206  0.257  0.237  0.494      74     210  27.0    550000.0  0.340  \n",
       "280  0.158  0.209  0.224  0.433      72     205  27.8   3250000.0  0.338  \n",
       "370  0.173  0.236  0.221  0.457      75     195  24.4    570000.0  0.327  \n",
       "416  0.136  0.211  0.167  0.378      70     200  28.7    590000.0  0.275  \n",
       "633  0.124  0.178  0.144  0.322      72     205  27.8  12666667.0  0.094  \n",
       "\n",
       "[379 rows x 26 columns]"
      ]
     },
     "execution_count": 25,
     "metadata": {},
     "output_type": "execute_result"
    }
   ],
   "source": [
    "player_stats.sort_values(by=['RG'], ascending=False)"
   ]
  },
  {
   "cell_type": "code",
   "execution_count": 66,
   "metadata": {},
   "outputs": [],
   "source": [
    "rookie_contracts = player_stats[player_stats['Salary'] < 700000].copy()\n",
    "veteran_contracts = player_stats[player_stats['Salary'] >= 700000].copy()"
   ]
  },
  {
   "cell_type": "code",
   "execution_count": 31,
   "metadata": {},
   "outputs": [],
   "source": [
    "from scipy import stats\n",
    "sal_scaled = stats.zscore(veteran_contracts['Salary'])\n",
    "veteran_contracts['Scaled Sal'] = sal_scaled\n",
    "rg_scaled = stats.zscore(veteran_contracts['RG'])\n",
    "veteran_contracts['Scaled RG'] = rg_scaled\n",
    "# Scaled ratings by z score"
   ]
  },
  {
   "cell_type": "markdown",
   "metadata": {},
   "source": [
    "# Plot veteran contracts vs run generation\n",
    "## Scaled as z-score for scale to be more intuitive\n",
    "### (rating of 0 is mean of scores, 1 is one standard deviation away from mean)"
   ]
  },
  {
   "cell_type": "code",
   "execution_count": 28,
   "metadata": {},
   "outputs": [],
   "source": [
    "import plotly.graph_objects as go"
   ]
  },
  {
   "cell_type": "code",
   "execution_count": 38,
   "metadata": {},
   "outputs": [
    {
     "data": {
      "application/vnd.plotly.v1+json": {
       "config": {
        "plotlyServerURL": "https://plot.ly"
       },
       "data": [
        {
         "hovertemplate": "<b>%{text}</b><br><b>Salary</b>: %{x:.2f}<br><b>Rating</b>: %{y:.2f}<br><b>Home Runs</b>: %{marker.size}<br><b>OPS</b>: %{marker.color:.3f}",
         "marker": {
          "color": [
           0.795,
           0.792,
           0.728,
           0.6990000000000001,
           0.7340000000000001,
           0.823,
           0.774,
           0.741,
           0.6729999999999999,
           0.774,
           0.8340000000000001,
           1.01,
           0.924,
           0.7829999999999999,
           0.563,
           0.748,
           0.7959999999999999,
           0.6709999999999999,
           0.564,
           0.894,
           0.742,
           0.654,
           0.642,
           0.85,
           0.8290000000000001,
           0.7709999999999999,
           0.7709999999999999,
           0.882,
           0.688,
           0.8270000000000001,
           0.78,
           0.9259999999999999,
           0.5720000000000001,
           0.9109999999999999,
           0.741,
           0.94,
           0.601,
           0.728,
           0.44299999999999995,
           0.794,
           0.7979999999999999,
           1.1,
           0.9059999999999999,
           0.8170000000000001,
           0.741,
           0.637,
           0.521,
           1.002,
           0.804,
           0.6629999999999999,
           0.672,
           0.79,
           0.754,
           0.718,
           0.893,
           0.77,
           0.8,
           0.831,
           0.5479999999999999,
           0.875,
           0.765,
           0.828,
           0.7070000000000001,
           0.715,
           0.735,
           0.851,
           0.93,
           0.762,
           0.649,
           0.8540000000000001,
           0.7340000000000001,
           0.9740000000000001,
           0.684,
           0.718,
           0.726,
           0.6679999999999999,
           0.642,
           0.966,
           0.7879999999999999,
           0.6459999999999999,
           0.9390000000000001,
           0.82,
           0.738,
           0.6759999999999999,
           0.7,
           0.789,
           0.633,
           0.767,
           0.772,
           0.715,
           0.847,
           0.784,
           0.743,
           0.433,
           0.8220000000000001,
           0.8759999999999999,
           0.6509999999999999,
           0.768,
           0.66,
           0.777,
           0.792,
           0.747,
           0.841,
           0.8340000000000001,
           0.903,
           0.7240000000000001,
           0.7509999999999999,
           0.631,
           0.8059999999999999,
           0.48,
           0.693,
           0.728,
           0.605,
           0.617,
           0.711,
           0.623,
           0.748,
           0.8809999999999999,
           0.5660000000000001,
           0.981,
           0.6759999999999999,
           0.7190000000000001,
           0.629,
           0.679,
           0.792,
           0.784,
           0.903,
           0.809,
           0.871,
           0.619,
           0.688,
           0.6779999999999999,
           0.6970000000000001,
           0.8690000000000001,
           0.5760000000000001,
           0.705,
           0.7959999999999999,
           0.7240000000000001,
           0.8,
           0.892,
           0.9129999999999999,
           0.601,
           0.6709999999999999,
           0.5589999999999999,
           0.736,
           0.741,
           0.726,
           0.7020000000000001,
           0.855,
           0.875,
           0.856,
           0.7440000000000001,
           0.71,
           0.845,
           1.083,
           0.544,
           0.835,
           0.915,
           0.738,
           1.031,
           0.863,
           0.753,
           0.9620000000000001,
           0.7859999999999999,
           0.629,
           0.762,
           0.821,
           0.738,
           0.682,
           0.774,
           0.736,
           0.79,
           0.721,
           0.667,
           0.8490000000000001,
           0.736,
           0.5479999999999999,
           0.7879999999999999,
           0.826,
           0.736,
           0.845,
           0.72,
           0.865,
           0.753,
           0.8320000000000001,
           0.818,
           0.6659999999999999,
           0.745,
           0.85,
           0.917,
           0.708,
           0.684,
           0.8109999999999999,
           0.7390000000000001,
           0.848,
           0.768,
           0.9390000000000001,
           0.711,
           0.7040000000000001,
           0.785,
           0.848,
           0.638,
           0.884,
           0.322
          ],
          "colorscale": [
           [
            0,
            "rgb(0,0,255)"
           ],
           [
            1,
            "rgb(255,0,0)"
           ]
          ],
          "size": [
           15,
           15,
           16,
           9,
           23,
           9,
           9,
           13,
           7,
           13,
           10,
           34,
           27,
           18,
           11,
           8,
           20,
           1,
           0,
           13,
           17,
           11,
           15,
           17,
           28,
           20,
           3,
           35,
           7,
           10,
           25,
           21,
           3,
           34,
           14,
           32,
           12,
           6,
           3,
           12,
           23,
           44,
           12,
           19,
           8,
           12,
           2,
           11,
           12,
           3,
           4,
           19,
           19,
           16,
           26,
           21,
           32,
           35,
           2,
           34,
           5,
           31,
           12,
           17,
           22,
           25,
           49,
           20,
           3,
           32,
           23,
           39,
           9,
           4,
           6,
           5,
           8,
           17,
           20,
           9,
           36,
           25,
           21,
           6,
           10,
           18,
           7,
           13,
           21,
           17,
           29,
           26,
           12,
           2,
           19,
           36,
           5,
           15,
           8,
           23,
           24,
           9,
           22,
           33,
           31,
           11,
           10,
           6,
           23,
           1,
           12,
           14,
           5,
           10,
           20,
           8,
           22,
           27,
           2,
           32,
           14,
           21,
           3,
           23,
           33,
           11,
           31,
           17,
           38,
           9,
           8,
           7,
           11,
           20,
           4,
           17,
           32,
           7,
           29,
           33,
           26,
           4,
           12,
           2,
           15,
           20,
           15,
           11,
           36,
           22,
           33,
           12,
           5,
           35,
           45,
           9,
           19,
           29,
           8,
           41,
           27,
           19,
           41,
           19,
           1,
           30,
           34,
           31,
           6,
           24,
           13,
           17,
           30,
           6,
           22,
           6,
           5,
           19,
           24,
           22,
           23,
           13,
           18,
           15,
           16,
           21,
           1,
           16,
           19,
           35,
           11,
           12,
           16,
           18,
           9,
           14,
           33,
           10,
           12,
           24,
           28,
           2,
           31,
           0
          ]
         },
         "mode": "markers",
         "text": [
          [
           "A.J. Pollock",
           "CF"
          ],
          [
           "Adam Eaton",
           "RF"
          ],
          [
           "Adam Jones",
           "RF"
          ],
          [
           "Addison Russell",
           "2B"
          ],
          [
           "Albert Pujols",
           "1B"
          ],
          [
           "Aledmys Diaz",
           "IF"
          ],
          [
           "Alex Avila",
           "C"
          ],
          [
           "Alex Gordon",
           "LF"
          ],
          [
           "Andrelton Simmons",
           "SS"
          ],
          [
           "Andrew Benintendi",
           "LF"
          ],
          [
           "Andrew McCutchen",
           "LF"
          ],
          [
           "Anthony Rendon",
           "3B"
          ],
          [
           "Anthony Rizzo",
           "1B"
          ],
          [
           "Asdrubal Cabrera",
           "3B"
          ],
          [
           "Austin Hedges",
           "C"
          ],
          [
           "Austin Romine",
           "C"
          ],
          [
           "Avisail Garcia",
           "RF"
          ],
          [
           "Ben Zobrist",
           "2B"
          ],
          [
           "Billy Hamilton",
           "CF"
          ],
          [
           "Brad Miller",
           "2B"
          ],
          [
           "Brandon Belt",
           "1B"
          ],
          [
           "Brandon Crawford",
           "SS"
          ],
          [
           "Brandon Drury",
           "UT"
          ],
          [
           "Brandon Lowe",
           "2B"
          ],
          [
           "Brett Gardner",
           "CF"
          ],
          [
           "Brian Dozier",
           "2B"
          ],
          [
           "Brock Holt",
           "2B"
          ],
          [
           "Bryce Harper",
           "RF"
          ],
          [
           "Buster Posey",
           "C"
          ],
          [
           "Byron Buxton",
           "CF"
          ],
          [
           "C.J. Cron",
           "1B"
          ],
          [
           "Carlos Correa",
           "SS"
          ],
          [
           "Carlos Gonzalez",
           "RF"
          ],
          [
           "Carlos Santana",
           "1B"
          ],
          [
           "Cesar Hernandez",
           "2B"
          ],
          [
           "Charlie Blackmon",
           "RF"
          ],
          [
           "Chris Davis",
           "1B"
          ],
          [
           "Chris Iannetta",
           "C"
          ],
          [
           "Chris Owings",
           "2B"
          ],
          [
           "Chris Taylor",
           "UT"
          ],
          [
           "Christian Vazquez",
           "C"
          ],
          [
           "Christian Yelich",
           "RF"
          ],
          [
           "Corey Dickerson",
           "LF"
          ],
          [
           "Corey Seager",
           "SS"
          ],
          [
           "Curt Casali",
           "C"
          ],
          [
           "Curtis Granderson",
           "LF"
          ],
          [
           "Daniel Descalso",
           "2B"
          ],
          [
           "David Freese",
           "1B"
          ],
          [
           "David Peralta",
           "LF"
          ],
          [
           "Dee Gordon",
           "2B"
          ],
          [
           "Delino DeShields",
           "CF"
          ],
          [
           "Derek Dietrich",
           "2B"
          ],
          [
           "Dexter Fowler",
           "RF"
          ],
          [
           "Didi Gregorius",
           "SS"
          ],
          [
           "DJ LeMahieu",
           "2B"
          ],
          [
           "Domingo Santana",
           "LF"
          ],
          [
           "Eddie Rosario",
           "LF"
          ],
          [
           "Eduardo Escobar",
           "3B"
          ],
          [
           "Eduardo Nunez",
           "2B"
          ],
          [
           "Edwin Encarnacion",
           "DH"
          ],
          [
           "Ehire Adrianza",
           "IF"
          ],
          [
           "Eloy Jimenez",
           "LF"
          ],
          [
           "Elvis Andrus",
           "SS"
          ],
          [
           "Enrique Hernandez",
           "2B"
          ],
          [
           "Eric Hosmer",
           "1B"
          ],
          [
           "Eric Thames",
           "1B"
          ],
          [
           "Eugenio Suarez",
           "3B"
          ],
          [
           "Evan Longoria",
           "3B"
          ],
          [
           "Francisco Cervelli",
           "C"
          ],
          [
           "Francisco Lindor",
           "SS"
          ],
          [
           "Freddy Galvis",
           "SS"
          ],
          [
           "George Springer",
           "OF"
          ],
          [
           "Gerardo Parra",
           "LF"
          ],
          [
           "Greg Garcia",
           "2B"
          ],
          [
           "Gregory Polanco",
           "RF"
          ],
          [
           "Guillermo Heredia",
           "OF"
          ],
          [
           "Hernan Perez",
           "2B"
          ],
          [
           "Howie Kendrick",
           "IF"
          ],
          [
           "Ian Desmond",
           "CF"
          ],
          [
           "Ian Kinsler",
           "2B"
          ],
          [
           "J.D. Martinez",
           "DH"
          ],
          [
           "J.T. Realmuto",
           "C"
          ],
          [
           "Jackie Bradley Jr.",
           "CF"
          ],
          [
           "Jake Lamb",
           "CI"
          ],
          [
           "Jake Marisnick",
           "CF"
          ],
          [
           "James McCann",
           "C"
          ],
          [
           "Jarrod Dyson",
           "OF"
          ],
          [
           "Jason Castro",
           "C"
          ],
          [
           "Jason Heyward",
           "RF"
          ],
          [
           "Jason Kipnis",
           "2B"
          ],
          [
           "Javier Baez",
           "SS"
          ],
          [
           "Jay Bruce",
           "RF"
          ],
          [
           "Jean Segura",
           "SS"
          ],
          [
           "Jeff Mathis",
           "C"
          ],
          [
           "Ji-Man Choi",
           "1B"
          ],
          [
           "Joc Pederson",
           "LF"
          ],
          [
           "Joe Panik",
           "2B"
          ],
          [
           "Joey Votto",
           "1B"
          ],
          [
           "Jonathan Lucroy",
           "C"
          ],
          [
           "Jonathan Schoop",
           "2B"
          ],
          [
           "Jonathan Villar",
           "2B"
          ],
          [
           "Jordy Mercer",
           "SS"
          ],
          [
           "Jorge Polanco",
           "SS"
          ],
          [
           "Jose Abreu",
           "1B"
          ],
          [
           "Jose Altuve",
           "2B"
          ],
          [
           "Jose Iglesias",
           "SS"
          ],
          [
           "Jose Martinez",
           "RF"
          ],
          [
           "Jose Peraza",
           "2B"
          ],
          [
           "Jose Ramirez",
           "3B"
          ],
          [
           "Josh Harrison",
           "2B"
          ],
          [
           "Josh Phegley",
           "C"
          ],
          [
           "Josh Reddick",
           "RF"
          ],
          [
           "Juan Lagares",
           "CF"
          ],
          [
           "Jung Ho Kang",
           "3B"
          ],
          [
           "Jurickson Profar",
           "2B"
          ],
          [
           "Justin Bour",
           "1B"
          ],
          [
           "Justin Smoak",
           "1B"
          ],
          [
           "Justin Turner",
           "3B"
          ],
          [
           "Kendrys Morales",
           "DH"
          ],
          [
           "Ketel Marte",
           "CF"
          ],
          [
           "Kevin Kiermaier",
           "CF"
          ],
          [
           "Kevin Pillar",
           "CF"
          ],
          [
           "Kevin Plawecki",
           "C"
          ],
          [
           "Khris Davis",
           "DH"
          ],
          [
           "Kole Calhoun",
           "RF"
          ],
          [
           "Kolten Wong",
           "2B"
          ],
          [
           "Kris Bryant",
           "3B"
          ],
          [
           "Kurt Suzuki",
           "C"
          ],
          [
           "Kyle Schwarber",
           "LF"
          ],
          [
           "Leonys Martin",
           "CF"
          ],
          [
           "Leury Garcia",
           "UT"
          ],
          [
           "Logan Forsythe",
           "CI"
          ],
          [
           "Lorenzo Cain",
           "CF"
          ],
          [
           "Lourdes Gurriel Jr.",
           "LF"
          ],
          [
           "Lucas Duda",
           "1B"
          ],
          [
           "Maikel Franco",
           "3B"
          ],
          [
           "Manny Machado",
           "3B"
          ],
          [
           "Manny Pina",
           "C"
          ],
          [
           "Marcell Ozuna",
           "LF"
          ],
          [
           "Marcus Semien",
           "SS"
          ],
          [
           "Mark Canha",
           "OF"
          ],
          [
           "Mark Reynolds",
           "1B"
          ],
          [
           "Martin Maldonado",
           "C"
          ],
          [
           "Martin Prado",
           "CI"
          ],
          [
           "Marwin Gonzalez",
           "UT"
          ],
          [
           "Matt Adams",
           "1B"
          ],
          [
           "Matt Carpenter",
           "3B"
          ],
          [
           "Matt Wieters",
           "C"
          ],
          [
           "Max Kepler",
           "RF"
          ],
          [
           "Michael Brantley",
           "LF"
          ],
          [
           "Michael Conforto",
           "RF"
          ],
          [
           "Miguel Cabrera",
           "DH"
          ],
          [
           "Miguel Rojas",
           "SS"
          ],
          [
           "Mike Moustakas",
           "3B"
          ],
          [
           "Mike Trout",
           "CF"
          ],
          [
           "Mike Zunino",
           "C"
          ],
          [
           "Mitch Moreland",
           "1B"
          ],
          [
           "Mookie Betts",
           "RF"
          ],
          [
           "Neil Walker",
           "CI"
          ],
          [
           "Nelson Cruz",
           "DH"
          ],
          [
           "Nicholas Castellanos",
           "RF"
          ],
          [
           "Nick Ahmed",
           "SS"
          ],
          [
           "Nolan Arenado",
           "3B"
          ],
          [
           "Nomar Mazara",
           "RF"
          ],
          [
           "Odubel Herrera",
           "CF"
          ],
          [
           "Paul DeJong",
           "SS"
          ],
          [
           "Paul Goldschmidt",
           "1B"
          ],
          [
           "Randal Grichuk",
           "RF"
          ],
          [
           "Robbie Grossman",
           "LF"
          ],
          [
           "Roberto Perez",
           "C"
          ],
          [
           "Robinson Cano",
           "2B"
          ],
          [
           "Robinson Chirinos",
           "C"
          ],
          [
           "Rougned Odor",
           "2B"
          ],
          [
           "Russell Martin",
           "C"
          ],
          [
           "Ryan Braun",
           "LF"
          ],
          [
           "Ryan Zimmerman",
           "1B"
          ],
          [
           "Sandy Leon",
           "C"
          ],
          [
           "Scott Kingery",
           "CF"
          ],
          [
           "Shin-Soo Choo",
           "DH"
          ],
          [
           "Starlin Castro",
           "2B"
          ],
          [
           "Starling Marte",
           "CF"
          ],
          [
           "Stephen Piscotty",
           "RF"
          ],
          [
           "Tim Anderson",
           "SS"
          ],
          [
           "Tim Beckham",
           "SS"
          ],
          [
           "Tommy La Stella",
           "IF"
          ],
          [
           "Tommy Pham",
           "LF"
          ],
          [
           "Tony Wolters",
           "C"
          ],
          [
           "Travis d'Arnaud",
           "C"
          ],
          [
           "Trea Turner",
           "SS"
          ],
          [
           "Trevor Story",
           "SS"
          ],
          [
           "Tucker Barnhart",
           "C"
          ],
          [
           "Welington Castillo",
           "C"
          ],
          [
           "Whit Merrifield",
           "2B"
          ],
          [
           "Wil Myers",
           "LF"
          ],
          [
           "Wilmer Flores",
           "2B"
          ],
          [
           "Wilson Ramos",
           "C"
          ],
          [
           "Xander Bogaerts",
           "SS"
          ],
          [
           "Yadier Molina",
           "C"
          ],
          [
           "Yan Gomes",
           "C"
          ],
          [
           "Yasiel Puig",
           "RF"
          ],
          [
           "Yasmani Grandal",
           "C"
          ],
          [
           "Yolmer Sanchez",
           "2B"
          ],
          [
           "Yuli Gurriel",
           "1B"
          ],
          [
           "Zack Cozart",
           "3B"
          ]
         ],
         "type": "scatter",
         "x": [
          -0.5735617580320977,
          0.06506637156077758,
          -0.7187045147577512,
          -0.6606474120674898,
          2.909864403383586,
          -0.8638472714834047,
          -0.5372760688506844,
          1.7487223495783581,
          0.7327230524987836,
          -1.0499928569840553,
          0.29729478232182316,
          1.5745510415075739,
          0.6290497585110002,
          -0.6461331363949244,
          -0.8551387060798654,
          -0.8928758228285354,
          -0.6461331363949244,
          0.6601516741359569,
          -0.5372760688506844,
          -1.0089900282090583,
          1.3423226307465284,
          1.0520371172952212,
          -0.9654472011913621,
          -1.0089900282090583,
          -0.06556210949231055,
          0.15215202559616967,
          -0.6352474296405004,
          0.5205913981194854,
          2.0648110520348384,
          -0.9001329606648181,
          -0.45744755265157494,
          -0.4284190013064442,
          -0.8638472714834047,
          1.7971032201059902,
          -0.029276420310897184,
          1.9664364846668383,
          2.1841506197553184,
          -0.5517903445232497,
          -0.7187045147577512,
          -0.6461331363949244,
          -0.7404759282665992,
          0.26100909314040976,
          0.07958064723334292,
          -0.5735617580320977,
          -1.016247166045341,
          -0.9001329606648181,
          -0.9364186498462315,
          -0.500990379669271,
          -0.1381334878551373,
          0.7762658795164796,
          -0.9509329255187967,
          -0.8638472714834047,
          1.2407227010385709,
          0.5512946065917167,
          0.5875802957731301,
          -0.8711044093196874,
          -0.5459846342542236,
          -0.259085881888353,
          -0.4284190013064442,
          1.9906753250400224,
          -0.9654472011913621,
          -0.8880377793185992,
          1.0592942551315039,
          -0.6134760161316525,
          1.8938651063040115,
          -0.28327624458079076,
          -0.09666417026002394,
          0.9746276954224583,
          0.5150089174103033,
          0.4206661255386286,
          -0.5735617580320977,
          0.5875802957731301,
          -0.9364186498462315,
          -1.022052876314367,
          -0.2687619689082254,
          -1.0406311491752507,
          -0.7912758931205779,
          -0.5735617580320977,
          1.0230085659500905,
          -0.6098474472135111,
          2.2930076872995584,
          -0.2977905202533561,
          0.0868377850696256,
          -0.4538189837334336,
          -0.8330770070575662,
          -0.7912758931205779,
          -0.6098474472135111,
          0.007009268870516186,
          1.7487223495783581,
          0.9746276954224583,
          -0.39939044996131357,
          0.877865809224437,
          1.0012371524412425,
          -0.6824188255763378,
          -1.030761441717906,
          -0.4284190013064442,
          -0.6025903093772285,
          2.4744361332066256,
          -0.6679045499037725,
          -0.06556210949231055,
          -0.4538189837334336,
          -0.3921333121250309,
          -0.6340379550487055,
          1.168151322675744,
          0.2247234039589964,
          -0.7912758931205779,
          -0.9908471836183514,
          -0.7513616350210233,
          -0.5517903445232497,
          -0.8638472714834047,
          -0.9981043214546341,
          0.7327230524987836,
          0.15215202559616967,
          -0.7187045147577512,
          -0.6316188607223591,
          -0.7912758931205779,
          0.007009268870516186,
          1.6035795928527046,
          0.5875802957731301,
          -0.8057901687931432,
          0.031199776705710672,
          -0.3123047959259215,
          -0.9891054705376436,
          1.2407227010385709,
          0.3698661606846499,
          -0.21070486621796403,
          0.7182087768262182,
          -0.5735617580320977,
          -0.6620988396347464,
          -0.7187045147577512,
          -0.9291615120099488,
          -0.8493329958108393,
          1.0230085659500905,
          -0.8742146734535614,
          -0.9727043390276447,
          -0.39939044996131357,
          0.5875802957731301,
          -0.9219043741736661,
          0.6238659849545435,
          -0.2977905202533561,
          -0.856590133647122,
          -1.0089900282090583,
          -0.7912758931205779,
          1.0230085659500905,
          0.5875802957731301,
          -0.7187045147577512,
          0.9867228767686772,
          -0.9364186498462315,
          -0.28327624458079076,
          1.168151322675744,
          -0.5699331891139564,
          3.200149916834893,
          -0.6962073874652749,
          -0.1381334878551373,
          4.191958706079273,
          -0.5137629422611285,
          -0.21070486621796403,
          1.7487223495783581,
          -0.8638472714834047,
          0.877865809224437,
          0.2900376444855405,
          -0.6224265345106533,
          2.6195788899322787,
          -0.6751616877400551,
          -0.37761903645246553,
          -0.912228142011037,
          0.9504371875872638,
          -0.4284190013064442,
          -0.8638472714834047,
          -0.7731330485298713,
          2.329293376480972,
          -0.31956193376220415,
          -0.017181238964678304,
          1.7487223495783581,
          1.6035795928527046,
          1.458436836127051,
          -0.7949044620387192,
          -0.9364186498462315,
          1.8938651063040115,
          0.5668456369755734,
          0.3456757979922121,
          -0.08975261732750504,
          -0.9509329255187967,
          -0.9001329606648181,
          -0.9581900633550794,
          -0.5590474823595324,
          -1.0147957384780844,
          -0.6439559950440397,
          -0.6134760161316525,
          -0.4284190013064442,
          -0.7277759370531045,
          -0.10184779867372393,
          -1.0089900282090583,
          -0.3558476229436175,
          -0.6098474472135111,
          -0.10184779867372393,
          0.5875802957731301,
          1.7487223495783581,
          -0.1260381613661617,
          0.2537519553041271,
          1.168151322675744,
          -0.4828475350785643,
          0.35535188501208453,
          0.6843421819711513
         ],
         "y": [
          0.4777844233764955,
          0.5095692015825302,
          0.024851333940502335,
          0.024851333940502335,
          0.2632371704857619,
          0.49367681247951284,
          0.0645823066980456,
          0.024851333940502335,
          -0.5711132574226457,
          0.5095692015825302,
          0.4777844233764955,
          1.407489185903007,
          0.9863408746730484,
          0.5890311470976166,
          -1.8345581911125206,
          0.11225947400709752,
          0.49367681247951284,
          -2.0173206657972194,
          -2.6609624244694197,
          0.8671479564004186,
          0.07252850124955425,
          -1.4690332417431227,
          -0.6267366192832063,
          0.8035783999883495,
          0.5731387579945993,
          0.4301072560674436,
          0.14404425221313213,
          0.7876860108853321,
          -0.0705030006776015,
          0.5731387579945993,
          0.33475292144933977,
          0.835363178194384,
          -2.4225765879241603,
          0.85920176184891,
          0.07252850124955425,
          1.2167805166667993,
          -1.7233114673913994,
          -0.0705030006776015,
          -2.6689086190209284,
          0.5254615906855474,
          0.4777844233764955,
          2.1623776682963283,
          0.740008843576281,
          0.3665376996553744,
          -0.0705030006776015,
          -0.6267366192832063,
          -2.112675000415323,
          1.1849957384607648,
          0.41421486696442633,
          -0.4757589228045419,
          -1.3736789071250188,
          0.3585915051038657,
          0.0804746958010629,
          0.28707575414028785,
          0.9863408746730484,
          0.4777844233764955,
          0.5413539797885647,
          0.5731387579945993,
          -1.6279571327732956,
          0.6367083144066685,
          0.08842089035257156,
          0.45394583972196956,
          0.07252850124955425,
          0.024851333940502335,
          0.19172141952218405,
          0.8035783999883495,
          0.9625022910185225,
          0.3665376996553744,
          -1.6915266891853649,
          0.8035783999883495,
          0.2711833650372706,
          1.2485652948728339,
          0.0010127502859763767,
          -0.9684229849980783,
          0.28707575414028785,
          -0.610844230180189,
          -0.6267366192832063,
          1.3439196294909377,
          0.5095692015825302,
          -0.6267366192832063,
          1.0816952092911523,
          0.5731387579945993,
          0.07252850124955425,
          -1.6279571327732956,
          0.056636112146536945,
          0.4777844233764955,
          -1.4690332417431227,
          0.33475292144933977,
          0.5095692015825302,
          0.024851333940502335,
          0.7797398163338235,
          0.2791295595887792,
          0.07252850124955425,
          -3.0185411792873085,
          0.49367681247951284,
          0.6843854817157204,
          -1.4690332417431227,
          0.21556000317671,
          -0.6028980356286804,
          0.34269911600084846,
          0.5095692015825302,
          0.14404425221313213,
          0.7241164544732638,
          0.5413539797885647,
          0.8830403455034359,
          0.07252850124955425,
          0.056636112146536945,
          -1.4769794362946311,
          0.5095692015825302,
          -2.565608089851316,
          -0.0863953897806188,
          0.07252850124955425,
          -1.4928718253976485,
          -0.6982523702467842,
          0.056636112146536945,
          -0.7459295375558361,
          -0.0705030006776015,
          0.7479550381277897,
          -2.343114642409074,
          1.3677582131454638,
          -0.45192033915001595,
          0.3029681432433052,
          -1.7233114673913994,
          -0.6346828138347149,
          0.4777844233764955,
          0.5095692015825302,
          0.85920176184891,
          0.3188605323463225,
          0.8194707890913667,
          -1.5643875763612265,
          0.07252850124955425,
          -1.4531408526401053,
          -0.02282583336854958,
          0.8035783999883495,
          -1.802773412906486,
          -0.0863953897806188,
          0.49367681247951284,
          -0.0705030006776015,
          0.4777844233764955,
          0.8830403455034359,
          0.8830403455034359,
          -1.5564413818097178,
          -0.6346828138347149,
          -1.7233114673913994,
          -0.12612636253816206,
          0.1281518631101148,
          0.056636112146536945,
          0.08842089035257156,
          0.604923536200634,
          0.8035783999883495,
          0.7876860108853321,
          -0.0705030006776015,
          0.024851333940502335,
          0.7559012326792975,
          1.9239918317510685,
          -1.7471500510459255,
          0.42216106151593497,
          0.8830403455034359,
          0.024851333940502335,
          1.2565114894243425,
          0.8194707890913667,
          0.3188605323463225,
          1.3439196294909377,
          0.4777844233764955,
          -1.850450580215538,
          0.3506453105523571,
          0.4777844233764955,
          0.3029681432433052,
          -1.3736789071250188,
          0.3824300887583917,
          0.14404425221313213,
          0.34269911600084846,
          0.2711833650372706,
          -1.7471500510459255,
          0.8035783999883495,
          -0.0705030006776015,
          -1.802773412906486,
          0.5095692015825302,
          0.49367681247951284,
          0.3188605323463225,
          0.7797398163338235,
          0.024851333940502335,
          0.85920176184891,
          0.13609805766162347,
          0.33475292144933977,
          0.49367681247951284,
          -1.9696434984881677,
          0.1281518631101148,
          0.8194707890913667,
          0.8830403455034359,
          -0.12612636253816206,
          -0.0863953897806188,
          0.5095692015825302,
          0.024851333940502335,
          0.6526007035096859,
          0.0645823066980456,
          1.0260718474305917,
          -0.02282583336854958,
          -0.02282583336854958,
          0.49367681247951284,
          0.7082240653702464,
          -1.4054636853310534,
          0.8035783999883495,
          -4.957412649855418
         ]
        }
       ],
       "layout": {
        "height": 600,
        "template": {
         "data": {
          "bar": [
           {
            "error_x": {
             "color": "#f2f5fa"
            },
            "error_y": {
             "color": "#f2f5fa"
            },
            "marker": {
             "line": {
              "color": "rgb(17,17,17)",
              "width": 0.5
             }
            },
            "type": "bar"
           }
          ],
          "barpolar": [
           {
            "marker": {
             "line": {
              "color": "rgb(17,17,17)",
              "width": 0.5
             }
            },
            "type": "barpolar"
           }
          ],
          "carpet": [
           {
            "aaxis": {
             "endlinecolor": "#A2B1C6",
             "gridcolor": "#506784",
             "linecolor": "#506784",
             "minorgridcolor": "#506784",
             "startlinecolor": "#A2B1C6"
            },
            "baxis": {
             "endlinecolor": "#A2B1C6",
             "gridcolor": "#506784",
             "linecolor": "#506784",
             "minorgridcolor": "#506784",
             "startlinecolor": "#A2B1C6"
            },
            "type": "carpet"
           }
          ],
          "choropleth": [
           {
            "colorbar": {
             "outlinewidth": 0,
             "ticks": ""
            },
            "type": "choropleth"
           }
          ],
          "contour": [
           {
            "colorbar": {
             "outlinewidth": 0,
             "ticks": ""
            },
            "colorscale": [
             [
              0,
              "#0d0887"
             ],
             [
              0.1111111111111111,
              "#46039f"
             ],
             [
              0.2222222222222222,
              "#7201a8"
             ],
             [
              0.3333333333333333,
              "#9c179e"
             ],
             [
              0.4444444444444444,
              "#bd3786"
             ],
             [
              0.5555555555555556,
              "#d8576b"
             ],
             [
              0.6666666666666666,
              "#ed7953"
             ],
             [
              0.7777777777777778,
              "#fb9f3a"
             ],
             [
              0.8888888888888888,
              "#fdca26"
             ],
             [
              1,
              "#f0f921"
             ]
            ],
            "type": "contour"
           }
          ],
          "contourcarpet": [
           {
            "colorbar": {
             "outlinewidth": 0,
             "ticks": ""
            },
            "type": "contourcarpet"
           }
          ],
          "heatmap": [
           {
            "colorbar": {
             "outlinewidth": 0,
             "ticks": ""
            },
            "colorscale": [
             [
              0,
              "#0d0887"
             ],
             [
              0.1111111111111111,
              "#46039f"
             ],
             [
              0.2222222222222222,
              "#7201a8"
             ],
             [
              0.3333333333333333,
              "#9c179e"
             ],
             [
              0.4444444444444444,
              "#bd3786"
             ],
             [
              0.5555555555555556,
              "#d8576b"
             ],
             [
              0.6666666666666666,
              "#ed7953"
             ],
             [
              0.7777777777777778,
              "#fb9f3a"
             ],
             [
              0.8888888888888888,
              "#fdca26"
             ],
             [
              1,
              "#f0f921"
             ]
            ],
            "type": "heatmap"
           }
          ],
          "heatmapgl": [
           {
            "colorbar": {
             "outlinewidth": 0,
             "ticks": ""
            },
            "colorscale": [
             [
              0,
              "#0d0887"
             ],
             [
              0.1111111111111111,
              "#46039f"
             ],
             [
              0.2222222222222222,
              "#7201a8"
             ],
             [
              0.3333333333333333,
              "#9c179e"
             ],
             [
              0.4444444444444444,
              "#bd3786"
             ],
             [
              0.5555555555555556,
              "#d8576b"
             ],
             [
              0.6666666666666666,
              "#ed7953"
             ],
             [
              0.7777777777777778,
              "#fb9f3a"
             ],
             [
              0.8888888888888888,
              "#fdca26"
             ],
             [
              1,
              "#f0f921"
             ]
            ],
            "type": "heatmapgl"
           }
          ],
          "histogram": [
           {
            "marker": {
             "colorbar": {
              "outlinewidth": 0,
              "ticks": ""
             }
            },
            "type": "histogram"
           }
          ],
          "histogram2d": [
           {
            "colorbar": {
             "outlinewidth": 0,
             "ticks": ""
            },
            "colorscale": [
             [
              0,
              "#0d0887"
             ],
             [
              0.1111111111111111,
              "#46039f"
             ],
             [
              0.2222222222222222,
              "#7201a8"
             ],
             [
              0.3333333333333333,
              "#9c179e"
             ],
             [
              0.4444444444444444,
              "#bd3786"
             ],
             [
              0.5555555555555556,
              "#d8576b"
             ],
             [
              0.6666666666666666,
              "#ed7953"
             ],
             [
              0.7777777777777778,
              "#fb9f3a"
             ],
             [
              0.8888888888888888,
              "#fdca26"
             ],
             [
              1,
              "#f0f921"
             ]
            ],
            "type": "histogram2d"
           }
          ],
          "histogram2dcontour": [
           {
            "colorbar": {
             "outlinewidth": 0,
             "ticks": ""
            },
            "colorscale": [
             [
              0,
              "#0d0887"
             ],
             [
              0.1111111111111111,
              "#46039f"
             ],
             [
              0.2222222222222222,
              "#7201a8"
             ],
             [
              0.3333333333333333,
              "#9c179e"
             ],
             [
              0.4444444444444444,
              "#bd3786"
             ],
             [
              0.5555555555555556,
              "#d8576b"
             ],
             [
              0.6666666666666666,
              "#ed7953"
             ],
             [
              0.7777777777777778,
              "#fb9f3a"
             ],
             [
              0.8888888888888888,
              "#fdca26"
             ],
             [
              1,
              "#f0f921"
             ]
            ],
            "type": "histogram2dcontour"
           }
          ],
          "mesh3d": [
           {
            "colorbar": {
             "outlinewidth": 0,
             "ticks": ""
            },
            "type": "mesh3d"
           }
          ],
          "parcoords": [
           {
            "line": {
             "colorbar": {
              "outlinewidth": 0,
              "ticks": ""
             }
            },
            "type": "parcoords"
           }
          ],
          "pie": [
           {
            "automargin": true,
            "type": "pie"
           }
          ],
          "scatter": [
           {
            "marker": {
             "line": {
              "color": "#283442"
             }
            },
            "type": "scatter"
           }
          ],
          "scatter3d": [
           {
            "line": {
             "colorbar": {
              "outlinewidth": 0,
              "ticks": ""
             }
            },
            "marker": {
             "colorbar": {
              "outlinewidth": 0,
              "ticks": ""
             }
            },
            "type": "scatter3d"
           }
          ],
          "scattercarpet": [
           {
            "marker": {
             "colorbar": {
              "outlinewidth": 0,
              "ticks": ""
             }
            },
            "type": "scattercarpet"
           }
          ],
          "scattergeo": [
           {
            "marker": {
             "colorbar": {
              "outlinewidth": 0,
              "ticks": ""
             }
            },
            "type": "scattergeo"
           }
          ],
          "scattergl": [
           {
            "marker": {
             "line": {
              "color": "#283442"
             }
            },
            "type": "scattergl"
           }
          ],
          "scattermapbox": [
           {
            "marker": {
             "colorbar": {
              "outlinewidth": 0,
              "ticks": ""
             }
            },
            "type": "scattermapbox"
           }
          ],
          "scatterpolar": [
           {
            "marker": {
             "colorbar": {
              "outlinewidth": 0,
              "ticks": ""
             }
            },
            "type": "scatterpolar"
           }
          ],
          "scatterpolargl": [
           {
            "marker": {
             "colorbar": {
              "outlinewidth": 0,
              "ticks": ""
             }
            },
            "type": "scatterpolargl"
           }
          ],
          "scatterternary": [
           {
            "marker": {
             "colorbar": {
              "outlinewidth": 0,
              "ticks": ""
             }
            },
            "type": "scatterternary"
           }
          ],
          "surface": [
           {
            "colorbar": {
             "outlinewidth": 0,
             "ticks": ""
            },
            "colorscale": [
             [
              0,
              "#0d0887"
             ],
             [
              0.1111111111111111,
              "#46039f"
             ],
             [
              0.2222222222222222,
              "#7201a8"
             ],
             [
              0.3333333333333333,
              "#9c179e"
             ],
             [
              0.4444444444444444,
              "#bd3786"
             ],
             [
              0.5555555555555556,
              "#d8576b"
             ],
             [
              0.6666666666666666,
              "#ed7953"
             ],
             [
              0.7777777777777778,
              "#fb9f3a"
             ],
             [
              0.8888888888888888,
              "#fdca26"
             ],
             [
              1,
              "#f0f921"
             ]
            ],
            "type": "surface"
           }
          ],
          "table": [
           {
            "cells": {
             "fill": {
              "color": "#506784"
             },
             "line": {
              "color": "rgb(17,17,17)"
             }
            },
            "header": {
             "fill": {
              "color": "#2a3f5f"
             },
             "line": {
              "color": "rgb(17,17,17)"
             }
            },
            "type": "table"
           }
          ]
         },
         "layout": {
          "annotationdefaults": {
           "arrowcolor": "#f2f5fa",
           "arrowhead": 0,
           "arrowwidth": 1
          },
          "autotypenumbers": "strict",
          "coloraxis": {
           "colorbar": {
            "outlinewidth": 0,
            "ticks": ""
           }
          },
          "colorscale": {
           "diverging": [
            [
             0,
             "#8e0152"
            ],
            [
             0.1,
             "#c51b7d"
            ],
            [
             0.2,
             "#de77ae"
            ],
            [
             0.3,
             "#f1b6da"
            ],
            [
             0.4,
             "#fde0ef"
            ],
            [
             0.5,
             "#f7f7f7"
            ],
            [
             0.6,
             "#e6f5d0"
            ],
            [
             0.7,
             "#b8e186"
            ],
            [
             0.8,
             "#7fbc41"
            ],
            [
             0.9,
             "#4d9221"
            ],
            [
             1,
             "#276419"
            ]
           ],
           "sequential": [
            [
             0,
             "#0d0887"
            ],
            [
             0.1111111111111111,
             "#46039f"
            ],
            [
             0.2222222222222222,
             "#7201a8"
            ],
            [
             0.3333333333333333,
             "#9c179e"
            ],
            [
             0.4444444444444444,
             "#bd3786"
            ],
            [
             0.5555555555555556,
             "#d8576b"
            ],
            [
             0.6666666666666666,
             "#ed7953"
            ],
            [
             0.7777777777777778,
             "#fb9f3a"
            ],
            [
             0.8888888888888888,
             "#fdca26"
            ],
            [
             1,
             "#f0f921"
            ]
           ],
           "sequentialminus": [
            [
             0,
             "#0d0887"
            ],
            [
             0.1111111111111111,
             "#46039f"
            ],
            [
             0.2222222222222222,
             "#7201a8"
            ],
            [
             0.3333333333333333,
             "#9c179e"
            ],
            [
             0.4444444444444444,
             "#bd3786"
            ],
            [
             0.5555555555555556,
             "#d8576b"
            ],
            [
             0.6666666666666666,
             "#ed7953"
            ],
            [
             0.7777777777777778,
             "#fb9f3a"
            ],
            [
             0.8888888888888888,
             "#fdca26"
            ],
            [
             1,
             "#f0f921"
            ]
           ]
          },
          "colorway": [
           "#636efa",
           "#EF553B",
           "#00cc96",
           "#ab63fa",
           "#FFA15A",
           "#19d3f3",
           "#FF6692",
           "#B6E880",
           "#FF97FF",
           "#FECB52"
          ],
          "font": {
           "color": "#f2f5fa"
          },
          "geo": {
           "bgcolor": "rgb(17,17,17)",
           "lakecolor": "rgb(17,17,17)",
           "landcolor": "rgb(17,17,17)",
           "showlakes": true,
           "showland": true,
           "subunitcolor": "#506784"
          },
          "hoverlabel": {
           "align": "left"
          },
          "hovermode": "closest",
          "mapbox": {
           "style": "dark"
          },
          "paper_bgcolor": "rgb(17,17,17)",
          "plot_bgcolor": "rgb(17,17,17)",
          "polar": {
           "angularaxis": {
            "gridcolor": "#506784",
            "linecolor": "#506784",
            "ticks": ""
           },
           "bgcolor": "rgb(17,17,17)",
           "radialaxis": {
            "gridcolor": "#506784",
            "linecolor": "#506784",
            "ticks": ""
           }
          },
          "scene": {
           "xaxis": {
            "backgroundcolor": "rgb(17,17,17)",
            "gridcolor": "#506784",
            "gridwidth": 2,
            "linecolor": "#506784",
            "showbackground": true,
            "ticks": "",
            "zerolinecolor": "#C8D4E3"
           },
           "yaxis": {
            "backgroundcolor": "rgb(17,17,17)",
            "gridcolor": "#506784",
            "gridwidth": 2,
            "linecolor": "#506784",
            "showbackground": true,
            "ticks": "",
            "zerolinecolor": "#C8D4E3"
           },
           "zaxis": {
            "backgroundcolor": "rgb(17,17,17)",
            "gridcolor": "#506784",
            "gridwidth": 2,
            "linecolor": "#506784",
            "showbackground": true,
            "ticks": "",
            "zerolinecolor": "#C8D4E3"
           }
          },
          "shapedefaults": {
           "line": {
            "color": "#f2f5fa"
           }
          },
          "sliderdefaults": {
           "bgcolor": "#C8D4E3",
           "bordercolor": "rgb(17,17,17)",
           "borderwidth": 1,
           "tickwidth": 0
          },
          "ternary": {
           "aaxis": {
            "gridcolor": "#506784",
            "linecolor": "#506784",
            "ticks": ""
           },
           "baxis": {
            "gridcolor": "#506784",
            "linecolor": "#506784",
            "ticks": ""
           },
           "bgcolor": "rgb(17,17,17)",
           "caxis": {
            "gridcolor": "#506784",
            "linecolor": "#506784",
            "ticks": ""
           }
          },
          "title": {
           "x": 0.05
          },
          "updatemenudefaults": {
           "bgcolor": "#506784",
           "borderwidth": 0
          },
          "xaxis": {
           "automargin": true,
           "gridcolor": "#283442",
           "linecolor": "#506784",
           "ticks": "",
           "title": {
            "standoff": 15
           },
           "zerolinecolor": "#283442",
           "zerolinewidth": 2
          },
          "yaxis": {
           "automargin": true,
           "gridcolor": "#283442",
           "linecolor": "#506784",
           "ticks": "",
           "title": {
            "standoff": 15
           },
           "zerolinecolor": "#283442",
           "zerolinewidth": 2
          }
         }
        },
        "title": {
         "text": "Scaled Salary vs Scaled Rating"
        },
        "width": 1000,
        "xaxis": {
         "title": {
          "text": "Scaled Salary"
         }
        },
        "yaxis": {
         "title": {
          "text": "Scaled Rating"
         }
        }
       }
      },
      "text/html": [
       "<div>                            <div id=\"5e6ab4a5-73c4-496c-904b-96891df91053\" class=\"plotly-graph-div\" style=\"height:600px; width:1000px;\"></div>            <script type=\"text/javascript\">                require([\"plotly\"], function(Plotly) {                    window.PLOTLYENV=window.PLOTLYENV || {};                                    if (document.getElementById(\"5e6ab4a5-73c4-496c-904b-96891df91053\")) {                    Plotly.newPlot(                        \"5e6ab4a5-73c4-496c-904b-96891df91053\",                        [{\"hovertemplate\": \"<b>%{text}</b><br><b>Salary</b>: %{x:.2f}<br><b>Rating</b>: %{y:.2f}<br><b>Home Runs</b>: %{marker.size}<br><b>OPS</b>: %{marker.color:.3f}\", \"marker\": {\"color\": [0.795, 0.792, 0.728, 0.6990000000000001, 0.7340000000000001, 0.823, 0.774, 0.741, 0.6729999999999999, 0.774, 0.8340000000000001, 1.01, 0.924, 0.7829999999999999, 0.563, 0.748, 0.7959999999999999, 0.6709999999999999, 0.564, 0.894, 0.742, 0.654, 0.642, 0.85, 0.8290000000000001, 0.7709999999999999, 0.7709999999999999, 0.882, 0.688, 0.8270000000000001, 0.78, 0.9259999999999999, 0.5720000000000001, 0.9109999999999999, 0.741, 0.94, 0.601, 0.728, 0.44299999999999995, 0.794, 0.7979999999999999, 1.1, 0.9059999999999999, 0.8170000000000001, 0.741, 0.637, 0.521, 1.002, 0.804, 0.6629999999999999, 0.672, 0.79, 0.754, 0.718, 0.893, 0.77, 0.8, 0.831, 0.5479999999999999, 0.875, 0.765, 0.828, 0.7070000000000001, 0.715, 0.735, 0.851, 0.93, 0.762, 0.649, 0.8540000000000001, 0.7340000000000001, 0.9740000000000001, 0.684, 0.718, 0.726, 0.6679999999999999, 0.642, 0.966, 0.7879999999999999, 0.6459999999999999, 0.9390000000000001, 0.82, 0.738, 0.6759999999999999, 0.7, 0.789, 0.633, 0.767, 0.772, 0.715, 0.847, 0.784, 0.743, 0.433, 0.8220000000000001, 0.8759999999999999, 0.6509999999999999, 0.768, 0.66, 0.777, 0.792, 0.747, 0.841, 0.8340000000000001, 0.903, 0.7240000000000001, 0.7509999999999999, 0.631, 0.8059999999999999, 0.48, 0.693, 0.728, 0.605, 0.617, 0.711, 0.623, 0.748, 0.8809999999999999, 0.5660000000000001, 0.981, 0.6759999999999999, 0.7190000000000001, 0.629, 0.679, 0.792, 0.784, 0.903, 0.809, 0.871, 0.619, 0.688, 0.6779999999999999, 0.6970000000000001, 0.8690000000000001, 0.5760000000000001, 0.705, 0.7959999999999999, 0.7240000000000001, 0.8, 0.892, 0.9129999999999999, 0.601, 0.6709999999999999, 0.5589999999999999, 0.736, 0.741, 0.726, 0.7020000000000001, 0.855, 0.875, 0.856, 0.7440000000000001, 0.71, 0.845, 1.083, 0.544, 0.835, 0.915, 0.738, 1.031, 0.863, 0.753, 0.9620000000000001, 0.7859999999999999, 0.629, 0.762, 0.821, 0.738, 0.682, 0.774, 0.736, 0.79, 0.721, 0.667, 0.8490000000000001, 0.736, 0.5479999999999999, 0.7879999999999999, 0.826, 0.736, 0.845, 0.72, 0.865, 0.753, 0.8320000000000001, 0.818, 0.6659999999999999, 0.745, 0.85, 0.917, 0.708, 0.684, 0.8109999999999999, 0.7390000000000001, 0.848, 0.768, 0.9390000000000001, 0.711, 0.7040000000000001, 0.785, 0.848, 0.638, 0.884, 0.322], \"colorscale\": [[0.0, \"rgb(0,0,255)\"], [1.0, \"rgb(255,0,0)\"]], \"size\": [15, 15, 16, 9, 23, 9, 9, 13, 7, 13, 10, 34, 27, 18, 11, 8, 20, 1, 0, 13, 17, 11, 15, 17, 28, 20, 3, 35, 7, 10, 25, 21, 3, 34, 14, 32, 12, 6, 3, 12, 23, 44, 12, 19, 8, 12, 2, 11, 12, 3, 4, 19, 19, 16, 26, 21, 32, 35, 2, 34, 5, 31, 12, 17, 22, 25, 49, 20, 3, 32, 23, 39, 9, 4, 6, 5, 8, 17, 20, 9, 36, 25, 21, 6, 10, 18, 7, 13, 21, 17, 29, 26, 12, 2, 19, 36, 5, 15, 8, 23, 24, 9, 22, 33, 31, 11, 10, 6, 23, 1, 12, 14, 5, 10, 20, 8, 22, 27, 2, 32, 14, 21, 3, 23, 33, 11, 31, 17, 38, 9, 8, 7, 11, 20, 4, 17, 32, 7, 29, 33, 26, 4, 12, 2, 15, 20, 15, 11, 36, 22, 33, 12, 5, 35, 45, 9, 19, 29, 8, 41, 27, 19, 41, 19, 1, 30, 34, 31, 6, 24, 13, 17, 30, 6, 22, 6, 5, 19, 24, 22, 23, 13, 18, 15, 16, 21, 1, 16, 19, 35, 11, 12, 16, 18, 9, 14, 33, 10, 12, 24, 28, 2, 31, 0]}, \"mode\": \"markers\", \"text\": [[\"A.J. Pollock\", \"CF\"], [\"Adam Eaton\", \"RF\"], [\"Adam Jones\", \"RF\"], [\"Addison Russell\", \"2B\"], [\"Albert Pujols\", \"1B\"], [\"Aledmys Diaz\", \"IF\"], [\"Alex Avila\", \"C\"], [\"Alex Gordon\", \"LF\"], [\"Andrelton Simmons\", \"SS\"], [\"Andrew Benintendi\", \"LF\"], [\"Andrew McCutchen\", \"LF\"], [\"Anthony Rendon\", \"3B\"], [\"Anthony Rizzo\", \"1B\"], [\"Asdrubal Cabrera\", \"3B\"], [\"Austin Hedges\", \"C\"], [\"Austin Romine\", \"C\"], [\"Avisail Garcia\", \"RF\"], [\"Ben Zobrist\", \"2B\"], [\"Billy Hamilton\", \"CF\"], [\"Brad Miller\", \"2B\"], [\"Brandon Belt\", \"1B\"], [\"Brandon Crawford\", \"SS\"], [\"Brandon Drury\", \"UT\"], [\"Brandon Lowe\", \"2B\"], [\"Brett Gardner\", \"CF\"], [\"Brian Dozier\", \"2B\"], [\"Brock Holt\", \"2B\"], [\"Bryce Harper\", \"RF\"], [\"Buster Posey\", \"C\"], [\"Byron Buxton\", \"CF\"], [\"C.J. Cron\", \"1B\"], [\"Carlos Correa\", \"SS\"], [\"Carlos Gonzalez\", \"RF\"], [\"Carlos Santana\", \"1B\"], [\"Cesar Hernandez\", \"2B\"], [\"Charlie Blackmon\", \"RF\"], [\"Chris Davis\", \"1B\"], [\"Chris Iannetta\", \"C\"], [\"Chris Owings\", \"2B\"], [\"Chris Taylor\", \"UT\"], [\"Christian Vazquez\", \"C\"], [\"Christian Yelich\", \"RF\"], [\"Corey Dickerson\", \"LF\"], [\"Corey Seager\", \"SS\"], [\"Curt Casali\", \"C\"], [\"Curtis Granderson\", \"LF\"], [\"Daniel Descalso\", \"2B\"], [\"David Freese\", \"1B\"], [\"David Peralta\", \"LF\"], [\"Dee Gordon\", \"2B\"], [\"Delino DeShields\", \"CF\"], [\"Derek Dietrich\", \"2B\"], [\"Dexter Fowler\", \"RF\"], [\"Didi Gregorius\", \"SS\"], [\"DJ LeMahieu\", \"2B\"], [\"Domingo Santana\", \"LF\"], [\"Eddie Rosario\", \"LF\"], [\"Eduardo Escobar\", \"3B\"], [\"Eduardo Nunez\", \"2B\"], [\"Edwin Encarnacion\", \"DH\"], [\"Ehire Adrianza\", \"IF\"], [\"Eloy Jimenez\", \"LF\"], [\"Elvis Andrus\", \"SS\"], [\"Enrique Hernandez\", \"2B\"], [\"Eric Hosmer\", \"1B\"], [\"Eric Thames\", \"1B\"], [\"Eugenio Suarez\", \"3B\"], [\"Evan Longoria\", \"3B\"], [\"Francisco Cervelli\", \"C\"], [\"Francisco Lindor\", \"SS\"], [\"Freddy Galvis\", \"SS\"], [\"George Springer\", \"OF\"], [\"Gerardo Parra\", \"LF\"], [\"Greg Garcia\", \"2B\"], [\"Gregory Polanco\", \"RF\"], [\"Guillermo Heredia\", \"OF\"], [\"Hernan Perez\", \"2B\"], [\"Howie Kendrick\", \"IF\"], [\"Ian Desmond\", \"CF\"], [\"Ian Kinsler\", \"2B\"], [\"J.D. Martinez\", \"DH\"], [\"J.T. Realmuto\", \"C\"], [\"Jackie Bradley Jr.\", \"CF\"], [\"Jake Lamb\", \"CI\"], [\"Jake Marisnick\", \"CF\"], [\"James McCann\", \"C\"], [\"Jarrod Dyson\", \"OF\"], [\"Jason Castro\", \"C\"], [\"Jason Heyward\", \"RF\"], [\"Jason Kipnis\", \"2B\"], [\"Javier Baez\", \"SS\"], [\"Jay Bruce\", \"RF\"], [\"Jean Segura\", \"SS\"], [\"Jeff Mathis\", \"C\"], [\"Ji-Man Choi\", \"1B\"], [\"Joc Pederson\", \"LF\"], [\"Joe Panik\", \"2B\"], [\"Joey Votto\", \"1B\"], [\"Jonathan Lucroy\", \"C\"], [\"Jonathan Schoop\", \"2B\"], [\"Jonathan Villar\", \"2B\"], [\"Jordy Mercer\", \"SS\"], [\"Jorge Polanco\", \"SS\"], [\"Jose Abreu\", \"1B\"], [\"Jose Altuve\", \"2B\"], [\"Jose Iglesias\", \"SS\"], [\"Jose Martinez\", \"RF\"], [\"Jose Peraza\", \"2B\"], [\"Jose Ramirez\", \"3B\"], [\"Josh Harrison\", \"2B\"], [\"Josh Phegley\", \"C\"], [\"Josh Reddick\", \"RF\"], [\"Juan Lagares\", \"CF\"], [\"Jung Ho Kang\", \"3B\"], [\"Jurickson Profar\", \"2B\"], [\"Justin Bour\", \"1B\"], [\"Justin Smoak\", \"1B\"], [\"Justin Turner\", \"3B\"], [\"Kendrys Morales\", \"DH\"], [\"Ketel Marte\", \"CF\"], [\"Kevin Kiermaier\", \"CF\"], [\"Kevin Pillar\", \"CF\"], [\"Kevin Plawecki\", \"C\"], [\"Khris Davis\", \"DH\"], [\"Kole Calhoun\", \"RF\"], [\"Kolten Wong\", \"2B\"], [\"Kris Bryant\", \"3B\"], [\"Kurt Suzuki\", \"C\"], [\"Kyle Schwarber\", \"LF\"], [\"Leonys Martin\", \"CF\"], [\"Leury Garcia\", \"UT\"], [\"Logan Forsythe\", \"CI\"], [\"Lorenzo Cain\", \"CF\"], [\"Lourdes Gurriel Jr.\", \"LF\"], [\"Lucas Duda\", \"1B\"], [\"Maikel Franco\", \"3B\"], [\"Manny Machado\", \"3B\"], [\"Manny Pina\", \"C\"], [\"Marcell Ozuna\", \"LF\"], [\"Marcus Semien\", \"SS\"], [\"Mark Canha\", \"OF\"], [\"Mark Reynolds\", \"1B\"], [\"Martin Maldonado\", \"C\"], [\"Martin Prado\", \"CI\"], [\"Marwin Gonzalez\", \"UT\"], [\"Matt Adams\", \"1B\"], [\"Matt Carpenter\", \"3B\"], [\"Matt Wieters\", \"C\"], [\"Max Kepler\", \"RF\"], [\"Michael Brantley\", \"LF\"], [\"Michael Conforto\", \"RF\"], [\"Miguel Cabrera\", \"DH\"], [\"Miguel Rojas\", \"SS\"], [\"Mike Moustakas\", \"3B\"], [\"Mike Trout\", \"CF\"], [\"Mike Zunino\", \"C\"], [\"Mitch Moreland\", \"1B\"], [\"Mookie Betts\", \"RF\"], [\"Neil Walker\", \"CI\"], [\"Nelson Cruz\", \"DH\"], [\"Nicholas Castellanos\", \"RF\"], [\"Nick Ahmed\", \"SS\"], [\"Nolan Arenado\", \"3B\"], [\"Nomar Mazara\", \"RF\"], [\"Odubel Herrera\", \"CF\"], [\"Paul DeJong\", \"SS\"], [\"Paul Goldschmidt\", \"1B\"], [\"Randal Grichuk\", \"RF\"], [\"Robbie Grossman\", \"LF\"], [\"Roberto Perez\", \"C\"], [\"Robinson Cano\", \"2B\"], [\"Robinson Chirinos\", \"C\"], [\"Rougned Odor\", \"2B\"], [\"Russell Martin\", \"C\"], [\"Ryan Braun\", \"LF\"], [\"Ryan Zimmerman\", \"1B\"], [\"Sandy Leon\", \"C\"], [\"Scott Kingery\", \"CF\"], [\"Shin-Soo Choo\", \"DH\"], [\"Starlin Castro\", \"2B\"], [\"Starling Marte\", \"CF\"], [\"Stephen Piscotty\", \"RF\"], [\"Tim Anderson\", \"SS\"], [\"Tim Beckham\", \"SS\"], [\"Tommy La Stella\", \"IF\"], [\"Tommy Pham\", \"LF\"], [\"Tony Wolters\", \"C\"], [\"Travis d'Arnaud\", \"C\"], [\"Trea Turner\", \"SS\"], [\"Trevor Story\", \"SS\"], [\"Tucker Barnhart\", \"C\"], [\"Welington Castillo\", \"C\"], [\"Whit Merrifield\", \"2B\"], [\"Wil Myers\", \"LF\"], [\"Wilmer Flores\", \"2B\"], [\"Wilson Ramos\", \"C\"], [\"Xander Bogaerts\", \"SS\"], [\"Yadier Molina\", \"C\"], [\"Yan Gomes\", \"C\"], [\"Yasiel Puig\", \"RF\"], [\"Yasmani Grandal\", \"C\"], [\"Yolmer Sanchez\", \"2B\"], [\"Yuli Gurriel\", \"1B\"], [\"Zack Cozart\", \"3B\"]], \"type\": \"scatter\", \"x\": [-0.5735617580320977, 0.06506637156077758, -0.7187045147577512, -0.6606474120674898, 2.909864403383586, -0.8638472714834047, -0.5372760688506844, 1.7487223495783581, 0.7327230524987836, -1.0499928569840553, 0.29729478232182316, 1.5745510415075739, 0.6290497585110002, -0.6461331363949244, -0.8551387060798654, -0.8928758228285354, -0.6461331363949244, 0.6601516741359569, -0.5372760688506844, -1.0089900282090583, 1.3423226307465284, 1.0520371172952212, -0.9654472011913621, -1.0089900282090583, -0.06556210949231055, 0.15215202559616967, -0.6352474296405004, 0.5205913981194854, 2.0648110520348384, -0.9001329606648181, -0.45744755265157494, -0.4284190013064442, -0.8638472714834047, 1.7971032201059902, -0.029276420310897184, 1.9664364846668383, 2.1841506197553184, -0.5517903445232497, -0.7187045147577512, -0.6461331363949244, -0.7404759282665992, 0.26100909314040976, 0.07958064723334292, -0.5735617580320977, -1.016247166045341, -0.9001329606648181, -0.9364186498462315, -0.500990379669271, -0.1381334878551373, 0.7762658795164796, -0.9509329255187967, -0.8638472714834047, 1.2407227010385709, 0.5512946065917167, 0.5875802957731301, -0.8711044093196874, -0.5459846342542236, -0.259085881888353, -0.4284190013064442, 1.9906753250400224, -0.9654472011913621, -0.8880377793185992, 1.0592942551315039, -0.6134760161316525, 1.8938651063040115, -0.28327624458079076, -0.09666417026002394, 0.9746276954224583, 0.5150089174103033, 0.4206661255386286, -0.5735617580320977, 0.5875802957731301, -0.9364186498462315, -1.022052876314367, -0.2687619689082254, -1.0406311491752507, -0.7912758931205779, -0.5735617580320977, 1.0230085659500905, -0.6098474472135111, 2.2930076872995584, -0.2977905202533561, 0.0868377850696256, -0.4538189837334336, -0.8330770070575662, -0.7912758931205779, -0.6098474472135111, 0.007009268870516186, 1.7487223495783581, 0.9746276954224583, -0.39939044996131357, 0.877865809224437, 1.0012371524412425, -0.6824188255763378, -1.030761441717906, -0.4284190013064442, -0.6025903093772285, 2.4744361332066256, -0.6679045499037725, -0.06556210949231055, -0.4538189837334336, -0.3921333121250309, -0.6340379550487055, 1.168151322675744, 0.2247234039589964, -0.7912758931205779, -0.9908471836183514, -0.7513616350210233, -0.5517903445232497, -0.8638472714834047, -0.9981043214546341, 0.7327230524987836, 0.15215202559616967, -0.7187045147577512, -0.6316188607223591, -0.7912758931205779, 0.007009268870516186, 1.6035795928527046, 0.5875802957731301, -0.8057901687931432, 0.031199776705710672, -0.3123047959259215, -0.9891054705376436, 1.2407227010385709, 0.3698661606846499, -0.21070486621796403, 0.7182087768262182, -0.5735617580320977, -0.6620988396347464, -0.7187045147577512, -0.9291615120099488, -0.8493329958108393, 1.0230085659500905, -0.8742146734535614, -0.9727043390276447, -0.39939044996131357, 0.5875802957731301, -0.9219043741736661, 0.6238659849545435, -0.2977905202533561, -0.856590133647122, -1.0089900282090583, -0.7912758931205779, 1.0230085659500905, 0.5875802957731301, -0.7187045147577512, 0.9867228767686772, -0.9364186498462315, -0.28327624458079076, 1.168151322675744, -0.5699331891139564, 3.200149916834893, -0.6962073874652749, -0.1381334878551373, 4.191958706079273, -0.5137629422611285, -0.21070486621796403, 1.7487223495783581, -0.8638472714834047, 0.877865809224437, 0.2900376444855405, -0.6224265345106533, 2.6195788899322787, -0.6751616877400551, -0.37761903645246553, -0.912228142011037, 0.9504371875872638, -0.4284190013064442, -0.8638472714834047, -0.7731330485298713, 2.329293376480972, -0.31956193376220415, -0.017181238964678304, 1.7487223495783581, 1.6035795928527046, 1.458436836127051, -0.7949044620387192, -0.9364186498462315, 1.8938651063040115, 0.5668456369755734, 0.3456757979922121, -0.08975261732750504, -0.9509329255187967, -0.9001329606648181, -0.9581900633550794, -0.5590474823595324, -1.0147957384780844, -0.6439559950440397, -0.6134760161316525, -0.4284190013064442, -0.7277759370531045, -0.10184779867372393, -1.0089900282090583, -0.3558476229436175, -0.6098474472135111, -0.10184779867372393, 0.5875802957731301, 1.7487223495783581, -0.1260381613661617, 0.2537519553041271, 1.168151322675744, -0.4828475350785643, 0.35535188501208453, 0.6843421819711513], \"y\": [0.4777844233764955, 0.5095692015825302, 0.024851333940502335, 0.024851333940502335, 0.2632371704857619, 0.49367681247951284, 0.0645823066980456, 0.024851333940502335, -0.5711132574226457, 0.5095692015825302, 0.4777844233764955, 1.407489185903007, 0.9863408746730484, 0.5890311470976166, -1.8345581911125206, 0.11225947400709752, 0.49367681247951284, -2.0173206657972194, -2.6609624244694197, 0.8671479564004186, 0.07252850124955425, -1.4690332417431227, -0.6267366192832063, 0.8035783999883495, 0.5731387579945993, 0.4301072560674436, 0.14404425221313213, 0.7876860108853321, -0.0705030006776015, 0.5731387579945993, 0.33475292144933977, 0.835363178194384, -2.4225765879241603, 0.85920176184891, 0.07252850124955425, 1.2167805166667993, -1.7233114673913994, -0.0705030006776015, -2.6689086190209284, 0.5254615906855474, 0.4777844233764955, 2.1623776682963283, 0.740008843576281, 0.3665376996553744, -0.0705030006776015, -0.6267366192832063, -2.112675000415323, 1.1849957384607648, 0.41421486696442633, -0.4757589228045419, -1.3736789071250188, 0.3585915051038657, 0.0804746958010629, 0.28707575414028785, 0.9863408746730484, 0.4777844233764955, 0.5413539797885647, 0.5731387579945993, -1.6279571327732956, 0.6367083144066685, 0.08842089035257156, 0.45394583972196956, 0.07252850124955425, 0.024851333940502335, 0.19172141952218405, 0.8035783999883495, 0.9625022910185225, 0.3665376996553744, -1.6915266891853649, 0.8035783999883495, 0.2711833650372706, 1.2485652948728339, 0.0010127502859763767, -0.9684229849980783, 0.28707575414028785, -0.610844230180189, -0.6267366192832063, 1.3439196294909377, 0.5095692015825302, -0.6267366192832063, 1.0816952092911523, 0.5731387579945993, 0.07252850124955425, -1.6279571327732956, 0.056636112146536945, 0.4777844233764955, -1.4690332417431227, 0.33475292144933977, 0.5095692015825302, 0.024851333940502335, 0.7797398163338235, 0.2791295595887792, 0.07252850124955425, -3.0185411792873085, 0.49367681247951284, 0.6843854817157204, -1.4690332417431227, 0.21556000317671, -0.6028980356286804, 0.34269911600084846, 0.5095692015825302, 0.14404425221313213, 0.7241164544732638, 0.5413539797885647, 0.8830403455034359, 0.07252850124955425, 0.056636112146536945, -1.4769794362946311, 0.5095692015825302, -2.565608089851316, -0.0863953897806188, 0.07252850124955425, -1.4928718253976485, -0.6982523702467842, 0.056636112146536945, -0.7459295375558361, -0.0705030006776015, 0.7479550381277897, -2.343114642409074, 1.3677582131454638, -0.45192033915001595, 0.3029681432433052, -1.7233114673913994, -0.6346828138347149, 0.4777844233764955, 0.5095692015825302, 0.85920176184891, 0.3188605323463225, 0.8194707890913667, -1.5643875763612265, 0.07252850124955425, -1.4531408526401053, -0.02282583336854958, 0.8035783999883495, -1.802773412906486, -0.0863953897806188, 0.49367681247951284, -0.0705030006776015, 0.4777844233764955, 0.8830403455034359, 0.8830403455034359, -1.5564413818097178, -0.6346828138347149, -1.7233114673913994, -0.12612636253816206, 0.1281518631101148, 0.056636112146536945, 0.08842089035257156, 0.604923536200634, 0.8035783999883495, 0.7876860108853321, -0.0705030006776015, 0.024851333940502335, 0.7559012326792975, 1.9239918317510685, -1.7471500510459255, 0.42216106151593497, 0.8830403455034359, 0.024851333940502335, 1.2565114894243425, 0.8194707890913667, 0.3188605323463225, 1.3439196294909377, 0.4777844233764955, -1.850450580215538, 0.3506453105523571, 0.4777844233764955, 0.3029681432433052, -1.3736789071250188, 0.3824300887583917, 0.14404425221313213, 0.34269911600084846, 0.2711833650372706, -1.7471500510459255, 0.8035783999883495, -0.0705030006776015, -1.802773412906486, 0.5095692015825302, 0.49367681247951284, 0.3188605323463225, 0.7797398163338235, 0.024851333940502335, 0.85920176184891, 0.13609805766162347, 0.33475292144933977, 0.49367681247951284, -1.9696434984881677, 0.1281518631101148, 0.8194707890913667, 0.8830403455034359, -0.12612636253816206, -0.0863953897806188, 0.5095692015825302, 0.024851333940502335, 0.6526007035096859, 0.0645823066980456, 1.0260718474305917, -0.02282583336854958, -0.02282583336854958, 0.49367681247951284, 0.7082240653702464, -1.4054636853310534, 0.8035783999883495, -4.957412649855418]}],                        {\"height\": 600, \"template\": {\"data\": {\"bar\": [{\"error_x\": {\"color\": \"#f2f5fa\"}, \"error_y\": {\"color\": \"#f2f5fa\"}, \"marker\": {\"line\": {\"color\": \"rgb(17,17,17)\", \"width\": 0.5}}, \"type\": \"bar\"}], \"barpolar\": [{\"marker\": {\"line\": {\"color\": \"rgb(17,17,17)\", \"width\": 0.5}}, \"type\": \"barpolar\"}], \"carpet\": [{\"aaxis\": {\"endlinecolor\": \"#A2B1C6\", \"gridcolor\": \"#506784\", \"linecolor\": \"#506784\", \"minorgridcolor\": \"#506784\", \"startlinecolor\": \"#A2B1C6\"}, \"baxis\": {\"endlinecolor\": \"#A2B1C6\", \"gridcolor\": \"#506784\", \"linecolor\": \"#506784\", \"minorgridcolor\": \"#506784\", \"startlinecolor\": \"#A2B1C6\"}, \"type\": \"carpet\"}], \"choropleth\": [{\"colorbar\": {\"outlinewidth\": 0, \"ticks\": \"\"}, \"type\": \"choropleth\"}], \"contour\": [{\"colorbar\": {\"outlinewidth\": 0, \"ticks\": \"\"}, \"colorscale\": [[0.0, \"#0d0887\"], [0.1111111111111111, \"#46039f\"], [0.2222222222222222, \"#7201a8\"], [0.3333333333333333, \"#9c179e\"], [0.4444444444444444, \"#bd3786\"], [0.5555555555555556, \"#d8576b\"], [0.6666666666666666, \"#ed7953\"], [0.7777777777777778, \"#fb9f3a\"], [0.8888888888888888, \"#fdca26\"], [1.0, \"#f0f921\"]], \"type\": \"contour\"}], \"contourcarpet\": [{\"colorbar\": {\"outlinewidth\": 0, \"ticks\": \"\"}, \"type\": \"contourcarpet\"}], \"heatmap\": [{\"colorbar\": {\"outlinewidth\": 0, \"ticks\": \"\"}, \"colorscale\": [[0.0, \"#0d0887\"], [0.1111111111111111, \"#46039f\"], [0.2222222222222222, \"#7201a8\"], [0.3333333333333333, \"#9c179e\"], [0.4444444444444444, \"#bd3786\"], [0.5555555555555556, \"#d8576b\"], [0.6666666666666666, \"#ed7953\"], [0.7777777777777778, \"#fb9f3a\"], [0.8888888888888888, \"#fdca26\"], [1.0, \"#f0f921\"]], \"type\": \"heatmap\"}], \"heatmapgl\": [{\"colorbar\": {\"outlinewidth\": 0, \"ticks\": \"\"}, \"colorscale\": [[0.0, \"#0d0887\"], [0.1111111111111111, \"#46039f\"], [0.2222222222222222, \"#7201a8\"], [0.3333333333333333, \"#9c179e\"], [0.4444444444444444, \"#bd3786\"], [0.5555555555555556, \"#d8576b\"], [0.6666666666666666, \"#ed7953\"], [0.7777777777777778, \"#fb9f3a\"], [0.8888888888888888, \"#fdca26\"], [1.0, \"#f0f921\"]], \"type\": \"heatmapgl\"}], \"histogram\": [{\"marker\": {\"colorbar\": {\"outlinewidth\": 0, \"ticks\": \"\"}}, \"type\": \"histogram\"}], \"histogram2d\": [{\"colorbar\": {\"outlinewidth\": 0, \"ticks\": \"\"}, \"colorscale\": [[0.0, \"#0d0887\"], [0.1111111111111111, \"#46039f\"], [0.2222222222222222, \"#7201a8\"], [0.3333333333333333, \"#9c179e\"], [0.4444444444444444, \"#bd3786\"], [0.5555555555555556, \"#d8576b\"], [0.6666666666666666, \"#ed7953\"], [0.7777777777777778, \"#fb9f3a\"], [0.8888888888888888, \"#fdca26\"], [1.0, \"#f0f921\"]], \"type\": \"histogram2d\"}], \"histogram2dcontour\": [{\"colorbar\": {\"outlinewidth\": 0, \"ticks\": \"\"}, \"colorscale\": [[0.0, \"#0d0887\"], [0.1111111111111111, \"#46039f\"], [0.2222222222222222, \"#7201a8\"], [0.3333333333333333, \"#9c179e\"], [0.4444444444444444, \"#bd3786\"], [0.5555555555555556, \"#d8576b\"], [0.6666666666666666, \"#ed7953\"], [0.7777777777777778, \"#fb9f3a\"], [0.8888888888888888, \"#fdca26\"], [1.0, \"#f0f921\"]], \"type\": \"histogram2dcontour\"}], \"mesh3d\": [{\"colorbar\": {\"outlinewidth\": 0, \"ticks\": \"\"}, \"type\": \"mesh3d\"}], \"parcoords\": [{\"line\": {\"colorbar\": {\"outlinewidth\": 0, \"ticks\": \"\"}}, \"type\": \"parcoords\"}], \"pie\": [{\"automargin\": true, \"type\": \"pie\"}], \"scatter\": [{\"marker\": {\"line\": {\"color\": \"#283442\"}}, \"type\": \"scatter\"}], \"scatter3d\": [{\"line\": {\"colorbar\": {\"outlinewidth\": 0, \"ticks\": \"\"}}, \"marker\": {\"colorbar\": {\"outlinewidth\": 0, \"ticks\": \"\"}}, \"type\": \"scatter3d\"}], \"scattercarpet\": [{\"marker\": {\"colorbar\": {\"outlinewidth\": 0, \"ticks\": \"\"}}, \"type\": \"scattercarpet\"}], \"scattergeo\": [{\"marker\": {\"colorbar\": {\"outlinewidth\": 0, \"ticks\": \"\"}}, \"type\": \"scattergeo\"}], \"scattergl\": [{\"marker\": {\"line\": {\"color\": \"#283442\"}}, \"type\": \"scattergl\"}], \"scattermapbox\": [{\"marker\": {\"colorbar\": {\"outlinewidth\": 0, \"ticks\": \"\"}}, \"type\": \"scattermapbox\"}], \"scatterpolar\": [{\"marker\": {\"colorbar\": {\"outlinewidth\": 0, \"ticks\": \"\"}}, \"type\": \"scatterpolar\"}], \"scatterpolargl\": [{\"marker\": {\"colorbar\": {\"outlinewidth\": 0, \"ticks\": \"\"}}, \"type\": \"scatterpolargl\"}], \"scatterternary\": [{\"marker\": {\"colorbar\": {\"outlinewidth\": 0, \"ticks\": \"\"}}, \"type\": \"scatterternary\"}], \"surface\": [{\"colorbar\": {\"outlinewidth\": 0, \"ticks\": \"\"}, \"colorscale\": [[0.0, \"#0d0887\"], [0.1111111111111111, \"#46039f\"], [0.2222222222222222, \"#7201a8\"], [0.3333333333333333, \"#9c179e\"], [0.4444444444444444, \"#bd3786\"], [0.5555555555555556, \"#d8576b\"], [0.6666666666666666, \"#ed7953\"], [0.7777777777777778, \"#fb9f3a\"], [0.8888888888888888, \"#fdca26\"], [1.0, \"#f0f921\"]], \"type\": \"surface\"}], \"table\": [{\"cells\": {\"fill\": {\"color\": \"#506784\"}, \"line\": {\"color\": \"rgb(17,17,17)\"}}, \"header\": {\"fill\": {\"color\": \"#2a3f5f\"}, \"line\": {\"color\": \"rgb(17,17,17)\"}}, \"type\": \"table\"}]}, \"layout\": {\"annotationdefaults\": {\"arrowcolor\": \"#f2f5fa\", \"arrowhead\": 0, \"arrowwidth\": 1}, \"autotypenumbers\": \"strict\", \"coloraxis\": {\"colorbar\": {\"outlinewidth\": 0, \"ticks\": \"\"}}, \"colorscale\": {\"diverging\": [[0, \"#8e0152\"], [0.1, \"#c51b7d\"], [0.2, \"#de77ae\"], [0.3, \"#f1b6da\"], [0.4, \"#fde0ef\"], [0.5, \"#f7f7f7\"], [0.6, \"#e6f5d0\"], [0.7, \"#b8e186\"], [0.8, \"#7fbc41\"], [0.9, \"#4d9221\"], [1, \"#276419\"]], \"sequential\": [[0.0, \"#0d0887\"], [0.1111111111111111, \"#46039f\"], [0.2222222222222222, \"#7201a8\"], [0.3333333333333333, \"#9c179e\"], [0.4444444444444444, \"#bd3786\"], [0.5555555555555556, \"#d8576b\"], [0.6666666666666666, \"#ed7953\"], [0.7777777777777778, \"#fb9f3a\"], [0.8888888888888888, \"#fdca26\"], [1.0, \"#f0f921\"]], \"sequentialminus\": [[0.0, \"#0d0887\"], [0.1111111111111111, \"#46039f\"], [0.2222222222222222, \"#7201a8\"], [0.3333333333333333, \"#9c179e\"], [0.4444444444444444, \"#bd3786\"], [0.5555555555555556, \"#d8576b\"], [0.6666666666666666, \"#ed7953\"], [0.7777777777777778, \"#fb9f3a\"], [0.8888888888888888, \"#fdca26\"], [1.0, \"#f0f921\"]]}, \"colorway\": [\"#636efa\", \"#EF553B\", \"#00cc96\", \"#ab63fa\", \"#FFA15A\", \"#19d3f3\", \"#FF6692\", \"#B6E880\", \"#FF97FF\", \"#FECB52\"], \"font\": {\"color\": \"#f2f5fa\"}, \"geo\": {\"bgcolor\": \"rgb(17,17,17)\", \"lakecolor\": \"rgb(17,17,17)\", \"landcolor\": \"rgb(17,17,17)\", \"showlakes\": true, \"showland\": true, \"subunitcolor\": \"#506784\"}, \"hoverlabel\": {\"align\": \"left\"}, \"hovermode\": \"closest\", \"mapbox\": {\"style\": \"dark\"}, \"paper_bgcolor\": \"rgb(17,17,17)\", \"plot_bgcolor\": \"rgb(17,17,17)\", \"polar\": {\"angularaxis\": {\"gridcolor\": \"#506784\", \"linecolor\": \"#506784\", \"ticks\": \"\"}, \"bgcolor\": \"rgb(17,17,17)\", \"radialaxis\": {\"gridcolor\": \"#506784\", \"linecolor\": \"#506784\", \"ticks\": \"\"}}, \"scene\": {\"xaxis\": {\"backgroundcolor\": \"rgb(17,17,17)\", \"gridcolor\": \"#506784\", \"gridwidth\": 2, \"linecolor\": \"#506784\", \"showbackground\": true, \"ticks\": \"\", \"zerolinecolor\": \"#C8D4E3\"}, \"yaxis\": {\"backgroundcolor\": \"rgb(17,17,17)\", \"gridcolor\": \"#506784\", \"gridwidth\": 2, \"linecolor\": \"#506784\", \"showbackground\": true, \"ticks\": \"\", \"zerolinecolor\": \"#C8D4E3\"}, \"zaxis\": {\"backgroundcolor\": \"rgb(17,17,17)\", \"gridcolor\": \"#506784\", \"gridwidth\": 2, \"linecolor\": \"#506784\", \"showbackground\": true, \"ticks\": \"\", \"zerolinecolor\": \"#C8D4E3\"}}, \"shapedefaults\": {\"line\": {\"color\": \"#f2f5fa\"}}, \"sliderdefaults\": {\"bgcolor\": \"#C8D4E3\", \"bordercolor\": \"rgb(17,17,17)\", \"borderwidth\": 1, \"tickwidth\": 0}, \"ternary\": {\"aaxis\": {\"gridcolor\": \"#506784\", \"linecolor\": \"#506784\", \"ticks\": \"\"}, \"baxis\": {\"gridcolor\": \"#506784\", \"linecolor\": \"#506784\", \"ticks\": \"\"}, \"bgcolor\": \"rgb(17,17,17)\", \"caxis\": {\"gridcolor\": \"#506784\", \"linecolor\": \"#506784\", \"ticks\": \"\"}}, \"title\": {\"x\": 0.05}, \"updatemenudefaults\": {\"bgcolor\": \"#506784\", \"borderwidth\": 0}, \"xaxis\": {\"automargin\": true, \"gridcolor\": \"#283442\", \"linecolor\": \"#506784\", \"ticks\": \"\", \"title\": {\"standoff\": 15}, \"zerolinecolor\": \"#283442\", \"zerolinewidth\": 2}, \"yaxis\": {\"automargin\": true, \"gridcolor\": \"#283442\", \"linecolor\": \"#506784\", \"ticks\": \"\", \"title\": {\"standoff\": 15}, \"zerolinecolor\": \"#283442\", \"zerolinewidth\": 2}}}, \"title\": {\"text\": \"Scaled Salary vs Scaled Rating\"}, \"width\": 1000, \"xaxis\": {\"title\": {\"text\": \"Scaled Salary\"}}, \"yaxis\": {\"title\": {\"text\": \"Scaled Rating\"}}},                        {\"responsive\": true}                    ).then(function(){\n",
       "                            \n",
       "var gd = document.getElementById('5e6ab4a5-73c4-496c-904b-96891df91053');\n",
       "var x = new MutationObserver(function (mutations, observer) {{\n",
       "        var display = window.getComputedStyle(gd).display;\n",
       "        if (!display || display === 'none') {{\n",
       "            console.log([gd, 'removed!']);\n",
       "            Plotly.purge(gd);\n",
       "            observer.disconnect();\n",
       "        }}\n",
       "}});\n",
       "\n",
       "// Listen for the removal of the full notebook cells\n",
       "var notebookContainer = gd.closest('#notebook-container');\n",
       "if (notebookContainer) {{\n",
       "    x.observe(notebookContainer, {childList: true});\n",
       "}}\n",
       "\n",
       "// Listen for the clearing of the current output cell\n",
       "var outputEl = gd.closest('.output');\n",
       "if (outputEl) {{\n",
       "    x.observe(outputEl, {childList: true});\n",
       "}}\n",
       "\n",
       "                        })                };                });            </script>        </div>"
      ]
     },
     "metadata": {},
     "output_type": "display_data"
    }
   ],
   "source": [
    "fig = go.Figure(data=go.Scatter(x=veteran_contracts['Scaled Sal'],\n",
    "                                y=veteran_contracts['Scaled RG'],\n",
    "                                mode='markers',\n",
    "                                marker=dict(size=veteran_contracts['HR'],\n",
    "                                color=veteran_contracts['OPS'],\n",
    "                                colorscale=\"bluered\"),\n",
    "                                text=veteran_contracts[['Name', 'Pos']],\n",
    "                                hovertemplate=\n",
    "                                \"<b>%{text}</b><br>\"+\n",
    "                                \"<b>Salary</b>: %{x:.2f}<br>\"+\n",
    "                                \"<b>Rating</b>: %{y:.2f}<br>\"+\n",
    "                                \"<b>Home Runs</b>: %{marker.size}<br>\"+\n",
    "                                \"<b>OPS</b>: %{marker.color:.3f}\"\n",
    "                                ))\n",
    "\n",
    "fig.update_layout(title='Scaled Salary vs Scaled Rating', xaxis_title='Scaled Salary',\n",
    "                   yaxis_title='Scaled Rating', template='plotly_dark', width=1000, height=600 )\n",
    "\n",
    "fig.show()"
   ]
  },
  {
   "cell_type": "markdown",
   "metadata": {},
   "source": [
    "# Predict Rookie Salaries"
   ]
  },
  {
   "cell_type": "markdown",
   "metadata": {},
   "source": [
    "## Create clusters of veteran players based on stats\n",
    "## Predict cluster of rookie contract players and average salaries of cluster"
   ]
  },
  {
   "cell_type": "code",
   "execution_count": 39,
   "metadata": {},
   "outputs": [],
   "source": [
    "from sklearn.cluster import KMeans"
   ]
  },
  {
   "cell_type": "code",
   "execution_count": 67,
   "metadata": {},
   "outputs": [
    {
     "data": {
      "text/plain": [
       "Index(['Name', 'Pos', 'TM', 'Age', 'G', 'PA', 'AB', 'R', 'H', '2B', '3B', 'HR',\n",
       "       'RBI', 'SB', 'CS', 'BB', 'SO', 'BA', 'OBP', 'SLG', 'OPS', 'Height',\n",
       "       'Weight', 'BMI', 'Salary', 'RG'],\n",
       "      dtype='object')"
      ]
     },
     "execution_count": 67,
     "metadata": {},
     "output_type": "execute_result"
    }
   ],
   "source": [
    "rookie_contracts.columns"
   ]
  },
  {
   "cell_type": "code",
   "execution_count": 84,
   "metadata": {},
   "outputs": [],
   "source": [
    "rookie_contracts_kmeans = rookie_contracts[['R', 'H', '2B', '3B', 'HR',\n",
    "       'RBI', 'SB', 'BB', 'SO', 'BA', 'OBP', 'SLG', 'OPS', 'Height',\n",
    "       'Weight', 'RG']].copy()"
   ]
  },
  {
   "cell_type": "code",
   "execution_count": 85,
   "metadata": {},
   "outputs": [],
   "source": [
    "rookieScaler = preprocessing.StandardScaler().fit(rookie_contracts_kmeans)\n",
    "rookie_scaled = rookieScaler.transform(rookie_contracts_kmeans)"
   ]
  },
  {
   "cell_type": "code",
   "execution_count": 86,
   "metadata": {},
   "outputs": [],
   "source": [
    "veteran_contracts_kmeans = veteran_contracts[['R', 'H', '2B', '3B', 'HR',\n",
    "       'RBI', 'SB', 'BB', 'SO', 'BA', 'OBP', 'SLG', 'OPS', 'Height',\n",
    "       'Weight', 'RG']].copy()"
   ]
  },
  {
   "cell_type": "code",
   "execution_count": 87,
   "metadata": {},
   "outputs": [],
   "source": [
    "vetScaler = preprocessing.StandardScaler().fit(veteran_contracts_kmeans)\n",
    "vet_scaled = vetScaler.transform(veteran_contracts_kmeans)"
   ]
  },
  {
   "cell_type": "code",
   "execution_count": 91,
   "metadata": {},
   "outputs": [],
   "source": [
    "# Attach names and salaries to clusters\n",
    "names= []\n",
    "salaries = []\n",
    "for value in cluster_map['data_index']:\n",
    "    name = veteran_contracts.loc[value]['Name']\n",
    "    salary = veteran_contracts.loc[value]['Salary']\n",
    "    names.append(name)\n",
    "    salaries.append(salary)\n",
    "cluster_map['Name'] = names\n",
    "cluster_map['Salary'] = salaries"
   ]
  },
  {
   "cell_type": "code",
   "execution_count": 127,
   "metadata": {},
   "outputs": [],
   "source": [
    "def create_clustering(n_clusters):\n",
    "    kmeans = KMeans(n_clusters=n_clusters).fit(vet_scaled)\n",
    "    cluster_map = pd.DataFrame()\n",
    "    cluster_map['data_index'] = veteran_contracts.index.values\n",
    "    cluster_map['cluster'] = kmeans.labels_\n",
    "    names= []\n",
    "    salaries = []\n",
    "    for value in cluster_map['data_index']:\n",
    "        name = veteran_contracts.loc[value]['Name']\n",
    "        salary = veteran_contracts.loc[value]['Salary']\n",
    "        names.append(name)\n",
    "        salaries.append(salary)\n",
    "    cluster_map['Name'] = names\n",
    "    cluster_map['Salary'] = salaries\n",
    "    predicted_clusters = kmeans.predict(rookie_scaled)\n",
    "    rookie_predictions = pd.DataFrame()\n",
    "    clustering_no = 'Cluster' + str(n_clusters)\n",
    "    salary_no = 'Salary' + str(n_clusters)\n",
    "    rookie_predictions['Name'] = rookie_contracts['Name']\n",
    "    rookie_predictions[clustering_no] = predicted_clusters\n",
    "    pred_salaries = []\n",
    "    for value in rookie_predictions[clustering_no]:\n",
    "        predicted_sal = cluster_map[cluster_map['cluster']==value]['Salary'].mean()\n",
    "        pred_salaries.append(round(predicted_sal,0))\n",
    "    rookie_predictions[salary_no] = pred_salaries\n",
    "    rookie_predictions = rookie_predictions.drop(columns=[clustering_no])\n",
    "    return rookie_predictions"
   ]
  },
  {
   "cell_type": "markdown",
   "metadata": {},
   "source": [
    "## Apply various amounts of clusters to current players to get more accurate prediction of salary\n",
    "##### Comparing salary of cluster when there are different sized clusters\n",
    "##### Smaller sized clusters (more clusters) compare players to somebody more similar\n",
    "##### Still use larger groups as well to offset overfitting for this particular year, current contract values not actually based on this years performance"
   ]
  },
  {
   "cell_type": "code",
   "execution_count": 168,
   "metadata": {},
   "outputs": [],
   "source": [
    "rookie_predictions = pd.DataFrame(columns=['Name'])\n",
    "for x in range(30, len(veteran_contracts_kmeans), 20):\n",
    "    df1 = create_clustering(x)\n",
    "    rookie_predictions = rookie_predictions.merge(df1, left_on='Name', right_on = 'Name', how='outer')"
   ]
  },
  {
   "cell_type": "code",
   "execution_count": 169,
   "metadata": {},
   "outputs": [],
   "source": [
    "rookie_predictions = rookie_predictions.set_index('Name')"
   ]
  },
  {
   "cell_type": "code",
   "execution_count": 170,
   "metadata": {},
   "outputs": [],
   "source": [
    "rookie_predictions = rookie_predictions.mean(axis=1).round(0).reset_index()"
   ]
  },
  {
   "cell_type": "code",
   "execution_count": 178,
   "metadata": {},
   "outputs": [
    {
     "data": {
      "text/html": [
       "<style  type=\"text/css\" >\n",
       "</style><table id=\"T_251ee2f4_d2d4_11eb_b1d4_a4b1c1c80437\" ><thead>    <tr>        <th class=\"blank level0\" ></th>        <th class=\"col_heading level0 col0\" >0</th>    </tr>    <tr>        <th class=\"index_name level0\" >Name</th>        <th class=\"blank\" ></th>    </tr></thead><tbody>\n",
       "                <tr>\n",
       "                        <th id=\"T_251ee2f4_d2d4_11eb_b1d4_a4b1c1c80437level0_row0\" class=\"row_heading level0 row0\" >Gleyber Torres</th>\n",
       "                        <td id=\"T_251ee2f4_d2d4_11eb_b1d4_a4b1c1c80437row0_col0\" class=\"data row0 col0\" >$20,494,658.0</td>\n",
       "            </tr>\n",
       "            <tr>\n",
       "                        <th id=\"T_251ee2f4_d2d4_11eb_b1d4_a4b1c1c80437level0_row1\" class=\"row_heading level0 row1\" >Josh Bell</th>\n",
       "                        <td id=\"T_251ee2f4_d2d4_11eb_b1d4_a4b1c1c80437row1_col0\" class=\"data row1 col0\" >$20,494,658.0</td>\n",
       "            </tr>\n",
       "            <tr>\n",
       "                        <th id=\"T_251ee2f4_d2d4_11eb_b1d4_a4b1c1c80437level0_row2\" class=\"row_heading level0 row2\" >Jesus Aguilar</th>\n",
       "                        <td id=\"T_251ee2f4_d2d4_11eb_b1d4_a4b1c1c80437row2_col0\" class=\"data row2 col0\" >$18,836,111.0</td>\n",
       "            </tr>\n",
       "            <tr>\n",
       "                        <th id=\"T_251ee2f4_d2d4_11eb_b1d4_a4b1c1c80437level0_row3\" class=\"row_heading level0 row3\" >Hunter Dozier</th>\n",
       "                        <td id=\"T_251ee2f4_d2d4_11eb_b1d4_a4b1c1c80437row3_col0\" class=\"data row3 col0\" >$18,765,833.0</td>\n",
       "            </tr>\n",
       "            <tr>\n",
       "                        <th id=\"T_251ee2f4_d2d4_11eb_b1d4_a4b1c1c80437level0_row4\" class=\"row_heading level0 row4\" >Alex Bregman</th>\n",
       "                        <td id=\"T_251ee2f4_d2d4_11eb_b1d4_a4b1c1c80437row4_col0\" class=\"data row4 col0\" >$18,297,222.0</td>\n",
       "            </tr>\n",
       "            <tr>\n",
       "                        <th id=\"T_251ee2f4_d2d4_11eb_b1d4_a4b1c1c80437level0_row5\" class=\"row_heading level0 row5\" >Adam Haseley</th>\n",
       "                        <td id=\"T_251ee2f4_d2d4_11eb_b1d4_a4b1c1c80437row5_col0\" class=\"data row5 col0\" >$17,646,368.0</td>\n",
       "            </tr>\n",
       "            <tr>\n",
       "                        <th id=\"T_251ee2f4_d2d4_11eb_b1d4_a4b1c1c80437level0_row6\" class=\"row_heading level0 row6\" >Vladimir Guerrero Jr.</th>\n",
       "                        <td id=\"T_251ee2f4_d2d4_11eb_b1d4_a4b1c1c80437row6_col0\" class=\"data row6 col0\" >$17,627,778.0</td>\n",
       "            </tr>\n",
       "            <tr>\n",
       "                        <th id=\"T_251ee2f4_d2d4_11eb_b1d4_a4b1c1c80437level0_row7\" class=\"row_heading level0 row7\" >Matt Olson</th>\n",
       "                        <td id=\"T_251ee2f4_d2d4_11eb_b1d4_a4b1c1c80437row7_col0\" class=\"data row7 col0\" >$16,979,843.0</td>\n",
       "            </tr>\n",
       "            <tr>\n",
       "                        <th id=\"T_251ee2f4_d2d4_11eb_b1d4_a4b1c1c80437level0_row8\" class=\"row_heading level0 row8\" >Omar Narvaez</th>\n",
       "                        <td id=\"T_251ee2f4_d2d4_11eb_b1d4_a4b1c1c80437row8_col0\" class=\"data row8 col0\" >$15,674,175.0</td>\n",
       "            </tr>\n",
       "            <tr>\n",
       "                        <th id=\"T_251ee2f4_d2d4_11eb_b1d4_a4b1c1c80437level0_row9\" class=\"row_heading level0 row9\" >Yordan Alvarez</th>\n",
       "                        <td id=\"T_251ee2f4_d2d4_11eb_b1d4_a4b1c1c80437row9_col0\" class=\"data row9 col0\" >$15,179,843.0</td>\n",
       "            </tr>\n",
       "            <tr>\n",
       "                        <th id=\"T_251ee2f4_d2d4_11eb_b1d4_a4b1c1c80437level0_row10\" class=\"row_heading level0 row10\" >Keston Hiura</th>\n",
       "                        <td id=\"T_251ee2f4_d2d4_11eb_b1d4_a4b1c1c80437row10_col0\" class=\"data row10 col0\" >$15,101,508.0</td>\n",
       "            </tr>\n",
       "            <tr>\n",
       "                        <th id=\"T_251ee2f4_d2d4_11eb_b1d4_a4b1c1c80437level0_row11\" class=\"row_heading level0 row11\" >Franmil Reyes</th>\n",
       "                        <td id=\"T_251ee2f4_d2d4_11eb_b1d4_a4b1c1c80437row11_col0\" class=\"data row11 col0\" >$14,847,447.0</td>\n",
       "            </tr>\n",
       "            <tr>\n",
       "                        <th id=\"T_251ee2f4_d2d4_11eb_b1d4_a4b1c1c80437level0_row12\" class=\"row_heading level0 row12\" >J.D. Davis</th>\n",
       "                        <td id=\"T_251ee2f4_d2d4_11eb_b1d4_a4b1c1c80437row12_col0\" class=\"data row12 col0\" >$14,290,955.0</td>\n",
       "            </tr>\n",
       "            <tr>\n",
       "                        <th id=\"T_251ee2f4_d2d4_11eb_b1d4_a4b1c1c80437level0_row13\" class=\"row_heading level0 row13\" >Max Muncy</th>\n",
       "                        <td id=\"T_251ee2f4_d2d4_11eb_b1d4_a4b1c1c80437row13_col0\" class=\"data row13 col0\" >$14,221,859.0</td>\n",
       "            </tr>\n",
       "            <tr>\n",
       "                        <th id=\"T_251ee2f4_d2d4_11eb_b1d4_a4b1c1c80437level0_row14\" class=\"row_heading level0 row14\" >Rafael Devers</th>\n",
       "                        <td id=\"T_251ee2f4_d2d4_11eb_b1d4_a4b1c1c80437row14_col0\" class=\"data row14 col0\" >$14,088,519.0</td>\n",
       "            </tr>\n",
       "            <tr>\n",
       "                        <th id=\"T_251ee2f4_d2d4_11eb_b1d4_a4b1c1c80437level0_row15\" class=\"row_heading level0 row15\" >Trey Mancini</th>\n",
       "                        <td id=\"T_251ee2f4_d2d4_11eb_b1d4_a4b1c1c80437row15_col0\" class=\"data row15 col0\" >$14,068,732.0</td>\n",
       "            </tr>\n",
       "            <tr>\n",
       "                        <th id=\"T_251ee2f4_d2d4_11eb_b1d4_a4b1c1c80437level0_row16\" class=\"row_heading level0 row16\" >Nick Martini</th>\n",
       "                        <td id=\"T_251ee2f4_d2d4_11eb_b1d4_a4b1c1c80437row16_col0\" class=\"data row16 col0\" >$14,040,841.0</td>\n",
       "            </tr>\n",
       "            <tr>\n",
       "                        <th id=\"T_251ee2f4_d2d4_11eb_b1d4_a4b1c1c80437level0_row17\" class=\"row_heading level0 row17\" >Aaron Judge</th>\n",
       "                        <td id=\"T_251ee2f4_d2d4_11eb_b1d4_a4b1c1c80437row17_col0\" class=\"data row17 col0\" >$13,929,877.0</td>\n",
       "            </tr>\n",
       "            <tr>\n",
       "                        <th id=\"T_251ee2f4_d2d4_11eb_b1d4_a4b1c1c80437level0_row18\" class=\"row_heading level0 row18\" >Manuel Margot</th>\n",
       "                        <td id=\"T_251ee2f4_d2d4_11eb_b1d4_a4b1c1c80437row18_col0\" class=\"data row18 col0\" >$13,708,333.0</td>\n",
       "            </tr>\n",
       "            <tr>\n",
       "                        <th id=\"T_251ee2f4_d2d4_11eb_b1d4_a4b1c1c80437level0_row19\" class=\"row_heading level0 row19\" >Jeff McNeil</th>\n",
       "                        <td id=\"T_251ee2f4_d2d4_11eb_b1d4_a4b1c1c80437row19_col0\" class=\"data row19 col0\" >$13,595,026.0</td>\n",
       "            </tr>\n",
       "            <tr>\n",
       "                        <th id=\"T_251ee2f4_d2d4_11eb_b1d4_a4b1c1c80437level0_row20\" class=\"row_heading level0 row20\" >Pete Alonso</th>\n",
       "                        <td id=\"T_251ee2f4_d2d4_11eb_b1d4_a4b1c1c80437row20_col0\" class=\"data row20 col0\" >$13,486,453.0</td>\n",
       "            </tr>\n",
       "            <tr>\n",
       "                        <th id=\"T_251ee2f4_d2d4_11eb_b1d4_a4b1c1c80437level0_row21\" class=\"row_heading level0 row21\" >Gary Sanchez</th>\n",
       "                        <td id=\"T_251ee2f4_d2d4_11eb_b1d4_a4b1c1c80437row21_col0\" class=\"data row21 col0\" >$13,303,462.0</td>\n",
       "            </tr>\n",
       "            <tr>\n",
       "                        <th id=\"T_251ee2f4_d2d4_11eb_b1d4_a4b1c1c80437level0_row22\" class=\"row_heading level0 row22\" >Daniel Vogelbach</th>\n",
       "                        <td id=\"T_251ee2f4_d2d4_11eb_b1d4_a4b1c1c80437row22_col0\" class=\"data row22 col0\" >$13,127,415.0</td>\n",
       "            </tr>\n",
       "            <tr>\n",
       "                        <th id=\"T_251ee2f4_d2d4_11eb_b1d4_a4b1c1c80437level0_row23\" class=\"row_heading level0 row23\" >Wilmer Difo</th>\n",
       "                        <td id=\"T_251ee2f4_d2d4_11eb_b1d4_a4b1c1c80437row23_col0\" class=\"data row23 col0\" >$13,082,972.0</td>\n",
       "            </tr>\n",
       "            <tr>\n",
       "                        <th id=\"T_251ee2f4_d2d4_11eb_b1d4_a4b1c1c80437level0_row24\" class=\"row_heading level0 row24\" >Bryan Reynolds</th>\n",
       "                        <td id=\"T_251ee2f4_d2d4_11eb_b1d4_a4b1c1c80437row24_col0\" class=\"data row24 col0\" >$11,810,741.0</td>\n",
       "            </tr>\n",
       "            <tr>\n",
       "                        <th id=\"T_251ee2f4_d2d4_11eb_b1d4_a4b1c1c80437level0_row25\" class=\"row_heading level0 row25\" >Juan Soto</th>\n",
       "                        <td id=\"T_251ee2f4_d2d4_11eb_b1d4_a4b1c1c80437row25_col0\" class=\"data row25 col0\" >$11,530,556.0</td>\n",
       "            </tr>\n",
       "            <tr>\n",
       "                        <th id=\"T_251ee2f4_d2d4_11eb_b1d4_a4b1c1c80437level0_row26\" class=\"row_heading level0 row26\" >Harold Ramirez</th>\n",
       "                        <td id=\"T_251ee2f4_d2d4_11eb_b1d4_a4b1c1c80437row26_col0\" class=\"data row26 col0\" >$11,205,111.0</td>\n",
       "            </tr>\n",
       "            <tr>\n",
       "                        <th id=\"T_251ee2f4_d2d4_11eb_b1d4_a4b1c1c80437level0_row27\" class=\"row_heading level0 row27\" >Hanser Alberto</th>\n",
       "                        <td id=\"T_251ee2f4_d2d4_11eb_b1d4_a4b1c1c80437row27_col0\" class=\"data row27 col0\" >$11,205,111.0</td>\n",
       "            </tr>\n",
       "            <tr>\n",
       "                        <th id=\"T_251ee2f4_d2d4_11eb_b1d4_a4b1c1c80437level0_row28\" class=\"row_heading level0 row28\" >Rhys Hoskins</th>\n",
       "                        <td id=\"T_251ee2f4_d2d4_11eb_b1d4_a4b1c1c80437row28_col0\" class=\"data row28 col0\" >$11,147,856.0</td>\n",
       "            </tr>\n",
       "            <tr>\n",
       "                        <th id=\"T_251ee2f4_d2d4_11eb_b1d4_a4b1c1c80437level0_row29\" class=\"row_heading level0 row29\" >David Fletcher</th>\n",
       "                        <td id=\"T_251ee2f4_d2d4_11eb_b1d4_a4b1c1c80437row29_col0\" class=\"data row29 col0\" >$10,880,201.0</td>\n",
       "            </tr>\n",
       "            <tr>\n",
       "                        <th id=\"T_251ee2f4_d2d4_11eb_b1d4_a4b1c1c80437level0_row30\" class=\"row_heading level0 row30\" >Renato Nunez</th>\n",
       "                        <td id=\"T_251ee2f4_d2d4_11eb_b1d4_a4b1c1c80437row30_col0\" class=\"data row30 col0\" >$10,731,462.0</td>\n",
       "            </tr>\n",
       "            <tr>\n",
       "                        <th id=\"T_251ee2f4_d2d4_11eb_b1d4_a4b1c1c80437level0_row31\" class=\"row_heading level0 row31\" >Luke Voit</th>\n",
       "                        <td id=\"T_251ee2f4_d2d4_11eb_b1d4_a4b1c1c80437row31_col0\" class=\"data row31 col0\" >$10,714,915.0</td>\n",
       "            </tr>\n",
       "            <tr>\n",
       "                        <th id=\"T_251ee2f4_d2d4_11eb_b1d4_a4b1c1c80437level0_row32\" class=\"row_heading level0 row32\" >Ramon Laureano</th>\n",
       "                        <td id=\"T_251ee2f4_d2d4_11eb_b1d4_a4b1c1c80437row32_col0\" class=\"data row32 col0\" >$10,711,235.0</td>\n",
       "            </tr>\n",
       "            <tr>\n",
       "                        <th id=\"T_251ee2f4_d2d4_11eb_b1d4_a4b1c1c80437level0_row33\" class=\"row_heading level0 row33\" >Brian Anderson</th>\n",
       "                        <td id=\"T_251ee2f4_d2d4_11eb_b1d4_a4b1c1c80437row33_col0\" class=\"data row33 col0\" >$10,707,712.0</td>\n",
       "            </tr>\n",
       "            <tr>\n",
       "                        <th id=\"T_251ee2f4_d2d4_11eb_b1d4_a4b1c1c80437level0_row34\" class=\"row_heading level0 row34\" >Rowdy Tellez</th>\n",
       "                        <td id=\"T_251ee2f4_d2d4_11eb_b1d4_a4b1c1c80437row34_col0\" class=\"data row34 col0\" >$10,677,778.0</td>\n",
       "            </tr>\n",
       "            <tr>\n",
       "                        <th id=\"T_251ee2f4_d2d4_11eb_b1d4_a4b1c1c80437level0_row35\" class=\"row_heading level0 row35\" >Cody Bellinger</th>\n",
       "                        <td id=\"T_251ee2f4_d2d4_11eb_b1d4_a4b1c1c80437row35_col0\" class=\"data row35 col0\" >$10,252,778.0</td>\n",
       "            </tr>\n",
       "            <tr>\n",
       "                        <th id=\"T_251ee2f4_d2d4_11eb_b1d4_a4b1c1c80437level0_row36\" class=\"row_heading level0 row36\" >Ryan McMahon</th>\n",
       "                        <td id=\"T_251ee2f4_d2d4_11eb_b1d4_a4b1c1c80437row36_col0\" class=\"data row36 col0\" >$10,112,137.0</td>\n",
       "            </tr>\n",
       "            <tr>\n",
       "                        <th id=\"T_251ee2f4_d2d4_11eb_b1d4_a4b1c1c80437level0_row37\" class=\"row_heading level0 row37\" >David Bote</th>\n",
       "                        <td id=\"T_251ee2f4_d2d4_11eb_b1d4_a4b1c1c80437row37_col0\" class=\"data row37 col0\" >$10,093,322.0</td>\n",
       "            </tr>\n",
       "            <tr>\n",
       "                        <th id=\"T_251ee2f4_d2d4_11eb_b1d4_a4b1c1c80437level0_row38\" class=\"row_heading level0 row38\" >Jake Bauers</th>\n",
       "                        <td id=\"T_251ee2f4_d2d4_11eb_b1d4_a4b1c1c80437row38_col0\" class=\"data row38 col0\" >$10,053,755.0</td>\n",
       "            </tr>\n",
       "            <tr>\n",
       "                        <th id=\"T_251ee2f4_d2d4_11eb_b1d4_a4b1c1c80437level0_row39\" class=\"row_heading level0 row39\" >Brian Goodwin</th>\n",
       "                        <td id=\"T_251ee2f4_d2d4_11eb_b1d4_a4b1c1c80437row39_col0\" class=\"data row39 col0\" >$9,709,458.0</td>\n",
       "            </tr>\n",
       "            <tr>\n",
       "                        <th id=\"T_251ee2f4_d2d4_11eb_b1d4_a4b1c1c80437level0_row40\" class=\"row_heading level0 row40\" >David Dahl</th>\n",
       "                        <td id=\"T_251ee2f4_d2d4_11eb_b1d4_a4b1c1c80437row40_col0\" class=\"data row40 col0\" >$9,693,823.0</td>\n",
       "            </tr>\n",
       "            <tr>\n",
       "                        <th id=\"T_251ee2f4_d2d4_11eb_b1d4_a4b1c1c80437level0_row41\" class=\"row_heading level0 row41\" >Christian Walker</th>\n",
       "                        <td id=\"T_251ee2f4_d2d4_11eb_b1d4_a4b1c1c80437row41_col0\" class=\"data row41 col0\" >$9,551,026.0</td>\n",
       "            </tr>\n",
       "            <tr>\n",
       "                        <th id=\"T_251ee2f4_d2d4_11eb_b1d4_a4b1c1c80437level0_row42\" class=\"row_heading level0 row42\" >Brandon Nimmo</th>\n",
       "                        <td id=\"T_251ee2f4_d2d4_11eb_b1d4_a4b1c1c80437row42_col0\" class=\"data row42 col0\" >$9,531,185.0</td>\n",
       "            </tr>\n",
       "            <tr>\n",
       "                        <th id=\"T_251ee2f4_d2d4_11eb_b1d4_a4b1c1c80437level0_row43\" class=\"row_heading level0 row43\" >Mike Yastrzemski</th>\n",
       "                        <td id=\"T_251ee2f4_d2d4_11eb_b1d4_a4b1c1c80437row43_col0\" class=\"data row43 col0\" >$8,910,463.0</td>\n",
       "            </tr>\n",
       "            <tr>\n",
       "                        <th id=\"T_251ee2f4_d2d4_11eb_b1d4_a4b1c1c80437level0_row44\" class=\"row_heading level0 row44\" >Yairo Munoz</th>\n",
       "                        <td id=\"T_251ee2f4_d2d4_11eb_b1d4_a4b1c1c80437row44_col0\" class=\"data row44 col0\" >$8,824,363.0</td>\n",
       "            </tr>\n",
       "            <tr>\n",
       "                        <th id=\"T_251ee2f4_d2d4_11eb_b1d4_a4b1c1c80437level0_row45\" class=\"row_heading level0 row45\" >Kevin Newman</th>\n",
       "                        <td id=\"T_251ee2f4_d2d4_11eb_b1d4_a4b1c1c80437row45_col0\" class=\"data row45 col0\" >$8,782,871.0</td>\n",
       "            </tr>\n",
       "            <tr>\n",
       "                        <th id=\"T_251ee2f4_d2d4_11eb_b1d4_a4b1c1c80437level0_row46\" class=\"row_heading level0 row46\" >Cavan Biggio</th>\n",
       "                        <td id=\"T_251ee2f4_d2d4_11eb_b1d4_a4b1c1c80437row46_col0\" class=\"data row46 col0\" >$8,753,704.0</td>\n",
       "            </tr>\n",
       "            <tr>\n",
       "                        <th id=\"T_251ee2f4_d2d4_11eb_b1d4_a4b1c1c80437level0_row47\" class=\"row_heading level0 row47\" >Tommy Edman</th>\n",
       "                        <td id=\"T_251ee2f4_d2d4_11eb_b1d4_a4b1c1c80437row47_col0\" class=\"data row47 col0\" >$8,319,445.0</td>\n",
       "            </tr>\n",
       "            <tr>\n",
       "                        <th id=\"T_251ee2f4_d2d4_11eb_b1d4_a4b1c1c80437level0_row48\" class=\"row_heading level0 row48\" >Chad Pinder</th>\n",
       "                        <td id=\"T_251ee2f4_d2d4_11eb_b1d4_a4b1c1c80437row48_col0\" class=\"data row48 col0\" >$8,312,569.0</td>\n",
       "            </tr>\n",
       "            <tr>\n",
       "                        <th id=\"T_251ee2f4_d2d4_11eb_b1d4_a4b1c1c80437level0_row49\" class=\"row_heading level0 row49\" >Erik Gonzalez</th>\n",
       "                        <td id=\"T_251ee2f4_d2d4_11eb_b1d4_a4b1c1c80437row49_col0\" class=\"data row49 col0\" >$8,273,564.0</td>\n",
       "            </tr>\n",
       "            <tr>\n",
       "                        <th id=\"T_251ee2f4_d2d4_11eb_b1d4_a4b1c1c80437level0_row50\" class=\"row_heading level0 row50\" >Rio Ruiz</th>\n",
       "                        <td id=\"T_251ee2f4_d2d4_11eb_b1d4_a4b1c1c80437row50_col0\" class=\"data row50 col0\" >$8,228,827.0</td>\n",
       "            </tr>\n",
       "            <tr>\n",
       "                        <th id=\"T_251ee2f4_d2d4_11eb_b1d4_a4b1c1c80437level0_row51\" class=\"row_heading level0 row51\" >Fernando Tatis Jr.</th>\n",
       "                        <td id=\"T_251ee2f4_d2d4_11eb_b1d4_a4b1c1c80437row51_col0\" class=\"data row51 col0\" >$8,179,476.0</td>\n",
       "            </tr>\n",
       "            <tr>\n",
       "                        <th id=\"T_251ee2f4_d2d4_11eb_b1d4_a4b1c1c80437level0_row52\" class=\"row_heading level0 row52\" >Albert Almora</th>\n",
       "                        <td id=\"T_251ee2f4_d2d4_11eb_b1d4_a4b1c1c80437row52_col0\" class=\"data row52 col0\" >$8,018,412.0</td>\n",
       "            </tr>\n",
       "            <tr>\n",
       "                        <th id=\"T_251ee2f4_d2d4_11eb_b1d4_a4b1c1c80437level0_row53\" class=\"row_heading level0 row53\" >Carson Kelly</th>\n",
       "                        <td id=\"T_251ee2f4_d2d4_11eb_b1d4_a4b1c1c80437row53_col0\" class=\"data row53 col0\" >$8,015,564.0</td>\n",
       "            </tr>\n",
       "            <tr>\n",
       "                        <th id=\"T_251ee2f4_d2d4_11eb_b1d4_a4b1c1c80437level0_row54\" class=\"row_heading level0 row54\" >Dwight Smith Jr.</th>\n",
       "                        <td id=\"T_251ee2f4_d2d4_11eb_b1d4_a4b1c1c80437row54_col0\" class=\"data row54 col0\" >$8,004,671.0</td>\n",
       "            </tr>\n",
       "            <tr>\n",
       "                        <th id=\"T_251ee2f4_d2d4_11eb_b1d4_a4b1c1c80437level0_row55\" class=\"row_heading level0 row55\" >Harrison Bader</th>\n",
       "                        <td id=\"T_251ee2f4_d2d4_11eb_b1d4_a4b1c1c80437row55_col0\" class=\"data row55 col0\" >$8,000,668.0</td>\n",
       "            </tr>\n",
       "            <tr>\n",
       "                        <th id=\"T_251ee2f4_d2d4_11eb_b1d4_a4b1c1c80437level0_row56\" class=\"row_heading level0 row56\" >Pedro Severino</th>\n",
       "                        <td id=\"T_251ee2f4_d2d4_11eb_b1d4_a4b1c1c80437row56_col0\" class=\"data row56 col0\" >$7,933,433.0</td>\n",
       "            </tr>\n",
       "            <tr>\n",
       "                        <th id=\"T_251ee2f4_d2d4_11eb_b1d4_a4b1c1c80437level0_row57\" class=\"row_heading level0 row57\" >Josh Naylor</th>\n",
       "                        <td id=\"T_251ee2f4_d2d4_11eb_b1d4_a4b1c1c80437row57_col0\" class=\"data row57 col0\" >$7,865,351.0</td>\n",
       "            </tr>\n",
       "            <tr>\n",
       "                        <th id=\"T_251ee2f4_d2d4_11eb_b1d4_a4b1c1c80437level0_row58\" class=\"row_heading level0 row58\" >Tomas Nido</th>\n",
       "                        <td id=\"T_251ee2f4_d2d4_11eb_b1d4_a4b1c1c80437row58_col0\" class=\"data row58 col0\" >$7,812,523.0</td>\n",
       "            </tr>\n",
       "            <tr>\n",
       "                        <th id=\"T_251ee2f4_d2d4_11eb_b1d4_a4b1c1c80437level0_row59\" class=\"row_heading level0 row59\" >Dylan Moore</th>\n",
       "                        <td id=\"T_251ee2f4_d2d4_11eb_b1d4_a4b1c1c80437row59_col0\" class=\"data row59 col0\" >$7,712,320.0</td>\n",
       "            </tr>\n",
       "            <tr>\n",
       "                        <th id=\"T_251ee2f4_d2d4_11eb_b1d4_a4b1c1c80437level0_row60\" class=\"row_heading level0 row60\" >Luis Rengifo</th>\n",
       "                        <td id=\"T_251ee2f4_d2d4_11eb_b1d4_a4b1c1c80437row60_col0\" class=\"data row60 col0\" >$7,712,320.0</td>\n",
       "            </tr>\n",
       "            <tr>\n",
       "                        <th id=\"T_251ee2f4_d2d4_11eb_b1d4_a4b1c1c80437level0_row61\" class=\"row_heading level0 row61\" >Ben Gamel</th>\n",
       "                        <td id=\"T_251ee2f4_d2d4_11eb_b1d4_a4b1c1c80437row61_col0\" class=\"data row61 col0\" >$7,690,561.0</td>\n",
       "            </tr>\n",
       "            <tr>\n",
       "                        <th id=\"T_251ee2f4_d2d4_11eb_b1d4_a4b1c1c80437level0_row62\" class=\"row_heading level0 row62\" >Stevie Wilkerson</th>\n",
       "                        <td id=\"T_251ee2f4_d2d4_11eb_b1d4_a4b1c1c80437row62_col0\" class=\"data row62 col0\" >$7,515,631.0</td>\n",
       "            </tr>\n",
       "            <tr>\n",
       "                        <th id=\"T_251ee2f4_d2d4_11eb_b1d4_a4b1c1c80437level0_row63\" class=\"row_heading level0 row63\" >Colin Moran</th>\n",
       "                        <td id=\"T_251ee2f4_d2d4_11eb_b1d4_a4b1c1c80437row63_col0\" class=\"data row63 col0\" >$7,491,534.0</td>\n",
       "            </tr>\n",
       "            <tr>\n",
       "                        <th id=\"T_251ee2f4_d2d4_11eb_b1d4_a4b1c1c80437level0_row64\" class=\"row_heading level0 row64\" >Willson Contreras</th>\n",
       "                        <td id=\"T_251ee2f4_d2d4_11eb_b1d4_a4b1c1c80437row64_col0\" class=\"data row64 col0\" >$7,468,027.0</td>\n",
       "            </tr>\n",
       "            <tr>\n",
       "                        <th id=\"T_251ee2f4_d2d4_11eb_b1d4_a4b1c1c80437level0_row65\" class=\"row_heading level0 row65\" >Nick Senzel</th>\n",
       "                        <td id=\"T_251ee2f4_d2d4_11eb_b1d4_a4b1c1c80437row65_col0\" class=\"data row65 col0\" >$7,394,444.0</td>\n",
       "            </tr>\n",
       "            <tr>\n",
       "                        <th id=\"T_251ee2f4_d2d4_11eb_b1d4_a4b1c1c80437level0_row66\" class=\"row_heading level0 row66\" >Bo Bichette</th>\n",
       "                        <td id=\"T_251ee2f4_d2d4_11eb_b1d4_a4b1c1c80437row66_col0\" class=\"data row66 col0\" >$7,238,426.0</td>\n",
       "            </tr>\n",
       "            <tr>\n",
       "                        <th id=\"T_251ee2f4_d2d4_11eb_b1d4_a4b1c1c80437level0_row67\" class=\"row_heading level0 row67\" >Jose Rondon</th>\n",
       "                        <td id=\"T_251ee2f4_d2d4_11eb_b1d4_a4b1c1c80437row67_col0\" class=\"data row67 col0\" >$7,208,023.0</td>\n",
       "            </tr>\n",
       "            <tr>\n",
       "                        <th id=\"T_251ee2f4_d2d4_11eb_b1d4_a4b1c1c80437level0_row68\" class=\"row_heading level0 row68\" >Anthony Santander</th>\n",
       "                        <td id=\"T_251ee2f4_d2d4_11eb_b1d4_a4b1c1c80437row68_col0\" class=\"data row68 col0\" >$7,203,416.0</td>\n",
       "            </tr>\n",
       "            <tr>\n",
       "                        <th id=\"T_251ee2f4_d2d4_11eb_b1d4_a4b1c1c80437level0_row69\" class=\"row_heading level0 row69\" >Niko Goodrum</th>\n",
       "                        <td id=\"T_251ee2f4_d2d4_11eb_b1d4_a4b1c1c80437row69_col0\" class=\"data row69 col0\" >$7,159,689.0</td>\n",
       "            </tr>\n",
       "            <tr>\n",
       "                        <th id=\"T_251ee2f4_d2d4_11eb_b1d4_a4b1c1c80437level0_row70\" class=\"row_heading level0 row70\" >Mike Tauchman</th>\n",
       "                        <td id=\"T_251ee2f4_d2d4_11eb_b1d4_a4b1c1c80437row70_col0\" class=\"data row70 col0\" >$7,145,503.0</td>\n",
       "            </tr>\n",
       "            <tr>\n",
       "                        <th id=\"T_251ee2f4_d2d4_11eb_b1d4_a4b1c1c80437level0_row71\" class=\"row_heading level0 row71\" >Yandy Diaz</th>\n",
       "                        <td id=\"T_251ee2f4_d2d4_11eb_b1d4_a4b1c1c80437row71_col0\" class=\"data row71 col0\" >$7,112,521.0</td>\n",
       "            </tr>\n",
       "            <tr>\n",
       "                        <th id=\"T_251ee2f4_d2d4_11eb_b1d4_a4b1c1c80437level0_row72\" class=\"row_heading level0 row72\" >Cam Gallagher</th>\n",
       "                        <td id=\"T_251ee2f4_d2d4_11eb_b1d4_a4b1c1c80437row72_col0\" class=\"data row72 col0\" >$7,107,903.0</td>\n",
       "            </tr>\n",
       "            <tr>\n",
       "                        <th id=\"T_251ee2f4_d2d4_11eb_b1d4_a4b1c1c80437level0_row73\" class=\"row_heading level0 row73\" >Orlando Arcia</th>\n",
       "                        <td id=\"T_251ee2f4_d2d4_11eb_b1d4_a4b1c1c80437row73_col0\" class=\"data row73 col0\" >$7,090,561.0</td>\n",
       "            </tr>\n",
       "            <tr>\n",
       "                        <th id=\"T_251ee2f4_d2d4_11eb_b1d4_a4b1c1c80437level0_row74\" class=\"row_heading level0 row74\" >Alex Verdugo</th>\n",
       "                        <td id=\"T_251ee2f4_d2d4_11eb_b1d4_a4b1c1c80437row74_col0\" class=\"data row74 col0\" >$6,782,111.0</td>\n",
       "            </tr>\n",
       "            <tr>\n",
       "                        <th id=\"T_251ee2f4_d2d4_11eb_b1d4_a4b1c1c80437level0_row75\" class=\"row_heading level0 row75\" >Jorge Alfaro</th>\n",
       "                        <td id=\"T_251ee2f4_d2d4_11eb_b1d4_a4b1c1c80437row75_col0\" class=\"data row75 col0\" >$6,692,262.0</td>\n",
       "            </tr>\n",
       "            <tr>\n",
       "                        <th id=\"T_251ee2f4_d2d4_11eb_b1d4_a4b1c1c80437level0_row76\" class=\"row_heading level0 row76\" >Mitch Haniger</th>\n",
       "                        <td id=\"T_251ee2f4_d2d4_11eb_b1d4_a4b1c1c80437row76_col0\" class=\"data row76 col0\" >$6,676,854.0</td>\n",
       "            </tr>\n",
       "            <tr>\n",
       "                        <th id=\"T_251ee2f4_d2d4_11eb_b1d4_a4b1c1c80437level0_row77\" class=\"row_heading level0 row77\" >Matt Chapman</th>\n",
       "                        <td id=\"T_251ee2f4_d2d4_11eb_b1d4_a4b1c1c80437row77_col0\" class=\"data row77 col0\" >$6,620,933.0</td>\n",
       "            </tr>\n",
       "            <tr>\n",
       "                        <th id=\"T_251ee2f4_d2d4_11eb_b1d4_a4b1c1c80437level0_row78\" class=\"row_heading level0 row78\" >Willi Castro</th>\n",
       "                        <td id=\"T_251ee2f4_d2d4_11eb_b1d4_a4b1c1c80437row78_col0\" class=\"data row78 col0\" >$6,610,401.0</td>\n",
       "            </tr>\n",
       "            <tr>\n",
       "                        <th id=\"T_251ee2f4_d2d4_11eb_b1d4_a4b1c1c80437level0_row79\" class=\"row_heading level0 row79\" >Daniel Murphy</th>\n",
       "                        <td id=\"T_251ee2f4_d2d4_11eb_b1d4_a4b1c1c80437row79_col0\" class=\"data row79 col0\" >$6,492,897.0</td>\n",
       "            </tr>\n",
       "            <tr>\n",
       "                        <th id=\"T_251ee2f4_d2d4_11eb_b1d4_a4b1c1c80437level0_row80\" class=\"row_heading level0 row80\" >Mac Williamson</th>\n",
       "                        <td id=\"T_251ee2f4_d2d4_11eb_b1d4_a4b1c1c80437row80_col0\" class=\"data row80 col0\" >$6,473,531.0</td>\n",
       "            </tr>\n",
       "            <tr>\n",
       "                        <th id=\"T_251ee2f4_d2d4_11eb_b1d4_a4b1c1c80437level0_row81\" class=\"row_heading level0 row81\" >Grayson Greiner</th>\n",
       "                        <td id=\"T_251ee2f4_d2d4_11eb_b1d4_a4b1c1c80437row81_col0\" class=\"data row81 col0\" >$6,473,531.0</td>\n",
       "            </tr>\n",
       "            <tr>\n",
       "                        <th id=\"T_251ee2f4_d2d4_11eb_b1d4_a4b1c1c80437level0_row82\" class=\"row_heading level0 row82\" >Jesse Winker</th>\n",
       "                        <td id=\"T_251ee2f4_d2d4_11eb_b1d4_a4b1c1c80437row82_col0\" class=\"data row82 col0\" >$6,422,389.0</td>\n",
       "            </tr>\n",
       "            <tr>\n",
       "                        <th id=\"T_251ee2f4_d2d4_11eb_b1d4_a4b1c1c80437level0_row83\" class=\"row_heading level0 row83\" >Kevan Smith</th>\n",
       "                        <td id=\"T_251ee2f4_d2d4_11eb_b1d4_a4b1c1c80437row83_col0\" class=\"data row83 col0\" >$6,343,397.0</td>\n",
       "            </tr>\n",
       "            <tr>\n",
       "                        <th id=\"T_251ee2f4_d2d4_11eb_b1d4_a4b1c1c80437level0_row84\" class=\"row_heading level0 row84\" >Nate Lowe</th>\n",
       "                        <td id=\"T_251ee2f4_d2d4_11eb_b1d4_a4b1c1c80437row84_col0\" class=\"data row84 col0\" >$6,343,397.0</td>\n",
       "            </tr>\n",
       "            <tr>\n",
       "                        <th id=\"T_251ee2f4_d2d4_11eb_b1d4_a4b1c1c80437level0_row85\" class=\"row_heading level0 row85\" >Cesar Puello</th>\n",
       "                        <td id=\"T_251ee2f4_d2d4_11eb_b1d4_a4b1c1c80437row85_col0\" class=\"data row85 col0\" >$6,343,397.0</td>\n",
       "            </tr>\n",
       "            <tr>\n",
       "                        <th id=\"T_251ee2f4_d2d4_11eb_b1d4_a4b1c1c80437level0_row86\" class=\"row_heading level0 row86\" >Ronny Rodriguez</th>\n",
       "                        <td id=\"T_251ee2f4_d2d4_11eb_b1d4_a4b1c1c80437row86_col0\" class=\"data row86 col0\" >$6,301,847.0</td>\n",
       "            </tr>\n",
       "            <tr>\n",
       "                        <th id=\"T_251ee2f4_d2d4_11eb_b1d4_a4b1c1c80437level0_row87\" class=\"row_heading level0 row87\" >Josh VanMeter</th>\n",
       "                        <td id=\"T_251ee2f4_d2d4_11eb_b1d4_a4b1c1c80437row87_col0\" class=\"data row87 col0\" >$6,195,741.0</td>\n",
       "            </tr>\n",
       "            <tr>\n",
       "                        <th id=\"T_251ee2f4_d2d4_11eb_b1d4_a4b1c1c80437level0_row88\" class=\"row_heading level0 row88\" >Jacob Stallings</th>\n",
       "                        <td id=\"T_251ee2f4_d2d4_11eb_b1d4_a4b1c1c80437row88_col0\" class=\"data row88 col0\" >$6,136,915.0</td>\n",
       "            </tr>\n",
       "            <tr>\n",
       "                        <th id=\"T_251ee2f4_d2d4_11eb_b1d4_a4b1c1c80437level0_row89\" class=\"row_heading level0 row89\" >Joey Gallo</th>\n",
       "                        <td id=\"T_251ee2f4_d2d4_11eb_b1d4_a4b1c1c80437row89_col0\" class=\"data row89 col0\" >$6,088,731.0</td>\n",
       "            </tr>\n",
       "            <tr>\n",
       "                        <th id=\"T_251ee2f4_d2d4_11eb_b1d4_a4b1c1c80437level0_row90\" class=\"row_heading level0 row90\" >Ryan Cordell</th>\n",
       "                        <td id=\"T_251ee2f4_d2d4_11eb_b1d4_a4b1c1c80437row90_col0\" class=\"data row90 col0\" >$5,964,364.0</td>\n",
       "            </tr>\n",
       "            <tr>\n",
       "                        <th id=\"T_251ee2f4_d2d4_11eb_b1d4_a4b1c1c80437level0_row91\" class=\"row_heading level0 row91\" >Ronald Guzman</th>\n",
       "                        <td id=\"T_251ee2f4_d2d4_11eb_b1d4_a4b1c1c80437row91_col0\" class=\"data row91 col0\" >$5,893,773.0</td>\n",
       "            </tr>\n",
       "            <tr>\n",
       "                        <th id=\"T_251ee2f4_d2d4_11eb_b1d4_a4b1c1c80437level0_row92\" class=\"row_heading level0 row92\" >Adam Engel</th>\n",
       "                        <td id=\"T_251ee2f4_d2d4_11eb_b1d4_a4b1c1c80437row92_col0\" class=\"data row92 col0\" >$5,883,758.0</td>\n",
       "            </tr>\n",
       "            <tr>\n",
       "                        <th id=\"T_251ee2f4_d2d4_11eb_b1d4_a4b1c1c80437level0_row93\" class=\"row_heading level0 row93\" >Matt Beaty</th>\n",
       "                        <td id=\"T_251ee2f4_d2d4_11eb_b1d4_a4b1c1c80437row93_col0\" class=\"data row93 col0\" >$5,842,172.0</td>\n",
       "            </tr>\n",
       "            <tr>\n",
       "                        <th id=\"T_251ee2f4_d2d4_11eb_b1d4_a4b1c1c80437level0_row94\" class=\"row_heading level0 row94\" >Tyler Naquin</th>\n",
       "                        <td id=\"T_251ee2f4_d2d4_11eb_b1d4_a4b1c1c80437row94_col0\" class=\"data row94 col0\" >$5,837,521.0</td>\n",
       "            </tr>\n",
       "            <tr>\n",
       "                        <th id=\"T_251ee2f4_d2d4_11eb_b1d4_a4b1c1c80437level0_row95\" class=\"row_heading level0 row95\" >Zack Collins</th>\n",
       "                        <td id=\"T_251ee2f4_d2d4_11eb_b1d4_a4b1c1c80437row95_col0\" class=\"data row95 col0\" >$5,806,015.0</td>\n",
       "            </tr>\n",
       "            <tr>\n",
       "                        <th id=\"T_251ee2f4_d2d4_11eb_b1d4_a4b1c1c80437level0_row96\" class=\"row_heading level0 row96\" >Teoscar Hernandez</th>\n",
       "                        <td id=\"T_251ee2f4_d2d4_11eb_b1d4_a4b1c1c80437row96_col0\" class=\"data row96 col0\" >$5,796,393.0</td>\n",
       "            </tr>\n",
       "            <tr>\n",
       "                        <th id=\"T_251ee2f4_d2d4_11eb_b1d4_a4b1c1c80437level0_row97\" class=\"row_heading level0 row97\" >Luke Maile</th>\n",
       "                        <td id=\"T_251ee2f4_d2d4_11eb_b1d4_a4b1c1c80437row97_col0\" class=\"data row97 col0\" >$5,755,198.0</td>\n",
       "            </tr>\n",
       "            <tr>\n",
       "                        <th id=\"T_251ee2f4_d2d4_11eb_b1d4_a4b1c1c80437level0_row98\" class=\"row_heading level0 row98\" >Rosell Herrera</th>\n",
       "                        <td id=\"T_251ee2f4_d2d4_11eb_b1d4_a4b1c1c80437row98_col0\" class=\"data row98 col0\" >$5,670,764.0</td>\n",
       "            </tr>\n",
       "            <tr>\n",
       "                        <th id=\"T_251ee2f4_d2d4_11eb_b1d4_a4b1c1c80437level0_row99\" class=\"row_heading level0 row99\" >Keon Broxton</th>\n",
       "                        <td id=\"T_251ee2f4_d2d4_11eb_b1d4_a4b1c1c80437row99_col0\" class=\"data row99 col0\" >$5,638,475.0</td>\n",
       "            </tr>\n",
       "            <tr>\n",
       "                        <th id=\"T_251ee2f4_d2d4_11eb_b1d4_a4b1c1c80437level0_row100\" class=\"row_heading level0 row100\" >Lewis Brinson</th>\n",
       "                        <td id=\"T_251ee2f4_d2d4_11eb_b1d4_a4b1c1c80437row100_col0\" class=\"data row100 col0\" >$5,638,475.0</td>\n",
       "            </tr>\n",
       "            <tr>\n",
       "                        <th id=\"T_251ee2f4_d2d4_11eb_b1d4_a4b1c1c80437level0_row101\" class=\"row_heading level0 row101\" >Eric Sogard</th>\n",
       "                        <td id=\"T_251ee2f4_d2d4_11eb_b1d4_a4b1c1c80437row101_col0\" class=\"data row101 col0\" >$5,618,796.0</td>\n",
       "            </tr>\n",
       "            <tr>\n",
       "                        <th id=\"T_251ee2f4_d2d4_11eb_b1d4_a4b1c1c80437level0_row102\" class=\"row_heading level0 row102\" >Garrett Cooper</th>\n",
       "                        <td id=\"T_251ee2f4_d2d4_11eb_b1d4_a4b1c1c80437row102_col0\" class=\"data row102 col0\" >$5,610,900.0</td>\n",
       "            </tr>\n",
       "            <tr>\n",
       "                        <th id=\"T_251ee2f4_d2d4_11eb_b1d4_a4b1c1c80437level0_row103\" class=\"row_heading level0 row103\" >Austin Meadows</th>\n",
       "                        <td id=\"T_251ee2f4_d2d4_11eb_b1d4_a4b1c1c80437row103_col0\" class=\"data row103 col0\" >$5,599,630.0</td>\n",
       "            </tr>\n",
       "            <tr>\n",
       "                        <th id=\"T_251ee2f4_d2d4_11eb_b1d4_a4b1c1c80437level0_row104\" class=\"row_heading level0 row104\" >Yoan Moncada</th>\n",
       "                        <td id=\"T_251ee2f4_d2d4_11eb_b1d4_a4b1c1c80437row104_col0\" class=\"data row104 col0\" >$5,599,630.0</td>\n",
       "            </tr>\n",
       "            <tr>\n",
       "                        <th id=\"T_251ee2f4_d2d4_11eb_b1d4_a4b1c1c80437level0_row105\" class=\"row_heading level0 row105\" >Michael Chavis</th>\n",
       "                        <td id=\"T_251ee2f4_d2d4_11eb_b1d4_a4b1c1c80437row105_col0\" class=\"data row105 col0\" >$5,578,270.0</td>\n",
       "            </tr>\n",
       "            <tr>\n",
       "                        <th id=\"T_251ee2f4_d2d4_11eb_b1d4_a4b1c1c80437level0_row106\" class=\"row_heading level0 row106\" >Tony Kemp</th>\n",
       "                        <td id=\"T_251ee2f4_d2d4_11eb_b1d4_a4b1c1c80437row106_col0\" class=\"data row106 col0\" >$5,563,530.0</td>\n",
       "            </tr>\n",
       "            <tr>\n",
       "                        <th id=\"T_251ee2f4_d2d4_11eb_b1d4_a4b1c1c80437level0_row107\" class=\"row_heading level0 row107\" >Ryon Healy</th>\n",
       "                        <td id=\"T_251ee2f4_d2d4_11eb_b1d4_a4b1c1c80437row107_col0\" class=\"data row107 col0\" >$5,559,982.0</td>\n",
       "            </tr>\n",
       "            <tr>\n",
       "                        <th id=\"T_251ee2f4_d2d4_11eb_b1d4_a4b1c1c80437level0_row108\" class=\"row_heading level0 row108\" >Bubba Starling</th>\n",
       "                        <td id=\"T_251ee2f4_d2d4_11eb_b1d4_a4b1c1c80437row108_col0\" class=\"data row108 col0\" >$5,547,401.0</td>\n",
       "            </tr>\n",
       "            <tr>\n",
       "                        <th id=\"T_251ee2f4_d2d4_11eb_b1d4_a4b1c1c80437level0_row109\" class=\"row_heading level0 row109\" >Raimel Tapia</th>\n",
       "                        <td id=\"T_251ee2f4_d2d4_11eb_b1d4_a4b1c1c80437row109_col0\" class=\"data row109 col0\" >$5,420,941.0</td>\n",
       "            </tr>\n",
       "            <tr>\n",
       "                        <th id=\"T_251ee2f4_d2d4_11eb_b1d4_a4b1c1c80437level0_row110\" class=\"row_heading level0 row110\" >Jordan Luplow</th>\n",
       "                        <td id=\"T_251ee2f4_d2d4_11eb_b1d4_a4b1c1c80437row110_col0\" class=\"data row110 col0\" >$5,219,048.0</td>\n",
       "            </tr>\n",
       "            <tr>\n",
       "                        <th id=\"T_251ee2f4_d2d4_11eb_b1d4_a4b1c1c80437level0_row111\" class=\"row_heading level0 row111\" >Victor Robles</th>\n",
       "                        <td id=\"T_251ee2f4_d2d4_11eb_b1d4_a4b1c1c80437row111_col0\" class=\"data row111 col0\" >$5,197,917.0</td>\n",
       "            </tr>\n",
       "            <tr>\n",
       "                        <th id=\"T_251ee2f4_d2d4_11eb_b1d4_a4b1c1c80437level0_row112\" class=\"row_heading level0 row112\" >Hunter Renfroe</th>\n",
       "                        <td id=\"T_251ee2f4_d2d4_11eb_b1d4_a4b1c1c80437row112_col0\" class=\"data row112 col0\" >$5,189,911.0</td>\n",
       "            </tr>\n",
       "            <tr>\n",
       "                        <th id=\"T_251ee2f4_d2d4_11eb_b1d4_a4b1c1c80437level0_row113\" class=\"row_heading level0 row113\" >Willy Adames</th>\n",
       "                        <td id=\"T_251ee2f4_d2d4_11eb_b1d4_a4b1c1c80437row113_col0\" class=\"data row113 col0\" >$5,189,911.0</td>\n",
       "            </tr>\n",
       "            <tr>\n",
       "                        <th id=\"T_251ee2f4_d2d4_11eb_b1d4_a4b1c1c80437level0_row114\" class=\"row_heading level0 row114\" >Mallex Smith</th>\n",
       "                        <td id=\"T_251ee2f4_d2d4_11eb_b1d4_a4b1c1c80437row114_col0\" class=\"data row114 col0\" >$5,115,741.0</td>\n",
       "            </tr>\n",
       "            <tr>\n",
       "                        <th id=\"T_251ee2f4_d2d4_11eb_b1d4_a4b1c1c80437level0_row115\" class=\"row_heading level0 row115\" >Adalberto Mondesi</th>\n",
       "                        <td id=\"T_251ee2f4_d2d4_11eb_b1d4_a4b1c1c80437row115_col0\" class=\"data row115 col0\" >$5,115,741.0</td>\n",
       "            </tr>\n",
       "            <tr>\n",
       "                        <th id=\"T_251ee2f4_d2d4_11eb_b1d4_a4b1c1c80437level0_row116\" class=\"row_heading level0 row116\" >Derek Fisher</th>\n",
       "                        <td id=\"T_251ee2f4_d2d4_11eb_b1d4_a4b1c1c80437row116_col0\" class=\"data row116 col0\" >$5,090,755.0</td>\n",
       "            </tr>\n",
       "            <tr>\n",
       "                        <th id=\"T_251ee2f4_d2d4_11eb_b1d4_a4b1c1c80437level0_row117\" class=\"row_heading level0 row117\" >Victor Caratini</th>\n",
       "                        <td id=\"T_251ee2f4_d2d4_11eb_b1d4_a4b1c1c80437row117_col0\" class=\"data row117 col0\" >$5,053,138.0</td>\n",
       "            </tr>\n",
       "            <tr>\n",
       "                        <th id=\"T_251ee2f4_d2d4_11eb_b1d4_a4b1c1c80437level0_row118\" class=\"row_heading level0 row118\" >Tyler Austin</th>\n",
       "                        <td id=\"T_251ee2f4_d2d4_11eb_b1d4_a4b1c1c80437row118_col0\" class=\"data row118 col0\" >$5,028,054.0</td>\n",
       "            </tr>\n",
       "            <tr>\n",
       "                        <th id=\"T_251ee2f4_d2d4_11eb_b1d4_a4b1c1c80437level0_row119\" class=\"row_heading level0 row119\" >Adam Frazier</th>\n",
       "                        <td id=\"T_251ee2f4_d2d4_11eb_b1d4_a4b1c1c80437row119_col0\" class=\"data row119 col0\" >$4,802,423.0</td>\n",
       "            </tr>\n",
       "            <tr>\n",
       "                        <th id=\"T_251ee2f4_d2d4_11eb_b1d4_a4b1c1c80437level0_row120\" class=\"row_heading level0 row120\" >Billy McKinney</th>\n",
       "                        <td id=\"T_251ee2f4_d2d4_11eb_b1d4_a4b1c1c80437row120_col0\" class=\"data row120 col0\" >$4,795,519.0</td>\n",
       "            </tr>\n",
       "            <tr>\n",
       "                        <th id=\"T_251ee2f4_d2d4_11eb_b1d4_a4b1c1c80437level0_row121\" class=\"row_heading level0 row121\" >Nick Solak</th>\n",
       "                        <td id=\"T_251ee2f4_d2d4_11eb_b1d4_a4b1c1c80437row121_col0\" class=\"data row121 col0\" >$4,768,079.0</td>\n",
       "            </tr>\n",
       "            <tr>\n",
       "                        <th id=\"T_251ee2f4_d2d4_11eb_b1d4_a4b1c1c80437level0_row122\" class=\"row_heading level0 row122\" >Austin Slater</th>\n",
       "                        <td id=\"T_251ee2f4_d2d4_11eb_b1d4_a4b1c1c80437row122_col0\" class=\"data row122 col0\" >$4,765,912.0</td>\n",
       "            </tr>\n",
       "            <tr>\n",
       "                        <th id=\"T_251ee2f4_d2d4_11eb_b1d4_a4b1c1c80437level0_row123\" class=\"row_heading level0 row123\" >Clint Frazier</th>\n",
       "                        <td id=\"T_251ee2f4_d2d4_11eb_b1d4_a4b1c1c80437row123_col0\" class=\"data row123 col0\" >$4,750,228.0</td>\n",
       "            </tr>\n",
       "            <tr>\n",
       "                        <th id=\"T_251ee2f4_d2d4_11eb_b1d4_a4b1c1c80437level0_row124\" class=\"row_heading level0 row124\" >Dominic Smith</th>\n",
       "                        <td id=\"T_251ee2f4_d2d4_11eb_b1d4_a4b1c1c80437row124_col0\" class=\"data row124 col0\" >$4,653,770.0</td>\n",
       "            </tr>\n",
       "            <tr>\n",
       "                        <th id=\"T_251ee2f4_d2d4_11eb_b1d4_a4b1c1c80437level0_row125\" class=\"row_heading level0 row125\" >Alex Dickerson</th>\n",
       "                        <td id=\"T_251ee2f4_d2d4_11eb_b1d4_a4b1c1c80437row125_col0\" class=\"data row125 col0\" >$4,459,127.0</td>\n",
       "            </tr>\n",
       "            <tr>\n",
       "                        <th id=\"T_251ee2f4_d2d4_11eb_b1d4_a4b1c1c80437level0_row126\" class=\"row_heading level0 row126\" >Andrew Knapp</th>\n",
       "                        <td id=\"T_251ee2f4_d2d4_11eb_b1d4_a4b1c1c80437row126_col0\" class=\"data row126 col0\" >$4,434,199.0</td>\n",
       "            </tr>\n",
       "            <tr>\n",
       "                        <th id=\"T_251ee2f4_d2d4_11eb_b1d4_a4b1c1c80437level0_row127\" class=\"row_heading level0 row127\" >Yonathan Daza</th>\n",
       "                        <td id=\"T_251ee2f4_d2d4_11eb_b1d4_a4b1c1c80437row127_col0\" class=\"data row127 col0\" >$4,419,337.0</td>\n",
       "            </tr>\n",
       "            <tr>\n",
       "                        <th id=\"T_251ee2f4_d2d4_11eb_b1d4_a4b1c1c80437level0_row128\" class=\"row_heading level0 row128\" >Jake Cave</th>\n",
       "                        <td id=\"T_251ee2f4_d2d4_11eb_b1d4_a4b1c1c80437row128_col0\" class=\"data row128 col0\" >$4,150,671.0</td>\n",
       "            </tr>\n",
       "            <tr>\n",
       "                        <th id=\"T_251ee2f4_d2d4_11eb_b1d4_a4b1c1c80437level0_row129\" class=\"row_heading level0 row129\" >Tom Murphy</th>\n",
       "                        <td id=\"T_251ee2f4_d2d4_11eb_b1d4_a4b1c1c80437row129_col0\" class=\"data row129 col0\" >$4,045,502.0</td>\n",
       "            </tr>\n",
       "            <tr>\n",
       "                        <th id=\"T_251ee2f4_d2d4_11eb_b1d4_a4b1c1c80437level0_row130\" class=\"row_heading level0 row130\" >Cole Tucker</th>\n",
       "                        <td id=\"T_251ee2f4_d2d4_11eb_b1d4_a4b1c1c80437row130_col0\" class=\"data row130 col0\" >$4,033,164.0</td>\n",
       "            </tr>\n",
       "            <tr>\n",
       "                        <th id=\"T_251ee2f4_d2d4_11eb_b1d4_a4b1c1c80437level0_row131\" class=\"row_heading level0 row131\" >Austin Nola</th>\n",
       "                        <td id=\"T_251ee2f4_d2d4_11eb_b1d4_a4b1c1c80437row131_col0\" class=\"data row131 col0\" >$3,998,819.0</td>\n",
       "            </tr>\n",
       "            <tr>\n",
       "                        <th id=\"T_251ee2f4_d2d4_11eb_b1d4_a4b1c1c80437level0_row132\" class=\"row_heading level0 row132\" >Luis Arraez</th>\n",
       "                        <td id=\"T_251ee2f4_d2d4_11eb_b1d4_a4b1c1c80437row132_col0\" class=\"data row132 col0\" >$3,927,685.0</td>\n",
       "            </tr>\n",
       "            <tr>\n",
       "                        <th id=\"T_251ee2f4_d2d4_11eb_b1d4_a4b1c1c80437level0_row133\" class=\"row_heading level0 row133\" >Mike Brosseau</th>\n",
       "                        <td id=\"T_251ee2f4_d2d4_11eb_b1d4_a4b1c1c80437row133_col0\" class=\"data row133 col0\" >$3,834,878.0</td>\n",
       "            </tr>\n",
       "            <tr>\n",
       "                        <th id=\"T_251ee2f4_d2d4_11eb_b1d4_a4b1c1c80437level0_row134\" class=\"row_heading level0 row134\" >Ryan O'Hearn</th>\n",
       "                        <td id=\"T_251ee2f4_d2d4_11eb_b1d4_a4b1c1c80437row134_col0\" class=\"data row134 col0\" >$3,814,552.0</td>\n",
       "            </tr>\n",
       "            <tr>\n",
       "                        <th id=\"T_251ee2f4_d2d4_11eb_b1d4_a4b1c1c80437level0_row135\" class=\"row_heading level0 row135\" >Josh Rojas</th>\n",
       "                        <td id=\"T_251ee2f4_d2d4_11eb_b1d4_a4b1c1c80437row135_col0\" class=\"data row135 col0\" >$3,759,663.0</td>\n",
       "            </tr>\n",
       "            <tr>\n",
       "                        <th id=\"T_251ee2f4_d2d4_11eb_b1d4_a4b1c1c80437level0_row136\" class=\"row_heading level0 row136\" >Sean Rodriguez</th>\n",
       "                        <td id=\"T_251ee2f4_d2d4_11eb_b1d4_a4b1c1c80437row136_col0\" class=\"data row136 col0\" >$3,598,746.0</td>\n",
       "            </tr>\n",
       "            <tr>\n",
       "                        <th id=\"T_251ee2f4_d2d4_11eb_b1d4_a4b1c1c80437level0_row137\" class=\"row_heading level0 row137\" >Tim Lopes</th>\n",
       "                        <td id=\"T_251ee2f4_d2d4_11eb_b1d4_a4b1c1c80437row137_col0\" class=\"data row137 col0\" >$3,582,338.0</td>\n",
       "            </tr>\n",
       "            <tr>\n",
       "                        <th id=\"T_251ee2f4_d2d4_11eb_b1d4_a4b1c1c80437level0_row138\" class=\"row_heading level0 row138\" >Richie Martin</th>\n",
       "                        <td id=\"T_251ee2f4_d2d4_11eb_b1d4_a4b1c1c80437row138_col0\" class=\"data row138 col0\" >$3,515,181.0</td>\n",
       "            </tr>\n",
       "            <tr>\n",
       "                        <th id=\"T_251ee2f4_d2d4_11eb_b1d4_a4b1c1c80437level0_row139\" class=\"row_heading level0 row139\" >Trent Grisham</th>\n",
       "                        <td id=\"T_251ee2f4_d2d4_11eb_b1d4_a4b1c1c80437row139_col0\" class=\"data row139 col0\" >$3,506,779.0</td>\n",
       "            </tr>\n",
       "            <tr>\n",
       "                        <th id=\"T_251ee2f4_d2d4_11eb_b1d4_a4b1c1c80437level0_row140\" class=\"row_heading level0 row140\" >Steven Duggar</th>\n",
       "                        <td id=\"T_251ee2f4_d2d4_11eb_b1d4_a4b1c1c80437row140_col0\" class=\"data row140 col0\" >$3,473,984.0</td>\n",
       "            </tr>\n",
       "            <tr>\n",
       "                        <th id=\"T_251ee2f4_d2d4_11eb_b1d4_a4b1c1c80437level0_row141\" class=\"row_heading level0 row141\" >Garrett Hampson</th>\n",
       "                        <td id=\"T_251ee2f4_d2d4_11eb_b1d4_a4b1c1c80437row141_col0\" class=\"data row141 col0\" >$3,434,074.0</td>\n",
       "            </tr>\n",
       "            <tr>\n",
       "                        <th id=\"T_251ee2f4_d2d4_11eb_b1d4_a4b1c1c80437level0_row142\" class=\"row_heading level0 row142\" >Elias Diaz</th>\n",
       "                        <td id=\"T_251ee2f4_d2d4_11eb_b1d4_a4b1c1c80437row142_col0\" class=\"data row142 col0\" >$3,427,185.0</td>\n",
       "            </tr>\n",
       "            <tr>\n",
       "                        <th id=\"T_251ee2f4_d2d4_11eb_b1d4_a4b1c1c80437level0_row143\" class=\"row_heading level0 row143\" >Tyler White</th>\n",
       "                        <td id=\"T_251ee2f4_d2d4_11eb_b1d4_a4b1c1c80437row143_col0\" class=\"data row143 col0\" >$3,358,678.0</td>\n",
       "            </tr>\n",
       "            <tr>\n",
       "                        <th id=\"T_251ee2f4_d2d4_11eb_b1d4_a4b1c1c80437level0_row144\" class=\"row_heading level0 row144\" >Will Smith</th>\n",
       "                        <td id=\"T_251ee2f4_d2d4_11eb_b1d4_a4b1c1c80437row144_col0\" class=\"data row144 col0\" >$3,354,630.0</td>\n",
       "            </tr>\n",
       "            <tr>\n",
       "                        <th id=\"T_251ee2f4_d2d4_11eb_b1d4_a4b1c1c80437level0_row145\" class=\"row_heading level0 row145\" >Shed Long</th>\n",
       "                        <td id=\"T_251ee2f4_d2d4_11eb_b1d4_a4b1c1c80437row145_col0\" class=\"data row145 col0\" >$3,318,796.0</td>\n",
       "            </tr>\n",
       "            <tr>\n",
       "                        <th id=\"T_251ee2f4_d2d4_11eb_b1d4_a4b1c1c80437level0_row146\" class=\"row_heading level0 row146\" >Tyler Wade</th>\n",
       "                        <td id=\"T_251ee2f4_d2d4_11eb_b1d4_a4b1c1c80437row146_col0\" class=\"data row146 col0\" >$3,268,352.0</td>\n",
       "            </tr>\n",
       "            <tr>\n",
       "                        <th id=\"T_251ee2f4_d2d4_11eb_b1d4_a4b1c1c80437level0_row147\" class=\"row_heading level0 row147\" >Joey Rickard</th>\n",
       "                        <td id=\"T_251ee2f4_d2d4_11eb_b1d4_a4b1c1c80437row147_col0\" class=\"data row147 col0\" >$3,257,460.0</td>\n",
       "            </tr>\n",
       "            <tr>\n",
       "                        <th id=\"T_251ee2f4_d2d4_11eb_b1d4_a4b1c1c80437level0_row148\" class=\"row_heading level0 row148\" >Nicky Lopez</th>\n",
       "                        <td id=\"T_251ee2f4_d2d4_11eb_b1d4_a4b1c1c80437row148_col0\" class=\"data row148 col0\" >$3,198,737.0</td>\n",
       "            </tr>\n",
       "            <tr>\n",
       "                        <th id=\"T_251ee2f4_d2d4_11eb_b1d4_a4b1c1c80437level0_row149\" class=\"row_heading level0 row149\" >Matt Thaiss</th>\n",
       "                        <td id=\"T_251ee2f4_d2d4_11eb_b1d4_a4b1c1c80437row149_col0\" class=\"data row149 col0\" >$3,124,440.0</td>\n",
       "            </tr>\n",
       "            <tr>\n",
       "                        <th id=\"T_251ee2f4_d2d4_11eb_b1d4_a4b1c1c80437level0_row150\" class=\"row_heading level0 row150\" >Nick Williams</th>\n",
       "                        <td id=\"T_251ee2f4_d2d4_11eb_b1d4_a4b1c1c80437row150_col0\" class=\"data row150 col0\" >$3,123,148.0</td>\n",
       "            </tr>\n",
       "            <tr>\n",
       "                        <th id=\"T_251ee2f4_d2d4_11eb_b1d4_a4b1c1c80437level0_row151\" class=\"row_heading level0 row151\" >Max Stassi</th>\n",
       "                        <td id=\"T_251ee2f4_d2d4_11eb_b1d4_a4b1c1c80437row151_col0\" class=\"data row151 col0\" >$3,123,148.0</td>\n",
       "            </tr>\n",
       "            <tr>\n",
       "                        <th id=\"T_251ee2f4_d2d4_11eb_b1d4_a4b1c1c80437level0_row152\" class=\"row_heading level0 row152\" >Jake Rogers</th>\n",
       "                        <td id=\"T_251ee2f4_d2d4_11eb_b1d4_a4b1c1c80437row152_col0\" class=\"data row152 col0\" >$3,123,148.0</td>\n",
       "            </tr>\n",
       "            <tr>\n",
       "                        <th id=\"T_251ee2f4_d2d4_11eb_b1d4_a4b1c1c80437level0_row153\" class=\"row_heading level0 row153\" >Travis Demeritte</th>\n",
       "                        <td id=\"T_251ee2f4_d2d4_11eb_b1d4_a4b1c1c80437row153_col0\" class=\"data row153 col0\" >$3,108,329.0</td>\n",
       "            </tr>\n",
       "            <tr>\n",
       "                        <th id=\"T_251ee2f4_d2d4_11eb_b1d4_a4b1c1c80437level0_row154\" class=\"row_heading level0 row154\" >Joey Wendle</th>\n",
       "                        <td id=\"T_251ee2f4_d2d4_11eb_b1d4_a4b1c1c80437row154_col0\" class=\"data row154 col0\" >$3,108,329.0</td>\n",
       "            </tr>\n",
       "            <tr>\n",
       "                        <th id=\"T_251ee2f4_d2d4_11eb_b1d4_a4b1c1c80437level0_row155\" class=\"row_heading level0 row155\" >Greg Allen</th>\n",
       "                        <td id=\"T_251ee2f4_d2d4_11eb_b1d4_a4b1c1c80437row155_col0\" class=\"data row155 col0\" >$3,108,329.0</td>\n",
       "            </tr>\n",
       "            <tr>\n",
       "                        <th id=\"T_251ee2f4_d2d4_11eb_b1d4_a4b1c1c80437level0_row156\" class=\"row_heading level0 row156\" >Kyle Farmer</th>\n",
       "                        <td id=\"T_251ee2f4_d2d4_11eb_b1d4_a4b1c1c80437row156_col0\" class=\"data row156 col0\" >$3,108,144.0</td>\n",
       "            </tr>\n",
       "            <tr>\n",
       "                        <th id=\"T_251ee2f4_d2d4_11eb_b1d4_a4b1c1c80437level0_row157\" class=\"row_heading level0 row157\" >DJ Stewart</th>\n",
       "                        <td id=\"T_251ee2f4_d2d4_11eb_b1d4_a4b1c1c80437row157_col0\" class=\"data row157 col0\" >$3,079,996.0</td>\n",
       "            </tr>\n",
       "            <tr>\n",
       "                        <th id=\"T_251ee2f4_d2d4_11eb_b1d4_a4b1c1c80437level0_row158\" class=\"row_heading level0 row158\" >Sam Travis</th>\n",
       "                        <td id=\"T_251ee2f4_d2d4_11eb_b1d4_a4b1c1c80437row158_col0\" class=\"data row158 col0\" >$3,026,529.0</td>\n",
       "            </tr>\n",
       "            <tr>\n",
       "                        <th id=\"T_251ee2f4_d2d4_11eb_b1d4_a4b1c1c80437level0_row159\" class=\"row_heading level0 row159\" >JT Riddle</th>\n",
       "                        <td id=\"T_251ee2f4_d2d4_11eb_b1d4_a4b1c1c80437row159_col0\" class=\"data row159 col0\" >$3,020,644.0</td>\n",
       "            </tr>\n",
       "            <tr>\n",
       "                        <th id=\"T_251ee2f4_d2d4_11eb_b1d4_a4b1c1c80437level0_row160\" class=\"row_heading level0 row160\" >Willians Astudillo</th>\n",
       "                        <td id=\"T_251ee2f4_d2d4_11eb_b1d4_a4b1c1c80437row160_col0\" class=\"data row160 col0\" >$3,013,699.0</td>\n",
       "            </tr>\n",
       "            <tr>\n",
       "                        <th id=\"T_251ee2f4_d2d4_11eb_b1d4_a4b1c1c80437level0_row161\" class=\"row_heading level0 row161\" >Isan Diaz</th>\n",
       "                        <td id=\"T_251ee2f4_d2d4_11eb_b1d4_a4b1c1c80437row161_col0\" class=\"data row161 col0\" >$2,944,804.0</td>\n",
       "            </tr>\n",
       "            <tr>\n",
       "                        <th id=\"T_251ee2f4_d2d4_11eb_b1d4_a4b1c1c80437level0_row162\" class=\"row_heading level0 row162\" >Gordon Beckham</th>\n",
       "                        <td id=\"T_251ee2f4_d2d4_11eb_b1d4_a4b1c1c80437row162_col0\" class=\"data row162 col0\" >$2,860,083.0</td>\n",
       "            </tr>\n",
       "            <tr>\n",
       "                        <th id=\"T_251ee2f4_d2d4_11eb_b1d4_a4b1c1c80437level0_row163\" class=\"row_heading level0 row163\" >Danny Jansen</th>\n",
       "                        <td id=\"T_251ee2f4_d2d4_11eb_b1d4_a4b1c1c80437row163_col0\" class=\"data row163 col0\" >$2,849,658.0</td>\n",
       "            </tr>\n",
       "            <tr>\n",
       "                        <th id=\"T_251ee2f4_d2d4_11eb_b1d4_a4b1c1c80437level0_row164\" class=\"row_heading level0 row164\" >Roman Quinn</th>\n",
       "                        <td id=\"T_251ee2f4_d2d4_11eb_b1d4_a4b1c1c80437row164_col0\" class=\"data row164 col0\" >$2,681,238.0</td>\n",
       "            </tr>\n",
       "            <tr>\n",
       "                        <th id=\"T_251ee2f4_d2d4_11eb_b1d4_a4b1c1c80437level0_row165\" class=\"row_heading level0 row165\" >John Hicks</th>\n",
       "                        <td id=\"T_251ee2f4_d2d4_11eb_b1d4_a4b1c1c80437row165_col0\" class=\"data row165 col0\" >$2,668,255.0</td>\n",
       "            </tr>\n",
       "            <tr>\n",
       "                        <th id=\"T_251ee2f4_d2d4_11eb_b1d4_a4b1c1c80437level0_row166\" class=\"row_heading level0 row166\" >Daniel Robertson</th>\n",
       "                        <td id=\"T_251ee2f4_d2d4_11eb_b1d4_a4b1c1c80437row166_col0\" class=\"data row166 col0\" >$2,633,042.0</td>\n",
       "            </tr>\n",
       "            <tr>\n",
       "                        <th id=\"T_251ee2f4_d2d4_11eb_b1d4_a4b1c1c80437level0_row167\" class=\"row_heading level0 row167\" >Mauricio Dubon</th>\n",
       "                        <td id=\"T_251ee2f4_d2d4_11eb_b1d4_a4b1c1c80437row167_col0\" class=\"data row167 col0\" >$2,605,116.0</td>\n",
       "            </tr>\n",
       "            <tr>\n",
       "                        <th id=\"T_251ee2f4_d2d4_11eb_b1d4_a4b1c1c80437level0_row168\" class=\"row_heading level0 row168\" >Ty France</th>\n",
       "                        <td id=\"T_251ee2f4_d2d4_11eb_b1d4_a4b1c1c80437row168_col0\" class=\"data row168 col0\" >$2,603,070.0</td>\n",
       "            </tr>\n",
       "            <tr>\n",
       "                        <th id=\"T_251ee2f4_d2d4_11eb_b1d4_a4b1c1c80437level0_row169\" class=\"row_heading level0 row169\" >Austin Barnes</th>\n",
       "                        <td id=\"T_251ee2f4_d2d4_11eb_b1d4_a4b1c1c80437row169_col0\" class=\"data row169 col0\" >$2,485,031.0</td>\n",
       "            </tr>\n",
       "            <tr>\n",
       "                        <th id=\"T_251ee2f4_d2d4_11eb_b1d4_a4b1c1c80437level0_row170\" class=\"row_heading level0 row170\" >Mike Ford</th>\n",
       "                        <td id=\"T_251ee2f4_d2d4_11eb_b1d4_a4b1c1c80437row170_col0\" class=\"data row170 col0\" >$2,454,365.0</td>\n",
       "            </tr>\n",
       "            <tr>\n",
       "                        <th id=\"T_251ee2f4_d2d4_11eb_b1d4_a4b1c1c80437level0_row171\" class=\"row_heading level0 row171\" >Luis Urias</th>\n",
       "                        <td id=\"T_251ee2f4_d2d4_11eb_b1d4_a4b1c1c80437row171_col0\" class=\"data row171 col0\" >$2,272,218.0</td>\n",
       "            </tr>\n",
       "            <tr>\n",
       "                        <th id=\"T_251ee2f4_d2d4_11eb_b1d4_a4b1c1c80437level0_row172\" class=\"row_heading level0 row172\" >Francisco Mejia</th>\n",
       "                        <td id=\"T_251ee2f4_d2d4_11eb_b1d4_a4b1c1c80437row172_col0\" class=\"data row172 col0\" >$2,174,352.0</td>\n",
       "            </tr>\n",
       "            <tr>\n",
       "                        <th id=\"T_251ee2f4_d2d4_11eb_b1d4_a4b1c1c80437level0_row173\" class=\"row_heading level0 row173\" >Pablo Reyes</th>\n",
       "                        <td id=\"T_251ee2f4_d2d4_11eb_b1d4_a4b1c1c80437row173_col0\" class=\"data row173 col0\" >$2,160,668.0</td>\n",
       "            </tr>\n",
       "            <tr>\n",
       "                        <th id=\"T_251ee2f4_d2d4_11eb_b1d4_a4b1c1c80437level0_row174\" class=\"row_heading level0 row174\" >Amed Rosario</th>\n",
       "                        <td id=\"T_251ee2f4_d2d4_11eb_b1d4_a4b1c1c80437row174_col0\" class=\"data row174 col0\" >$2,140,741.0</td>\n",
       "            </tr>\n",
       "    </tbody></table>"
      ],
      "text/plain": [
       "<pandas.io.formats.style.Styler at 0x1d06ade9dc0>"
      ]
     },
     "execution_count": 178,
     "metadata": {},
     "output_type": "execute_result"
    }
   ],
   "source": [
    "rookie_predictions.set_index('Name').sort_values(by=0, ascending=False).style.format(\"${:,}\")"
   ]
  }
 ],
 "metadata": {
  "kernelspec": {
   "display_name": "Python 3",
   "language": "python",
   "name": "python3"
  },
  "language_info": {
   "codemirror_mode": {
    "name": "ipython",
    "version": 3
   },
   "file_extension": ".py",
   "mimetype": "text/x-python",
   "name": "python",
   "nbconvert_exporter": "python",
   "pygments_lexer": "ipython3",
   "version": "3.8.5"
  }
 },
 "nbformat": 4,
 "nbformat_minor": 4
}
